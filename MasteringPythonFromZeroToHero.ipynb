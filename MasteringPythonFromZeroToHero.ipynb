{
 "cells": [
  {
   "cell_type": "code",
   "execution_count": 17,
   "id": "78896c31",
   "metadata": {},
   "outputs": [
    {
     "name": "stdout",
     "output_type": "stream",
     "text": [
      "Hey my name  is satyam \"my father name is Satyendra\"\n",
      "and I love to code\n"
     ]
    }
   ],
   "source": [
    ".\n",
    "\n",
    "print('Hey my name  is satyam \\\"my father name is Satyendra\\\"\\nand I love to code')\n"
   ]
  },
  {
   "cell_type": "code",
   "execution_count": 27,
   "id": "b2697870",
   "metadata": {},
   "outputs": [
    {
     "name": "stdout",
     "output_type": "stream",
     "text": [
      "Hey satyam~54~85558\n",
      "Satyam\n"
     ]
    }
   ],
   "source": [
    "print(\"Hey satyam\",54,85, sep=\"~\", end=\"558\\n\")\n",
    "print(\"Satyam\")"
   ]
  },
  {
   "cell_type": "markdown",
   "id": "9677871d",
   "metadata": {},
   "source": [
    "# Variables and Data Types"
   ]
  },
  {
   "cell_type": "code",
   "execution_count": 39,
   "id": "ef100576",
   "metadata": {},
   "outputs": [
    {
     "name": "stdout",
     "output_type": "stream",
     "text": [
      "123456789\n"
     ]
    },
    {
     "data": {
      "text/plain": [
       "str"
      ]
     },
     "execution_count": 39,
     "metadata": {},
     "output_type": "execute_result"
    }
   ],
   "source": [
    "a = 123456789   #Variable is like a container that holds data.\n",
    "print(a) \n",
    "b = \"Satyam\"\n",
    "type(b)"
   ]
  },
  {
   "cell_type": "code",
   "execution_count": 20,
   "id": "4d8ae65d",
   "metadata": {},
   "outputs": [
    {
     "name": "stdout",
     "output_type": "stream",
     "text": [
      "The type of a,b,c,d <class 'int'>\n",
      "The type of a,b,c,d <class 'str'>\n",
      "The type of a,b,c,d <class 'float'>\n",
      "The type of a,b,c,d <class 'bool'>\n",
      "The type of a,b,c,d <class 'complex'>\n"
     ]
    }
   ],
   "source": [
    "a = 1                #Data Types : Data Types specifies the type of variable holds \n",
    "b = (\"Satyam\")\n",
    "c = 52.56= \n",
    "d = True\n",
    "e = complex(8, 2)\n",
    "print(\"The type of a\", type(a))\n",
    "print(\"The type of b\", type(b))\n",
    "print(\"The type of c\", type(c))\n",
    "print(\"The type of d\", type(d))\n",
    "print(\"The type of e\", type(e))\n",
    "\n"
   ]
  },
  {
   "cell_type": "markdown",
   "id": "cfb1ea54",
   "metadata": {},
   "source": [
    "# Sequenced Data: List,Tuple"
   ]
  },
  {
   "cell_type": "code",
   "execution_count": 59,
   "id": "a9f78580",
   "metadata": {},
   "outputs": [
    {
     "name": "stdout",
     "output_type": "stream",
     "text": [
      "[8, 2.3, [-4, 5], ['Satyam', 'Himanshu', 'Priyanshu']]\n"
     ]
    }
   ],
   "source": [
    "list1 = [8, 2.3, [-4, 5], [\"Satyam\", \"Himanshu\",\"Priyanshu\"]]\n",
    "print(list1)  #List: A list is an ordered collection of data with elements separated by\n",
    "             #a comma and enclosed within square brackets.\n",
    "             #It is mutuable."
   ]
  },
  {
   "cell_type": "code",
   "execution_count": 1,
   "id": "4a154d7d",
   "metadata": {},
   "outputs": [
    {
     "name": "stdout",
     "output_type": "stream",
     "text": [
      "(('Satyam', 'priyanshu', 'Himanshu'), ('Avnish', 'Prashant'))\n"
     ]
    }
   ],
   "source": [
    "tuple = ((\"Satyam\",\"priyanshu\",\"Himanshu\"),(\"Avnish\",\"Prashant\"))\n",
    "print(tuple)   #Tuple: Ordered collection of data with elements seprated by\n",
    "               #comma and enclosed with parenthesis.\n",
    "               #It is Immutable."
   ]
  },
  {
   "cell_type": "markdown",
   "id": "2ccd6f4a",
   "metadata": {},
   "source": [
    "# Mapped Data: Dictionary"
   ]
  },
  {
   "cell_type": "code",
   "execution_count": 11,
   "id": "25aceeee",
   "metadata": {},
   "outputs": [
    {
     "name": "stdout",
     "output_type": "stream",
     "text": [
      "{'Name': 'Satyam', 'Age': 21, 'I can Vote': True}\n"
     ]
    }
   ],
   "source": [
    "dict = {\"Name\": \"Satyam\",\"Age\":21, \"I can Vote\": True}\n",
    "print(dict)   #Mapped Data - Dictionary: It is an unordered collection of data containing\n",
    "              #a key value pair.."
   ]
  },
  {
   "cell_type": "markdown",
   "id": "58486df1",
   "metadata": {},
   "source": [
    "# Arithmetic Operators"
   ]
  },
  {
   "cell_type": "code",
   "execution_count": 14,
   "id": "99321b7e",
   "metadata": {},
   "outputs": [
    {
     "name": "stdout",
     "output_type": "stream",
     "text": [
      "11\n",
      "10\n",
      "30\n",
      "2.5\n",
      "3\n",
      "1\n",
      "125\n"
     ]
    }
   ],
   "source": [
    "print(5+6)    #Addition\n",
    "print(20-10)  #Subtraction\n",
    "print(5*6)    #Multiplication\n",
    "print(15/6)   #Division\n",
    "print(16//5)  #Modulus\n",
    "print(10%3)   #Floor Divison\n",
    "print(5**3)   #Exponential"
   ]
  },
  {
   "cell_type": "markdown",
   "id": "3f96a852",
   "metadata": {},
   "source": [
    "# Program 1: Create a Calculator"
   ]
  },
  {
   "cell_type": "code",
   "execution_count": 17,
   "id": "c3aaeeb7",
   "metadata": {},
   "outputs": [
    {
     "name": "stdout",
     "output_type": "stream",
     "text": [
      "The value of 50 + 2 is:  52\n",
      "The value of 50 - 2 is:  48\n",
      "The value of 50 * 2 is:  100\n",
      "The value of 50 / 2 is:  25.0\n"
     ]
    }
   ],
   "source": [
    "a = 50\n",
    "b = 2\n",
    "\n",
    "print(\"The value of\", a, \"+\", b, \"is: \", a+b)\n",
    "print(\"The value of\", a, \"-\", b, \"is: \", a-b)\n",
    "print(\"The value of\", a, \"*\", b, \"is: \", a*b)\n",
    "print(\"The value of\", a, \"/\", b, \"is: \", a/b)"
   ]
  },
  {
   "cell_type": "markdown",
   "id": "dd132731",
   "metadata": {},
   "source": [
    "# Type Casting"
   ]
  },
  {
   "cell_type": "code",
   "execution_count": 23,
   "id": "b95f642e",
   "metadata": {},
   "outputs": [
    {
     "name": "stdout",
     "output_type": "stream",
     "text": [
      "6\n",
      "6\n"
     ]
    }
   ],
   "source": [
    "a = 1     #Typecasting: Conversion of one data type into the other data\n",
    "#a = \"1\"  #data type is known as Type Casting.\n",
    "b = 5\n",
    "#b = \"5\"\n",
    "print(a+b)d \n"
   ]
  },
  {
   "cell_type": "markdown",
   "id": "e75ea36c",
   "metadata": {},
   "source": [
    "# Two Types of Type casting"
   ]
  },
  {
   "cell_type": "markdown",
   "id": "02b012ba",
   "metadata": {},
   "source": [
    "1. Explicit Conversion"
   ]
  },
  {
   "cell_type": "code",
   "execution_count": 30,
   "id": "17b902a4",
   "metadata": {},
   "outputs": [
    {
     "name": "stdout",
     "output_type": "stream",
     "text": [
      "29\n"
     ]
    }
   ],
   "source": [
    "a = \"15\"   #Explicit Conversion: Conversion of one data type to another manually as per requirements.\n",
    "b = 14\n",
    "print(int(a)+int(b))"
   ]
  },
  {
   "cell_type": "markdown",
   "id": "3fda812a",
   "metadata": {},
   "source": [
    "2. Implicit Conversion"
   ]
  },
  {
   "cell_type": "code",
   "execution_count": 33,
   "id": "5670ebcf",
   "metadata": {},
   "outputs": [
    {
     "name": "stdout",
     "output_type": "stream",
     "text": [
      "<class 'int'>\n",
      "<class 'float'>\n",
      "15.8\n",
      "<class 'float'>\n"
     ]
    }
   ],
   "source": [
    "#Python automatically converts a into Int      #Data type is converted into other by the python interpreter itself. \n",
    "a = 10                                         #This is called Implicit Conversion.\n",
    "print(type(a))\n",
    "\n",
    "#Python automatically converts b to float\n",
    "b = 5.8\n",
    "print(type(b))\n",
    "\n",
    "#Python automatically converts c to float\n",
    "#as it is a float addition\n",
    "c = a+b\n",
    "print(c)\n",
    "print(type(c))\n"
   ]
  },
  {
   "cell_type": "markdown",
   "id": "c5aca859",
   "metadata": {},
   "source": [
    "# Taking User Input in Python"
   ]
  },
  {
   "cell_type": "code",
   "execution_count": 1,
   "id": "2f268b22",
   "metadata": {},
   "outputs": [
    {
     "name": "stdout",
     "output_type": "stream",
     "text": [
      "Enter your name: Satyam Satsangii\n",
      "My name is Satyam Satsangii\n"
     ]
    }
   ],
   "source": [
    "a = input(\"Enter your name: \")\n",
    "print(\"My name is\", a)"
   ]
  },
  {
   "cell_type": "code",
   "execution_count": 1,
   "id": "0975f428",
   "metadata": {},
   "outputs": [
    {
     "name": "stdout",
     "output_type": "stream",
     "text": [
      "Enter first number: 10\n",
      "Enter second number: 20\n",
      "1020\n",
      "30\n"
     ]
    }
   ],
   "source": [
    "x = input(\"Enter first number: \")    #We can take user input directly by using input()function.\n",
    "y = input(\"Enter second number: \")   #This input function gives a return value as string/character hence we have to pass that \n",
    "print(x + y)                         # into a variable.\n",
    "print(int(x) + int(y))               # Syntax: variable=input()"
   ]
  },
  {
   "cell_type": "markdown",
   "id": "2508a6ea",
   "metadata": {},
   "source": [
    "# Strings"
   ]
  },
  {
   "cell_type": "markdown",
   "id": "516e9fea",
   "metadata": {},
   "source": [
    "In Python anything that you enclose between single or double quotation marks is called String."
   ]
  },
  {
   "cell_type": "code",
   "execution_count": 19,
   "id": "bb48c319",
   "metadata": {},
   "outputs": [
    {
     "name": "stdout",
     "output_type": "stream",
     "text": [
      "Satyam\n",
      "Himanshu and Priyanshu chauhan\n"
     ]
    }
   ],
   "source": [
    "name = \"Satyam\"\n",
    "friend = \"Himanshu and Priyanshu chauhan\"\n",
    "print(name)\n",
    "print(friend)"
   ]
  },
  {
   "cell_type": "markdown",
   "id": "373f133e",
   "metadata": {},
   "source": [
    "* Multiline Strings:If our String has multiple lines, we can create like this by doing triple quotes in the starting and at the end."
   ]
  },
  {
   "cell_type": "code",
   "execution_count": 25,
   "id": "d54c453d",
   "metadata": {
    "scrolled": true
   },
   "outputs": [
    {
     "name": "stdout",
     "output_type": "stream",
     "text": [
      "My name is Satyam Satsangii , I am from bihar jamui \"I love to do Coding\n"
     ]
    }
   ],
   "source": [
    "Me = '''My name is Satyam Satsangii , I am from bihar jamui \"I love to do Coding'''\n",
    "print(Me)   "
   ]
  },
  {
   "cell_type": "code",
   "execution_count": null,
   "id": "10133a55",
   "metadata": {},
   "outputs": [],
   "source": [
    "In Python,String is like an array of characters.\n",
    "#Array -  Homogenous Collection of items is known as Array.\n",
    "We can access parts of strings by using its index which starts from 0 which is known as Indexing.\n",
    "\n",
    "Square brackets can be used to access elements of String."
   ]
  },
  {
   "cell_type": "code",
   "execution_count": 29,
   "id": "fdc0b5c0",
   "metadata": {},
   "outputs": [
    {
     "name": "stdout",
     "output_type": "stream",
     "text": [
      "Satyam\n",
      "S\n",
      "a\n",
      "t\n"
     ]
    }
   ],
   "source": [
    "name = \"Satyam\"   #Indexing\n",
    "print(name)\n",
    "print(name[0])\n",
    "print(name[1])\n",
    "print(name[2])"
   ]
  },
  {
   "cell_type": "markdown",
   "id": "b5e894ad",
   "metadata": {},
   "source": [
    "Looping Through the String (For Loop)"
   ]
  },
  {
   "cell_type": "code",
   "execution_count": 3,
   "id": "d5932c56",
   "metadata": {},
   "outputs": [
    {
     "name": "stdout",
     "output_type": "stream",
     "text": [
      "Let's use a for loop\n",
      "\n",
      "S\n",
      "a\n",
      "t\n",
      "y\n",
      "a\n",
      "m\n"
     ]
    }
   ],
   "source": [
    "print(\"Let's use a for loop\\n\")\n",
    "name = \"Satyam\"\n",
    "for character in name:\n",
    "    print(character)"
   ]
  },
  {
   "cell_type": "markdown",
   "id": "7394e7b2",
   "metadata": {},
   "source": [
    "# String Slicing and Operations on Strings."
   ]
  },
  {
   "cell_type": "markdown",
   "id": "f6baaedb",
   "metadata": {},
   "source": [
    "Length of a String using: We can find the length of a String using len() function. for eg;"
   ]
  },
  {
   "cell_type": "code",
   "execution_count": 38,
   "id": "b044a148",
   "metadata": {},
   "outputs": [
    {
     "name": "stdout",
     "output_type": "stream",
     "text": [
      "17\n",
      "20\n"
     ]
    }
   ],
   "source": [
    "names = \"Satyam, Priyanshu\"     #Length of a String\n",
    "print(len(names))\n",
    "himanshu = \"Himanshu is bakchoda\"\n",
    "print(len(himanshu))"
   ]
  },
  {
   "cell_type": "markdown",
   "id": "570ec78e",
   "metadata": {},
   "source": [
    "*Slicing: The method of specifying the start end index to specify a part of a string is called Slicing.\n",
    "A String is essentially a sequence of characters aslo called array. "
   ]
  },
  {
   "cell_type": "code",
   "execution_count": 3,
   "id": "9b97f51f",
   "metadata": {},
   "outputs": [
    {
     "name": "stdout",
     "output_type": "stream",
     "text": [
      "6\n",
      "Satyam\n",
      "atya\n",
      "Satyam\n",
      "Sat\n",
      "ya\n",
      "\n"
     ]
    }
   ],
   "source": [
    "name = \"Satyam\"\n",
    "print(len(name))\n",
    "print(name[0:6])    #including 0 but not 4\n",
    "print(name[1:5])    #Including 1 but not 4\n",
    "print(name[:8]) \n",
    "print(name[0:-3])   #print(name[0:len(name)-3])\n",
    "print(name[-3:-1])   #2:4\n",
    "print(name[2:1])"
   ]
  },
  {
   "cell_type": "code",
   "execution_count": 13,
   "id": "f8448b86",
   "metadata": {},
   "outputs": [
    {
     "name": "stdout",
     "output_type": "stream",
     "text": [
      "A\n",
      "B\n",
      "C\n"
     ]
    }
   ],
   "source": [
    "alphabets = \"ABC\"\n",
    "for s in alphabets:\n",
    "    print(s)  Print"
   ]
  },
  {
   "cell_type": "code",
   "execution_count": 9,
   "id": "d355b1a7",
   "metadata": {},
   "outputs": [
    {
     "name": "stdout",
     "output_type": "stream",
     "text": [
      "6\n",
      "ya\n"
     ]
    }
   ],
   "source": [
    "name = \"Satyam\"\n",
    "print(len(name))\n",
    "print(name[-3:-1])  #3:4"
   ]
  },
  {
   "cell_type": "code",
   "execution_count": 7,
   "id": "0acbaf2a",
   "metadata": {},
   "outputs": [
    {
     "name": "stdout",
     "output_type": "stream",
     "text": [
      "5\n",
      "ar\n"
     ]
    }
   ],
   "source": [
    "nm = \"Harry\"\n",
    "print(len(nm))\n",
    "print(nm[-4:-2])   #1:3"
   ]
  },
  {
   "cell_type": "markdown",
   "id": "491be9ff",
   "metadata": {},
   "source": [
    "# String Methods in Python"
   ]
  },
  {
   "cell_type": "markdown",
   "id": "879d041e",
   "metadata": {},
   "source": [
    "# Print Methods"
   ]
  },
  {
   "cell_type": "code",
   "execution_count": 4,
   "id": "a85af5d9",
   "metadata": {},
   "outputs": [
    {
     "name": "stdout",
     "output_type": "stream",
     "text": [
      "6\n",
      "SATYAM\n",
      "satyam\n"
     ]
    }
   ],
   "source": [
    "#Strings are immutable.    \n",
    "a = \"Satyam\"\n",
    "print(len(a))\n",
    "print(a.upper())  #The upper() method converts a string to upper case\n",
    "print(a.lower())  #The lower() method converts a string to lower case"
   ]
  },
  {
   "cell_type": "markdown",
   "id": "14c85742",
   "metadata": {},
   "source": [
    "#Strip(): The strip() method removes any white spaces before and after the string."
   ]
  },
  {
   "cell_type": "code",
   "execution_count": 1,
   "id": "c9765e6f",
   "metadata": {},
   "outputs": [
    {
     "name": "stdout",
     "output_type": "stream",
     "text": [
      "<built-in method strip of str object at 0x00000158D2555110>\n"
     ]
    }
   ],
   "source": [
    "str3 = \" Satyam is a good frnd of himanshu  \"\n",
    "print(str3.strip)"
   ]
  },
  {
   "cell_type": "markdown",
   "id": "a19cd2a6",
   "metadata": {},
   "source": [
    "#rstrip(): the rstrip() removes any trailing characters."
   ]
  },
  {
   "cell_type": "code",
   "execution_count": 2,
   "id": "1ac37f4f",
   "metadata": {},
   "outputs": [
    {
     "name": "stdout",
     "output_type": "stream",
     "text": [
      "Satyam \n"
     ]
    }
   ],
   "source": [
    "a = \"Satyam !****!!\"\n",
    "print(a.rstrip(\"!*\"))"
   ]
  },
  {
   "cell_type": "markdown",
   "id": "0bab1d49",
   "metadata": {},
   "source": [
    "#replace(): It replaces all occurences of a string with another string."
   ]
  },
  {
   "cell_type": "code",
   "execution_count": 10,
   "id": "02d4afa6",
   "metadata": {},
   "outputs": [
    {
     "name": "stdout",
     "output_type": "stream",
     "text": [
      "Himanshu Himanshu loves to code\n"
     ]
    }
   ],
   "source": [
    "a = \"Satyam loves to code\"  \n",
    "print(a.replace(\"Satyam\", \"Himanshu\"))  #replace()"
   ]
  },
  {
   "cell_type": "markdown",
   "id": "49a7a9aa",
   "metadata": {},
   "source": [
    "#split(): It splits the given strings at the specified instance and returns the seprated strings as list items."
   ]
  },
  {
   "cell_type": "code",
   "execution_count": 24,
   "id": "90e336f5",
   "metadata": {},
   "outputs": [
    {
     "name": "stdout",
     "output_type": "stream",
     "text": [
      "['Satyam', 'himanshu', 'Priyanshu']\n"
     ]
    }
   ],
   "source": [
    "a = \"Satyam himanshu Priyanshu\"   \n",
    "print(a.split(\" \"))       #Split : We can use various other strings methods to modify our strings."
   ]
  },
  {
   "cell_type": "markdown",
   "id": "d14725cb",
   "metadata": {},
   "source": [
    "#Capitalize(): This methods turns only the frist character of the string to uppercase and the rest characters of the string are turned to lowercase. "
   ]
  },
  {
   "cell_type": "code",
   "execution_count": 4,
   "id": "1d32363f",
   "metadata": {},
   "outputs": [
    {
     "name": "stdout",
     "output_type": "stream",
     "text": [
      "Satyam is a good boy.\n",
      "Priyanshu is a good friend of mine\n"
     ]
    }
   ],
   "source": [
    "a = \"satyam is a Good boy.\"\n",
    "b = \"priyanshu is a good friend of mine\"\n",
    "print(a.capitalize())\n",
    "print(b.capitalize())  "
   ]
  },
  {
   "cell_type": "markdown",
   "id": "aedd87c9",
   "metadata": {},
   "source": [
    "#center():The center() method aligns the string to the center as per the parameters given by the user."
   ]
  },
  {
   "cell_type": "code",
   "execution_count": 9,
   "id": "d1175036",
   "metadata": {},
   "outputs": [
    {
     "name": "stdout",
     "output_type": "stream",
     "text": [
      "27\n",
      "           Welcome to the coding world            \n"
     ]
    }
   ],
   "source": [
    "a = \"Welcome to the coding world\"\n",
    "print(len(a))\n",
    "print(a.center(50))   #Center"
   ]
  },
  {
   "cell_type": "markdown",
   "id": "575c35da",
   "metadata": {},
   "source": [
    "Count() : It returns the number of times the given value has occured within the given string."
   ]
  },
  {
   "cell_type": "code",
   "execution_count": 3,
   "id": "3272e99b",
   "metadata": {},
   "outputs": [
    {
     "name": "stdout",
     "output_type": "stream",
     "text": [
      "1\n"
     ]
    }
   ],
   "source": [
    "a = \"Satyam\"\n",
    "print(a.count(\"t\"))    #Count"
   ]
  },
  {
   "cell_type": "markdown",
   "id": "b0818538",
   "metadata": {},
   "source": [
    "endswith(): The endswith() method checks if the string ends with a given value. If yes then return True, else return False."
   ]
  },
  {
   "cell_type": "code",
   "execution_count": 17,
   "id": "d245cf84",
   "metadata": {},
   "outputs": [
    {
     "name": "stdout",
     "output_type": "stream",
     "text": [
      "True\n",
      "False\n"
     ]
    }
   ],
   "source": [
    "a = \"Satyam loves to code\"\n",
    "print(a.endswith(\"code\"))        #endswith()\n",
    "print(a.endswith(\"satyam\"))"
   ]
  },
  {
   "cell_type": "code",
   "execution_count": 7,
   "id": "b014f962",
   "metadata": {},
   "outputs": [
    {
     "name": "stdout",
     "output_type": "stream",
     "text": [
      "False\n",
      "True\n"
     ]
    }
   ],
   "source": [
    "a = \"Himanshu is a good friend of mine\"  #We can even check for a value in-between the string by providing start and end index positions.\n",
    "print(a.endswith(\"himanshu\", 7))\n",
    "print(a.endswith(\"mine\"))"
   ]
  },
  {
   "cell_type": "markdown",
   "id": "c161eb61",
   "metadata": {},
   "source": [
    "#find(): The find() method searches for the first occurrence of the given value and returns the index where it is present. If given value is absent from the string then return -1."
   ]
  },
  {
   "cell_type": "code",
   "execution_count": 4,
   "id": "548f91da",
   "metadata": {},
   "outputs": [
    {
     "name": "stdout",
     "output_type": "stream",
     "text": [
      "15\n",
      "-1\n"
     ]
    }
   ],
   "source": [
    " a = \"Priyanshu is a good friend of mine\"\n",
    "print(a.find(\"good\"))\n",
    "print(a.find(\"satyam\"))  #If value is absent in string than it return -1 value."
   ]
  },
  {
   "cell_type": "raw",
   "id": "5729e854",
   "metadata": {},
   "source": [
    "#Note: As we can see, this method is somewhat similar to the index() method. The major difference being that index() raises an exception if value is absent whereas find() does not."
   ]
  },
  {
   "cell_type": "markdown",
   "id": "3e114235",
   "metadata": {},
   "source": [
    "isalnum(): The isalnum() method returns True only if the entire string only consists of A-Z, a-z, 0-9. If any other characters or punctuations are present, then it returns False."
   ]
  },
  {
   "cell_type": "code",
   "execution_count": 2,
   "id": "81e35e30",
   "metadata": {},
   "outputs": [
    {
     "name": "stdout",
     "output_type": "stream",
     "text": [
      "True\n"
     ]
    }
   ],
   "source": [
    "a =\"SatyamlovestoTravel\"\n",
    "print(a.isalnum())          #isalnum() : It consists of numbers whereas isaplha dosen't consist any number.\n"
   ]
  },
  {
   "cell_type": "markdown",
   "id": "15e461ef",
   "metadata": {},
   "source": [
    "isalpha(): The isalnum() method returns True only if the entire string only consists of A-Z, a-z. If any other characters or punctuations or numbers(0-9) are present, then it returns False."
   ]
  },
  {
   "cell_type": "code",
   "execution_count": 8,
   "id": "06353d93",
   "metadata": {},
   "outputs": [
    {
     "name": "stdout",
     "output_type": "stream",
     "text": [
      "True\n"
     ]
    }
   ],
   "source": [
    "a = \"Satyam\"\n",
    "print(a.isalpha())          #isalpha()"
   ]
  },
  {
   "cell_type": "markdown",
   "id": "726be7c9",
   "metadata": {},
   "source": [
    "#islower():The islower() method returns True if all the characters in the string are lower case, else it returns False."
   ]
  },
  {
   "cell_type": "code",
   "execution_count": 3,
   "id": "e16b6544",
   "metadata": {},
   "outputs": [
    {
     "name": "stdout",
     "output_type": "stream",
     "text": [
      "True\n",
      "False\n"
     ]
    }
   ],
   "source": [
    "a = \"satyam loves to listen music\"\n",
    "print(a.islower())          #islower()\n",
    "a = \"Satyam Loves to code\"\n",
    "print(a.islower())"
   ]
  },
  {
   "cell_type": "markdown",
   "id": "815c2750",
   "metadata": {},
   "source": [
    "isprintable(): The isprintable() method returns True if all the values within the given string are printable, if not, then return False."
   ]
  },
  {
   "cell_type": "code",
   "execution_count": 4,
   "id": "e80fe547",
   "metadata": {},
   "outputs": [
    {
     "name": "stdout",
     "output_type": "stream",
     "text": [
      "True\n"
     ]
    }
   ],
   "source": [
    "a = \"Satyam,Priyanshu and Himanshu is the best Trio ever in Focus Energy Limited\"\n",
    "print(a.isprintable())       #isprintable"
   ]
  },
  {
   "cell_type": "markdown",
   "id": "939747c9",
   "metadata": {},
   "source": [
    "isspace(): The isspace() method returns True only and only if the string contains white spaces, else returns False."
   ]
  },
  {
   "cell_type": "code",
   "execution_count": 12,
   "id": "a8ded271",
   "metadata": {},
   "outputs": [
    {
     "name": "stdout",
     "output_type": "stream",
     "text": [
      "True\n",
      "False\n"
     ]
    }
   ],
   "source": [
    "a = \"              \"\n",
    "print(a.isspace())    #using spacebar\n",
    "b = \"\"\n",
    "print(b.isspace())"
   ]
  },
  {
   "cell_type": "markdown",
   "id": "6c745403",
   "metadata": {},
   "source": [
    "istitle(): The istitile() returns True only if the first letter of each word of the string is capitalized, else it returns False."
   ]
  },
  {
   "cell_type": "code",
   "execution_count": 53,
   "id": "95b96a53",
   "metadata": {},
   "outputs": [
    {
     "name": "stdout",
     "output_type": "stream",
     "text": [
      "True\n"
     ]
    }
   ],
   "source": [
    "a = \"Corona Virus\"\n",
    "print(a.istitle())    #istitle"
   ]
  },
  {
   "cell_type": "markdown",
   "id": "ec047c6b",
   "metadata": {},
   "source": [
    "#is.upper() : The isupper() method returns True if all the characters in the string are upper case, else it returns False."
   ]
  },
  {
   "cell_type": "code",
   "execution_count": 55,
   "id": "d19caa3a",
   "metadata": {},
   "outputs": [
    {
     "name": "stdout",
     "output_type": "stream",
     "text": [
      "True\n"
     ]
    }
   ],
   "source": [
    "a = \"CORONA VIRUS\"\n",
    "print(a.isupper())    #isupper"
   ]
  },
  {
   "cell_type": "markdown",
   "id": "a02ce76f",
   "metadata": {},
   "source": [
    "#startswith(): The startwith() method checks if the string starts with a given value. If yes then return True, else return False.\n"
   ]
  },
  {
   "cell_type": "code",
   "execution_count": 58,
   "id": "195f5862",
   "metadata": {},
   "outputs": [
    {
     "name": "stdout",
     "output_type": "stream",
     "text": [
      "True\n"
     ]
    }
   ],
   "source": [
    "a = \"Python is a best programming language\"\n",
    "print(a.startswith(\"Python\"))    #startswith()"
   ]
  },
  {
   "cell_type": "markdown",
   "id": "26fa840c",
   "metadata": {},
   "source": [
    "#swapcase(): The swapcase() method changes the character casing of the string. Upper case are converted to lower case and lower case to upper case."
   ]
  },
  {
   "cell_type": "code",
   "execution_count": 63,
   "id": "b37bbfe6",
   "metadata": {},
   "outputs": [
    {
     "name": "stdout",
     "output_type": "stream",
     "text": [
      "pYTHON IS A iNTERPRETED lANGUAGE\n"
     ]
    }
   ],
   "source": [
    "a = \"Python is a Interpreted Language\"\n",
    "print(a.swapcase())"
   ]
  },
  {
   "cell_type": "markdown",
   "id": "608fa541",
   "metadata": {},
   "source": [
    "#title(): The title() method capitalizes each letter of the word within the string."
   ]
  },
  {
   "cell_type": "code",
   "execution_count": 65,
   "id": "b1a5ca9f",
   "metadata": {},
   "outputs": [
    {
     "name": "stdout",
     "output_type": "stream",
     "text": [
      "Himashu Is The Most Bakchoda Guy In Our Group\n"
     ]
    }
   ],
   "source": [
    "a = \"himashu is the most bakchoda guy in our group\"\n",
    "print(a.title())"
   ]
  },
  {
   "cell_type": "markdown",
   "id": "16f0236d",
   "metadata": {},
   "source": [
    "# if-else Statements"
   ]
  },
  {
   "cell_type": "markdown",
   "id": "c13f9a5e",
   "metadata": {},
   "source": [
    "Sometimes the programmer needs to check the evaluation of certain expression(s), whether the expression(s) evaluate to True or False. If the expression evaluates to False, then the program execution follows a different path than it would have if the expression had evaluated to True.\n",
    "\n",
    "Based on this, the conditional statements are further classified into following types:\n",
    "\n",
    "if\n",
    "if-else\n",
    "if-else-elif\n",
    "nested if-else-elif."
   ]
  },
  {
   "cell_type": "code",
   "execution_count": 2,
   "id": "e49cdff3",
   "metadata": {},
   "outputs": [
    {
     "name": "stdout",
     "output_type": "stream",
     "text": [
      "Enter your age: 15\n",
      "Your age is: 15\n",
      "You cannot Drive\n"
     ]
    }
   ],
   "source": [
    "a =int(input(\"Enter your age: \"))  #else: The else keyword catches anything which isn't caught by preceding conditions.\n",
    "print(\"Your age is:\", a)\n",
    "#Conditional operator\n",
    "#>, <, >=, <=, ==\n",
    "if(a>18):\n",
    "    print(\"You can Drive\") \n",
    "else:\n",
    "    print(\"You cannot Drive\") "
   ]
  },
  {
   "cell_type": "markdown",
   "id": "f0bf5d90",
   "metadata": {},
   "source": [
    "#elif Condition : The elif keyword is Python's way of saying \"if the previous conditions were not true, then try this condition\"."
   ]
  },
  {
   "cell_type": "code",
   "execution_count": 11,
   "id": "9e954d3e",
   "metadata": {},
   "outputs": [
    {
     "name": "stdout",
     "output_type": "stream",
     "text": [
      "Enter the value of num: 23\n",
      "Number is Positive\n"
     ]
    }
   ],
   "source": [
    "num = int(input(\"Enter the value of num: \"))\n",
    "if(num < 0):\n",
    "    print(\"Number is negative.\")\n",
    "elif (num == 0):\n",
    "    print(\"Number is Zero.\")\n",
    "elif (num == 999):\n",
    "    print(\"number is special\")\n",
    "else:\n",
    "    print(\"Number is Positive\")   "
   ]
  },
  {
   "cell_type": "code",
   "execution_count": 16,
   "id": "93e1bf26",
   "metadata": {},
   "outputs": [
    {
     "name": "stdout",
     "output_type": "stream",
     "text": [
      "Enter the Price of an Apple: 300\n",
      "do not add apple to the cart\n",
      "I'm happy now\n"
     ]
    }
   ],
   "source": [
    "Appleprice = int(input(\"Enter the Price of an Apple: \"))\n",
    "budget = 250\n",
    "if (Appleprice <= budget):\n",
    "    print(\"add apple to the cart\")\n",
    "else:\n",
    "    print(\"do not add apple to the cart\")\n",
    "    \n",
    "print(\"I'm happy now\")"
   ]
  },
  {
   "cell_type": "code",
   "execution_count": 10,
   "id": "04cc069a",
   "metadata": {},
   "outputs": [
    {
     "name": "stdout",
     "output_type": "stream",
     "text": [
      "Enter the apple price: 25\n",
      "Enter the budget: 110\n",
      "add apple to the cart\n"
     ]
    }
   ],
   "source": [
    "num = int(input(\"Enter the apple price: \"))\n",
    "budget = int(input(\"Enter the budget: \"))\n",
    "if (num <= budget):\n",
    "    print(\"add apple to the cart\")\n",
    "else:\n",
    "    print(\"do not add apple to the Cart\")\n",
    "    "
   ]
  },
  {
   "cell_type": "markdown",
   "id": "c5ed2fbc",
   "metadata": {},
   "source": [
    "#Nested if statements : You can have if statements inside the if statements, this is called nested if statements."
   ]
  },
  {
   "cell_type": "code",
   "execution_count": 5,
   "id": "9d01864f",
   "metadata": {},
   "outputs": [
    {
     "name": "stdout",
     "output_type": "stream",
     "text": [
      "Number is between 11-20\n"
     ]
    }
   ],
   "source": [
    "num = 18\n",
    "if (num < 0):\n",
    "    print(\"Number is negative.\")\n",
    "elif (num > 0):\n",
    "    print(\"Number is Positive \")\n",
    "    if (num <= 10):\n",
    "        print(\"Number is between 1-10\")\n",
    "    elif (num > 10 and num <= 20):\n",
    "        print(\"Number is between 11-20\")\n",
    "    else:\n",
    "            print(\"Number is greater than 20\")\n",
    "else:\n",
    "    print(\"Number is Zero\")"
   ]
  },
  {
   "cell_type": "markdown",
   "id": "05b8f4dd",
   "metadata": {},
   "source": [
    "#WAP in python capable of greeting you with good morning using time module to get the current hour. "
   ]
  },
  {
   "cell_type": "code",
   "execution_count": 11,
   "id": "3e7fd142",
   "metadata": {},
   "outputs": [
    {
     "name": "stdout",
     "output_type": "stream",
     "text": [
      "21:43:40\n",
      "21\n",
      "43\n",
      "40\n"
     ]
    }
   ],
   "source": [
    "import time\n",
    "timestamp = time.strftime('%H:%M:%S')     #The strftime() takes one or more format codes as an                                          \n",
    "print(timestamp)                          # #argument and returns a formatted string based on it.\n",
    "timestamp = time.strftime('%H')\n",
    "print(timestamp)\n",
    "timestamp = time.strftime('%M')\n",
    "print(timestamp)\n",
    "timestamp = time.strftime('%S')\n",
    "\n",
    "print(timestamp)\n",
    "# https://docs.python.org/3/library/time.html#time.strftime"
   ]
  },
  {
   "cell_type": "markdown",
   "id": "ea06102a",
   "metadata": {},
   "source": [
    "# Match Case Statements."
   ]
  },
  {
   "cell_type": "markdown",
   "id": "7a59bf11",
   "metadata": {},
   "source": [
    "#Match Case Statements: A match statement will compare a given variable’s value to different shapes, also referred to as the pattern. \n",
    "\n",
    "The match case consists of three main entities:\n",
    "1. The match Keyword\n",
    "2. One or more clauses\n",
    "3. Expressions for each clause."
   ]
  },
  {
   "cell_type": "code",
   "execution_count": 12,
   "id": "0527c3ae",
   "metadata": {},
   "outputs": [
    {
     "name": "stdout",
     "output_type": "stream",
     "text": [
      "x % 2 == 0 and case is 4\n"
     ]
    }
   ],
   "source": [
    "x = 4\n",
    "# x is the variable to match\n",
    "match x:   \n",
    "    # if x is 0\n",
    "    case 0:\n",
    "        print(\"x is zero\") \n",
    "    # case with if-condition\n",
    "    case 4 if x % 2 == 0:\n",
    "        print(\"x % 2 == 0 and case is 4\")\n",
    "    # Empty case with if-condition\n",
    "    case _ if x < 10:\n",
    "        print(\"x is < 10\")\n",
    "    # default case(will only be matched if the above cases were not matched)\n",
    "    # so it is basically just an else:\n",
    "    case _:\n",
    "        print(x)"
   ]
  },
  {
   "cell_type": "code",
   "execution_count": 5,
   "id": "7e3e81e1",
   "metadata": {},
   "outputs": [
    {
     "name": "stdout",
     "output_type": "stream",
     "text": [
      "Enter the value of x: 6\n",
      "6\n"
     ]
    }
   ],
   "source": [
    "x = int(input(\"Enter the value of x: \"))\n",
    "# x is the variable to match\n",
    "match x:\n",
    "    # if x is 0\n",
    "    case 0:\n",
    "        print(\"X is Zero\")\n",
    "    # case with if- Condition\n",
    "    case 4:\n",
    "        print(\"case is 4\")\n",
    "        \n",
    "    case _:\n",
    "        print(x)\n"
   ]
  },
  {
   "cell_type": "code",
   "execution_count": 1,
   "id": "72e2a70c",
   "metadata": {},
   "outputs": [
    {
     "name": "stdout",
     "output_type": "stream",
     "text": [
      "Enter the value of x: 20\n",
      "20 is not 90\n"
     ]
    }
   ],
   "source": [
    "x = int(input(\"Enter the value of x: \"))\n",
    "# x is the variable to match\n",
    "match x:\n",
    "    #if x is 0\n",
    "    case 0:\n",
    "        print(\"x is zero\")\n",
    "        # case with if - function\n",
    "    case 4:\n",
    "        print(\"case is 4\")\n",
    "    \n",
    "    case _ if x!=90:\n",
    "        print(x, \"is not 90\")\n",
    "    case _ if x!=80:\n",
    "        print(x, \"is not 80\")\n",
    "    case _:\n",
    "        print(x)   "
   ]
  },
  {
   "cell_type": "markdown",
   "id": "8625c85b",
   "metadata": {},
   "source": [
    "# Introduction to Loops"
   ]
  },
  {
   "cell_type": "markdown",
   "id": "ef2161de",
   "metadata": {},
   "source": [
    "Two types of Loops \n",
    "1.For loop - for loops can iterate over a sequence of iterable objects in Python. with the for loop we can execute a set of statements, once for each item in a list, tuple, set etc.\n",
    "2.while Loop - \n",
    "\n",
    "Iterate :- Repetitive execution of the same block of code over and over.\n",
    "Parameter:- A parameter is the variable listed inside the parenthesis in the function definition.\n",
    "Argument: An argument is the value that is sent to the function when it is called."
   ]
  },
  {
   "cell_type": "markdown",
   "id": "339908ac",
   "metadata": {},
   "source": [
    "#For Loop"
   ]
  },
  {
   "cell_type": "code",
   "execution_count": 10,
   "id": "46ce00ed",
   "metadata": {},
   "outputs": [
    {
     "name": "stdout",
     "output_type": "stream",
     "text": [
      "A\n",
      "b\n",
      "This is something special\n",
      "h\n",
      "i\n",
      "s\n",
      "h\n",
      "e\n",
      "k\n"
     ]
    }
   ],
   "source": [
    "name = 'Abhishek'     #Example over a String\n",
    "for i in name:\n",
    "    #print(i, end=\", \")  \n",
    "    print(i)\n",
    "    if(i ==\"b\"):\n",
    "        print(\"This is something special\") "
   ]
  },
  {
   "cell_type": "code",
   "execution_count": 2,
   "id": "12e88291",
   "metadata": {},
   "outputs": [
    {
     "name": "stdout",
     "output_type": "stream",
     "text": [
      "5\n",
      "6\n",
      "7\n",
      "8\n",
      "9\n"
     ]
    }
   ],
   "source": [
    "for i in range(5,10):\n",
    "    print(i)"
   ]
  },
  {
   "cell_type": "code",
   "execution_count": 1,
   "id": "cb08aceb",
   "metadata": {},
   "outputs": [
    {
     "name": "stdout",
     "output_type": "stream",
     "text": [
      "Satyam\n",
      "S\n",
      "a\n",
      "t\n",
      "y\n",
      "a\n",
      "m\n",
      "Priyanshu\n",
      "P\n",
      "r\n",
      "i\n",
      "y\n",
      "a\n",
      "n\n",
      "s\n",
      "h\n",
      "u\n",
      "Himanshu\n",
      "H\n",
      "i\n",
      "m\n",
      "a\n",
      "n\n",
      "s\n",
      "h\n",
      "u\n",
      "Himanshi\n",
      "H\n",
      "i\n",
      "m\n",
      "a\n",
      "n\n",
      "s\n",
      "h\n",
      "i\n"
     ]
    }
   ],
   "source": [
    "name = [\"Satyam\", \"Priyanshu\", \"Himanshu\", \"Himanshi\"]\n",
    "for name in name:      #Example over a List.\n",
    "    print(name)\n",
    "    for i in name:\n",
    "        print(i)   #Iterating over a List.  Itrating over a list\n",
    "        "
   ]
  },
  {
   "cell_type": "markdown",
   "id": "a4b1c51e",
   "metadata": {},
   "source": [
    "#range(): We use range when we used to do a Loop for a specific number of times."
   ]
  },
  {
   "cell_type": "code",
   "execution_count": 17,
   "id": "51993cdf",
   "metadata": {},
   "outputs": [
    {
     "name": "stdout",
     "output_type": "stream",
     "text": [
      "1\n",
      "3\n",
      "5\n",
      "7\n",
      "9\n",
      "11\n",
      "13\n",
      "15\n",
      "17\n",
      "19\n",
      "1\n",
      "8\n",
      "15\n",
      "22\n",
      "29\n",
      "36\n",
      "43\n"
     ]
    }
   ],
   "source": [
    "#for i in range(20):or\n",
    "    #print(i)  \n",
    "    \n",
    "#for k in range(1, 20):\n",
    "    #print(k)\n",
    "    \n",
    "for k in range(1,20,2):   # In python 3 xrange() is renamed to range()\n",
    "     print(k)         #and original range() function was removed.\n",
    "                   #range(start, stop[,step]) - Syntax of the range() function\n",
    "            \n",
    "for k in range(1,50,6):   #In this 6 gets subtracted in each steps.\n",
    "    print(k)   "
   ]
  },
  {
   "cell_type": "code",
   "execution_count": 14,
   "id": "72e05a7a",
   "metadata": {
    "scrolled": true
   },
   "outputs": [
    {
     "name": "stdout",
     "output_type": "stream",
     "text": [
      "hello World\n",
      "d\n"
     ]
    }
   ],
   "source": [
    "a = \"hello World\"\n",
    "print(a)\n",
    "\n",
    "print(a[-1:])"
   ]
  },
  {
   "cell_type": "markdown",
   "id": "5c8a3067",
   "metadata": {},
   "source": [
    "# While loop : "
   ]
  },
  {
   "cell_type": "markdown",
   "id": "ced6976c",
   "metadata": {},
   "source": [
    "It executes statements while the Condition is True. as soon as the condition becomes false, the Interpreter comes out of the while loop. "
   ]
  },
  {
   "cell_type": "code",
   "execution_count": 1,
   "id": "48f99ced",
   "metadata": {},
   "outputs": [
    {
     "name": "stdout",
     "output_type": "stream",
     "text": [
      "0\n",
      "1\n",
      "2\n",
      "3\n"
     ]
    }
   ],
   "source": [
    "i = 0\n",
    "while(i<=3):  \n",
    "    print(i)\n",
    "    i = i + 1  "
   ]
  },
  {
   "cell_type": "code",
   "execution_count": 2,
   "id": "d971ffa6",
   "metadata": {},
   "outputs": [
    {
     "name": "stdout",
     "output_type": "stream",
     "text": [
      "Enter the number: 100\n",
      "Enter the number: 20\n",
      "20\n",
      "Loop is over\n"
     ]
    }
   ],
   "source": [
    "# i = int(input(\"Enter the number: \"))  #While Loop\n",
    "# while(i<=38):\n",
    "#     i = int(input(\"Enter the number: \"))\n",
    "#     print(i)\n",
    "# print(\"Done with the loop\")   \n",
    "\n",
    "\n",
    "i = int(input(\"Enter the number: \"))  \n",
    "while(i>=50):\n",
    "    i =  int(input(\"Enter the number: \"))\n",
    "    print(i)\n",
    "    print(\"Loop is over\")"
   ]
  },
  {
   "cell_type": "code",
   "execution_count": 6,
   "id": "a99a2e0b",
   "metadata": {},
   "outputs": [
    {
     "name": "stdout",
     "output_type": "stream",
     "text": [
      "5\n",
      "4\n",
      "3\n",
      "2\n",
      "1\n"
     ]
    }
   ],
   "source": [
    "count = 5          #Here a count variable is set to 5 which decrements after each iteration. Depending upon the while Loop Condition,\n",
    "while (count > 0):  #we need to either increment or decrement the counter variable or the loop will continue forever.\n",
    "    print(count)\n",
    "    count  =  count - 1\n",
    "else:    #We can use else with while loop, the else statement does is that as soon as the while condition becomes false, the interpreter comes out of the while loop and the else statement executed.\n",
    "    print(\"I am inside the Loop\")"
   ]
  },
  {
   "cell_type": "markdown",
   "id": "453935e7",
   "metadata": {},
   "source": [
    "# Do while Loop (It works on other programming language not in Python)"
   ]
  },
  {
   "cell_type": "markdown",
   "id": "8f35be42",
   "metadata": {},
   "source": [
    "Do while is a loop in which a set of instructions that will execute at least once(irrespective of the conditon) and then the repetition of loop's body will depend on the condition passed at the end of the while loop.It is also known as an exit- controlled loop.   "
   ]
  },
  {
   "cell_type": "markdown",
   "id": "45a53ac3",
   "metadata": {},
   "source": [
    "#How to emulate do while loop in Python.\n",
    "\n",
    "to create a do while loop in python, you need to modify the while loop a bit in order to get similar behaviour to a do while loop.\n",
    "\n",
    "\n",
    "The most common technique to emulate a do-while loop in python is to use an infinite while loop with a break statement wrapped in an if statement that checks a given condition and breaks the iteration if the conditons becomes true."
   ]
  },
  {
   "cell_type": "code",
   "execution_count": 2,
   "id": "7548cbc1",
   "metadata": {},
   "outputs": [
    {
     "name": "stdout",
     "output_type": "stream",
     "text": [
      "0\n",
      "1\n",
      "2\n",
      "3\n",
      "4\n",
      "5\n",
      "6\n",
      "7\n",
      "8\n",
      "9\n"
     ]
    }
   ],
   "source": [
    "i = 0  \n",
    "while True:\n",
    "    print(i)\n",
    "    i = i + 1\n",
    "    if(i%10 == 0):\n",
    "        break\n",
    "        \n",
    "# #do {\n",
    "#  #loop body;\n",
    "# #}while (condition);   #Syntax for using a do loop body\n",
    "\n",
    "\n"
   ]
  },
  {
   "cell_type": "code",
   "execution_count": null,
   "id": "cf9e89d4",
   "metadata": {},
   "outputs": [],
   "source": [
    "while True:\n",
    "    number = int(input(\"Enter a Positive Number: \"))\n",
    "    number = int(input(\"Enter a negative number: \"))\n",
    "    print(number)\n",
    "    if not number > 0:\n",
    "        break\n",
    "        "
   ]
  },
  {
   "cell_type": "markdown",
   "id": "a5d0be57",
   "metadata": {},
   "source": [
    "# Break and Continue Statements."
   ]
  },
  {
   "cell_type": "raw",
   "id": "3d9a21be",
   "metadata": {},
   "source": [
    "Break Statements enables a program to skip over a part of the code. A break Statement terminates the very loop it lies within.\n"
   ]
  },
  {
   "cell_type": "code",
   "execution_count": 3,
   "id": "3e98d87a",
   "metadata": {},
   "outputs": [
    {
     "name": "stdout",
     "output_type": "stream",
     "text": [
      "5 x 1 = 5\n",
      "5 x 2 = 10\n",
      "5 x 3 = 15\n",
      "5 x 4 = 20\n",
      "5 x 5 = 25\n",
      "5 x 6 = 30\n",
      "5 x 7 = 35\n",
      "5 x 8 = 40\n",
      "5 x 9 = 45\n",
      "5 x 10 = 50\n",
      "Leave the Loop\n"
     ]
    }
   ],
   "source": [
    " for i in range(11):\n",
    "        print(\"5 x\", i+1, \"=\", 5 * (i+1))\n",
    "        if(i == 9):\n",
    "            break\n",
    "            \n",
    "print(\"Leave the Loop\") "
   ]
  },
  {
   "cell_type": "code",
   "execution_count": 1,
   "id": "3e75051e",
   "metadata": {},
   "outputs": [
    {
     "name": "stdout",
     "output_type": "stream",
     "text": [
      "2\n",
      "4\n",
      "6\n",
      "8\n",
      "0\n"
     ]
    }
   ],
   "source": [
    "# for i in range(1,101,1):\n",
    "#     print(i ,end=\" \")\n",
    "#     if(i ==50):\n",
    "#         break\n",
    "#     else:\n",
    "#         print(\"Satyam is a good boy\")\n",
    "#     print(\"Thank you\")\n",
    "\n",
    "\n",
    "\n",
    "for i in [2,3,4,5,6,8,9,0]:\n",
    "    if (i%2!=0):\n",
    "        continue\n",
    "    print(i)"
   ]
  },
  {
   "cell_type": "markdown",
   "id": "12748c06",
   "metadata": {},
   "source": [
    "Continue Statement: It skips the rest of the Loop statements and causes next iteration to occur."
   ]
  },
  {
   "cell_type": "code",
   "execution_count": 6,
   "id": "4ab92da9",
   "metadata": {},
   "outputs": [
    {
     "name": "stdout",
     "output_type": "stream",
     "text": [
      "5 x 0 = 0\n",
      "5 x 1 = 5\n",
      "5 x 2 = 10\n",
      "5 x 3 = 15\n",
      "5 x 4 = 20\n",
      "5 x 5 = 25\n",
      "5 x 6 = 30\n",
      "5 x 7 = 35\n",
      "5 x 8 = 40\n",
      "5 x 9 = 45\n",
      "Skip the Iteration\n",
      "5 x 11 = 55\n"
     ]
    }
   ],
   "source": [
    "for i in range(12):\n",
    "    if(i ==10):\n",
    "        print(\"Skip the Iteration\")\n",
    "        continue\n",
    "    print(\"5 x\", i, \"=\", 5* i)\n",
    "    "
   ]
  },
  {
   "cell_type": "markdown",
   "id": "53268aa2",
   "metadata": {},
   "source": [
    "# Python Functions"
   ]
  },
  {
   "cell_type": "markdown",
   "id": "b19a58ee",
   "metadata": {},
   "source": [
    "A Function is a block of code that performs a specific task whenever it is called OR Function is used to seprate code\n",
    "There are two types of Functions.\n",
    "1. Built-in Functions\n",
    "2. User-defined Functions\n",
    "\n",
    "Built-in Function : These functions are defined and pre-coded in Python. for eg: min(), max(), range(), list(), tuple().\n",
    "\n",
    "User-defined Functions: We can create functions to perform specific tasks as per our needs. such funcitons are called User Defined Functions.\n",
    "\n",
    "\n",
    "Syntax:\n",
    "\n",
    "def function_name(parameters):\n",
    "    pass\n",
    "    #code and statements."
   ]
  },
  {
   "cell_type": "code",
   "execution_count": 3,
   "id": "d9419ce8",
   "metadata": {},
   "outputs": [
    {
     "name": "stdout",
     "output_type": "stream",
     "text": [
      "Hello, Satyam himanshu priyanshu\n",
      "<function name at 0x0000027600588700>\n"
     ]
    }
   ],
   "source": [
    "def name(fname, mname = \"himanshu\", lname = \"priyanshu\"):\n",
    "    print(\"Hello,\", fname, mname, lname)\n",
    "name(\"Satyam\")"
   ]
  },
  {
   "cell_type": "code",
   "execution_count": 4,
   "id": "e70c307f",
   "metadata": {},
   "outputs": [
    {
     "name": "stdout",
     "output_type": "stream",
     "text": [
      "2.727272727272727\n"
     ]
    }
   ],
   "source": [
    "def Gmean(a, b): #using def functions.\n",
    "    mean = (a*b)/(a+b)\n",
    "    print(mean)   \n",
    "    \n",
    "a = 5\n",
    "b = 6\n",
    "Gmean(a,b) "
   ]
  },
  {
   "cell_type": "code",
   "execution_count": 3,
   "id": "6f49264c",
   "metadata": {},
   "outputs": [
    {
     "name": "stdout",
     "output_type": "stream",
     "text": [
      "30\n"
     ]
    }
   ],
   "source": [
    "def multiply(a, b):\n",
    "    product = a*b\n",
    "    print(product)\n",
    "    \n",
    "a = 5\n",
    "b = 6\n",
    "multiply(a,b)"
   ]
  },
  {
   "cell_type": "code",
   "execution_count": 4,
   "id": "1f9c5224",
   "metadata": {},
   "outputs": [
    {
     "name": "stdout",
     "output_type": "stream",
     "text": [
      "70\n"
     ]
    }
   ],
   "source": [
    "def add(a,b):\n",
    "    add = (a+b)\n",
    "    print(add)\n",
    "a = 10\n",
    "b =  60\n",
    "add(a,b)"
   ]
  },
  {
   "cell_type": "code",
   "execution_count": 22,
   "id": "8c73bf08",
   "metadata": {},
   "outputs": [
    {
     "name": "stdout",
     "output_type": "stream",
     "text": [
      "4.444444444444445\n",
      "2.727272727272727\n"
     ]
    }
   ],
   "source": [
    "a = 10\n",
    "b = 8\n",
    "gmean1 = (a*b)/(a+b)\n",
    "print(gmean1)    #Gometric Mean\n",
    "c = 6\n",
    "d= 5\n",
    "\n",
    "gmean2 = (c*d)/(c+d)\n",
    "print(gmean2)   "
   ]
  },
  {
   "cell_type": "code",
   "execution_count": 7,
   "id": "24a7b5ff",
   "metadata": {},
   "outputs": [
    {
     "name": "stdout",
     "output_type": "stream",
     "text": [
      "6.666666666666667\n"
     ]
    }
   ],
   "source": [
    "def calculateGmean(a,b):\n",
    "    mean = ((a*b)/(a+b))\n",
    "    print(mean)\n",
    "    \n",
    "a = 10\n",
    "b = 20\n",
    "calculateGmean(a,b)"
   ]
  },
  {
   "cell_type": "code",
   "execution_count": 8,
   "id": "329cda43",
   "metadata": {},
   "outputs": [
    {
     "name": "stdout",
     "output_type": "stream",
     "text": [
      "4.444444444444445\n",
      "3.7333333333333334\n",
      "3.076923076923077\n"
     ]
    }
   ],
   "source": [
    "def calculateGmean(a, b):    #using Def Functions\n",
    "    mean = (a*b)/(a+b)\n",
    "    print(mean)\n",
    "    \n",
    "a = 10\n",
    "b = 8\n",
    "\n",
    "calculateGmean(a,b)\n",
    "c = 8\n",
    "d = 7\n",
    "\n",
    "calculateGmean(c,d)\n",
    "\n",
    "e = 5\n",
    "f = 8\n",
    "\n",
    "calculateGmean(e,f)\n"
   ]
  },
  {
   "cell_type": "code",
   "execution_count": 5,
   "id": "55f06295",
   "metadata": {},
   "outputs": [
    {
     "name": "stdout",
     "output_type": "stream",
     "text": [
      "Second number is greater or equal\n",
      "4.7368421052631575\n",
      "First number is greater\n",
      "4.7368421052631575\n"
     ]
    }
   ],
   "source": [
    "def calculateGmean(a, b):\n",
    "    mean = (a*b)/(a+b)\n",
    "    print(mean)\n",
    "    \n",
    "a = 9\n",
    "b = 10\n",
    "\n",
    "if(a>b):\n",
    "    print(\"First number is greater\")\n",
    "else:\n",
    "    print(\"Second number is greater or equal\")\n",
    "    \n",
    "calculateGmean(a,b)\n",
    "\n",
    "c = 30\n",
    "d = 20\n",
    "\n",
    "if(c>d):\n",
    "    print(\"First number is greater\")\n",
    "else:\n",
    "    print(\"Second number is greater\")\n",
    "    \n",
    "calculateGmean(a,b)"
   ]
  },
  {
   "cell_type": "code",
   "execution_count": 7,
   "id": "fee34e14",
   "metadata": {},
   "outputs": [
    {
     "name": "stdout",
     "output_type": "stream",
     "text": [
      "First number is greater\n",
      "41.1764705882353\n",
      "Second number is greater or equal to\n",
      "6.363636363636363\n"
     ]
    }
   ],
   "source": [
    "def calculateGmean(a, b):   #using Def Functions and conditions if and else.\n",
    "    mean = (a*b)/(a+b)\n",
    "    print(mean)\n",
    "    \n",
    "a = 100\n",
    "b = 70\n",
    "if(a>b):\n",
    "    print(\"First number is greater\")\n",
    "else:\n",
    "    print(\"Second number is greater or equal\")\n",
    "\n",
    "calculateGmean(a,b)\n",
    "c = 7\n",
    "d = 70\n",
    "if(c>d):\n",
    "    print(\"First Number is Greater\")\n",
    "else:\n",
    "    print(\"Second number is greater or equal to\")\n",
    "\n",
    "calculateGmean(c,d)"
   ]
  },
  {
   "cell_type": "code",
   "execution_count": 11,
   "id": "c628d526",
   "metadata": {},
   "outputs": [
    {
     "name": "stdout",
     "output_type": "stream",
     "text": [
      "Enter your name: satyam\n",
      "Hello satyam\n"
     ]
    }
   ],
   "source": [
    "def hello():\n",
    "    name = str(input(\"Enter your name: \"))\n",
    "    if name:\n",
    "        print(\"Hello \" + str(name))\n",
    "    else:\n",
    "        print(\"Satyam is a good frnd of Hiamnshu\")\n",
    "    return\n",
    "\n",
    "hello()"
   ]
  },
  {
   "cell_type": "code",
   "execution_count": 11,
   "id": "8c8d48d3",
   "metadata": {},
   "outputs": [
    {
     "name": "stdout",
     "output_type": "stream",
     "text": [
      "enter your name: satyam is a good boy\n",
      "Hello satyam is a good boy\n"
     ]
    }
   ],
   "source": [
    "def hello():\n",
    "    name = str(input(\"enter your name: \"))\n",
    "    if name:\n",
    "        print(\"Hello \" + str(name))\n",
    "    else:\n",
    "        print(\"satyam is a good frnd of himanshu\")\n",
    "    return\n",
    "hello()"
   ]
  },
  {
   "cell_type": "code",
   "execution_count": 3,
   "id": "056dbd1c",
   "metadata": {},
   "outputs": [
    {
     "name": "stdout",
     "output_type": "stream",
     "text": [
      "The sum is 50\n"
     ]
    }
   ],
   "source": [
    "def add_numbers(x,y):\n",
    "    sum = x+y\n",
    "    return sum\n",
    "num1 = 30\n",
    "num2 = 20\n",
    "print(\"The sum is\", add_numbers(num1,num2))\n"
   ]
  },
  {
   "cell_type": "markdown",
   "id": "e8f2e94e",
   "metadata": {},
   "source": [
    "#syntax for user defined functions"
   ]
  },
  {
   "cell_type": "code",
   "execution_count": 9,
   "id": "2340ca9c",
   "metadata": {},
   "outputs": [
    {
     "name": "stdout",
     "output_type": "stream",
     "text": [
      "The sum is 30\n",
      "The product is 100\n"
     ]
    }
   ],
   "source": [
    "def add_numbers(x,y):       #user defined functions.\n",
    "    sum = x + y\n",
    "    return sum\n",
    "num1 = 10\n",
    "num2 = 20\n",
    "\n",
    "print(\"The sum is\", add_numbers(num1, num2))\n",
    "\n",
    "def product_numbers(a,b):\n",
    "    product = a * b\n",
    "    return product\n",
    "num1 = 20\n",
    "num2 = 5\n",
    "\n",
    "print(\"The product is\", product_numbers(num1,num2))"
   ]
  },
  {
   "cell_type": "code",
   "execution_count": 5,
   "id": "868c440c",
   "metadata": {},
   "outputs": [
    {
     "name": "stdout",
     "output_type": "stream",
     "text": [
      "the sum of two numbers is 40\n"
     ]
    }
   ],
   "source": [
    "def add_numbers(x, y):\n",
    "    sum = x+y\n",
    "    return sum\n",
    "num1 = 10\n",
    "num2 = 30\n",
    "\n",
    "print(\"the sum of two numbers is\", add_numbers(num1, num2))\n"
   ]
  },
  {
   "cell_type": "code",
   "execution_count": 10,
   "id": "644bc7ff",
   "metadata": {},
   "outputs": [
    {
     "name": "stdout",
     "output_type": "stream",
     "text": [
      "Second  number is greater or equal to\n",
      "5.454545454545454\n",
      "7.878787878787879\n"
     ]
    }
   ],
   "source": [
    "def calculateGmean(a, b):\n",
    "    mean = (a*b)/(a+b)\n",
    "    print(mean)\n",
    "    \n",
    "def isGreater(a, b):\n",
    "    if(a>b):\n",
    "        print(\"First number is greater\")\n",
    "    else:\n",
    "        print(\"Second  number is greater or equal to\")\n",
    "        \n",
    "def isLesser(a, b):\n",
    "    pass\n",
    "\n",
    "a = 10 \n",
    "b = 12\n",
    "isGreater(a, b)\n",
    "calculateGmean(a, b)\n",
    "\n",
    "c = 13\n",
    "d = 20\n",
    "isLesser(c, d)\n",
    "calculateGmean(c, d)\n",
    " \n",
    "        \n",
    "        "
   ]
  },
  {
   "cell_type": "code",
   "execution_count": null,
   "id": "f4560f41",
   "metadata": {},
   "outputs": [],
   "source": []
  },
  {
   "cell_type": "code",
   "execution_count": 4,
   "id": "2fdda169",
   "metadata": {},
   "outputs": [
    {
     "name": "stdout",
     "output_type": "stream",
     "text": [
      "First number is greater\n",
      "4.7368421052631575\n",
      "6.666666666666667\n"
     ]
    }
   ],
   "source": [
    "def calculateGmean(a, b):   #using Def Functions   It is also known as Function Definitons\n",
    "    mean = (a*b)/(a+b)\n",
    "    print(mean)\n",
    "    \n",
    "def isGreater(a, b):\n",
    "    if(a>b):\n",
    "        print(\"First number is greater\")\n",
    "    else:\n",
    "        print(\"Second number is greater or equal\")\n",
    "        \n",
    "def isLesser(a, b):    #User defined Functions\n",
    "    pass \n",
    "\n",
    "a = 10\n",
    "b = 9\n",
    "isGreater(a, b)\n",
    "calculateGmean(a, b)\n",
    "\n",
    "c = 10\n",
    "d = 20\n",
    "isLesser(c, d)\n",
    "calculateGmean(c, d)"
   ]
  },
  {
   "cell_type": "markdown",
   "id": "a5818a67",
   "metadata": {},
   "source": [
    "# Functions Arguments   #Doubt.  Revise Later"
   ]
  },
  {
   "cell_type": "markdown",
   "id": "abc7b3ec",
   "metadata": {},
   "source": [
    "There are four types of Functions Arguments:\n",
    "1. Default Arguments\n",
    "2. Keyword Arguments\n",
    "3. Variable Length Arguments\n",
    "4. Required Arguments"
   ]
  },
  {
   "cell_type": "markdown",
   "id": "91817fd6",
   "metadata": {},
   "source": [
    "* Required Arguments: In case we don’t pass the arguments with a key = value syntax, then it is necessary to pass the arguments in the correct positional order and the number of arguments passed should match with actual function definition."
   ]
  },
  {
   "cell_type": "code",
   "execution_count": 12,
   "id": "74a180f3",
   "metadata": {},
   "outputs": [
    {
     "name": "stdout",
     "output_type": "stream",
     "text": [
      "The average is  40.0\n",
      "Hello, Satyam Satsangii Kanku\n",
      "The average is  6.0\n"
     ]
    }
   ],
   "source": [
    "def average(a, b):    #Required Arguments\n",
    "    print(\"The average is \", (a+b)/2)    \n",
    "    \n",
    "average(20, 60)\n",
    "\n",
    "# def add(a, b):\n",
    "#     print(\"Sum of two numbers \", (a+b))\n",
    "    \n",
    "# add(60, 20)\n",
    "\n",
    "# def name(fname, mname, lname):   #when number of arguments does not match to the actual Function.\n",
    "#     print(\"Hello,\", fname, mname, lname):       #it will give error\n",
    "    \n",
    "# name(\"Satyam\", \"Satsangii\")\n",
    "\n",
    "\n",
    "def name(fname, mname, lname):    #When no of arguments passed matches to the actual function definiton.\n",
    "    print(\"Hello,\", fname, mname, lname)\n",
    "\n",
    "name(\"Satyam\", \"Satsangii\", \"Kanku\") \n",
    "\n",
    "\n",
    "def average(a,b,c=1):   #Required arguments.\n",
    "    print(\"The average is \", (a+b+c)/2)\n",
    "average(5,6)\n"
   ]
  },
  {
   "cell_type": "markdown",
   "id": "b31e72e3",
   "metadata": {},
   "source": [
    "* Default Arguments: This way the function assumes a default value even if a value is not provided in the function call for that argument."
   ]
  },
  {
   "cell_type": "code",
   "execution_count": 12,
   "id": "5942e1da",
   "metadata": {},
   "outputs": [
    {
     "name": "stdout",
     "output_type": "stream",
     "text": [
      "Hello, Satyam Prasad Satsangii\n",
      "The average is  10.0\n"
     ]
    }
   ],
   "source": [
    "def name(fname, mname = \"Prasad\", lname = \"Satsangii\"):\n",
    "    print(\"Hello,\", fname, mname, lname)     #Default Arguments.\n",
    "    \n",
    "name(\"Satyam\")\n",
    "\n",
    "def average(a=9, b=1):\n",
    "    print(\"The average is \", (a+b)/2)\n",
    "#average(1,5)        #This is also an Default Argument.\n",
    "average(a=19)   #If we give only one value than automatically the default value will be taken as 1.\n"
   ]
  },
  {
   "cell_type": "markdown",
   "id": "e9a00dc2",
   "metadata": {},
   "source": [
    "* Keyword Arguments: We can provide arguments with key = value, this way the interpreter recognizes the arguments by the parameter name. Hence, the the order in which the arguments are passed does not matter."
   ]
  },
  {
   "cell_type": "code",
   "execution_count": 16,
   "id": "55439b18",
   "metadata": {},
   "outputs": [
    {
     "name": "stdout",
     "output_type": "stream",
     "text": [
      "Hello, Satyam Prasad Satsangii\n"
     ]
    }
   ],
   "source": [
    "def name(fname, mname, lname):   #Keyword Arguments.\n",
    "    print(\"Hello,\", fname,mname,lname) \n",
    "name(mname  = \"Prasad\", lname = \"Satsangii\", fname = \"Satyam\")\n",
    "\n"
   ]
  },
  {
   "cell_type": "markdown",
   "id": "554c1461",
   "metadata": {},
   "source": [
    "#Variable Length Arguments: Sometimes we may need to pass more arguments than those defined in the actual function. This can be done using variable-length arguments.\n",
    "It is of two kinds:\n",
    "\n",
    "*Arbitrary Agruments\n",
    "*Keyword Arbitrary Arguments."
   ]
  },
  {
   "cell_type": "code",
   "execution_count": 18,
   "id": "9d59ec33",
   "metadata": {},
   "outputs": [
    {
     "name": "stdout",
     "output_type": "stream",
     "text": [
      "<class 'tuple'>\n",
      "Average is:  37.666666666666664\n",
      "<class 'dict'>\n",
      "hello, Satyam prasad Satsangii\n"
     ]
    }
   ],
   "source": [
    "def average(*numbers):    #* is the Arbitary Arguments.\n",
    "    print(type(numbers))  #In keyword Arguments we can change the order\n",
    "    sum = 0               #While creating a function, pass a * before the parameter name while defining the function.The function \n",
    "    for i in numbers:     #accesses the arguments by processing them in the form of tuple or dict.\n",
    "        sum = sum + i\n",
    "    print(\"Average is: \", sum/ len(numbers))\n",
    "    \n",
    "average(37,24,52)\n",
    "\n",
    "def name(**name):   #** is the Keyword Arbitrary Arguments\n",
    "    print(type(name))\n",
    "    print(\"hello,\", name[\"fname\"], name[\"mname\"], name[\"lname\"])\n",
    "    \n",
    "name(mname = \"prasad\", lname = \"Satsangii\", fname = \"Satyam\")"
   ]
  },
  {
   "cell_type": "code",
   "execution_count": 23,
   "id": "124e4056",
   "metadata": {},
   "outputs": [
    {
     "name": "stdout",
     "output_type": "stream",
     "text": [
      "<class 'tuple'>\n",
      "Average is:  35.0\n"
     ]
    }
   ],
   "source": [
    "def average(*numbers):    #Arbitrary Arguments. , *is the Arbitary Arguments. a\n",
    "    print(type(numbers))\n",
    "    sum = 0\n",
    "    for i in numbers:\n",
    "        sum = sum + i\n",
    "    print(\"Average is: \", sum/ len(numbers))\n",
    "average(20, 25, 60)\n",
    "    "
   ]
  },
  {
   "cell_type": "markdown",
   "id": "cdbe0d88",
   "metadata": {},
   "source": [
    "#Return Type: The return statement is used to return the value of the expression back to the calling function."
   ]
  },
  {
   "cell_type": "code",
   "execution_count": 41,
   "id": "1e4bc1e2",
   "metadata": {},
   "outputs": [
    {
     "name": "stdout",
     "output_type": "stream",
     "text": [
      "<class 'tuple'>\n",
      "35.0\n"
     ]
    }
   ],
   "source": [
    "def average(*numbers):\n",
    "    print(type(numbers))\n",
    "    sum = 0\n",
    "    for i in numbers:\n",
    "        sum = sum + i\n",
    "    return  sum/ len(numbers) #If we not use the return function than it will give none.\n",
    "c = average(20, 25, 60)       #Return Arguments.\n",
    "print(c)   #Return statements is used to return the value of the expression back to the  calling functions.\n",
    "    "
   ]
  },
  {
   "cell_type": "markdown",
   "id": "a8d00547",
   "metadata": {},
   "source": [
    "# List."
   ]
  },
  {
   "cell_type": "markdown",
   "id": "5474535c",
   "metadata": {},
   "source": [
    " Lists are ordered collection of data items.\n",
    "They store multiple items in a single variable.\n",
    "List items are separated by commas and enclosed within square brackets [].\n",
    "Lists are changeable meaning we can alter them after creation."
   ]
  },
  {
   "cell_type": "code",
   "execution_count": 13,
   "id": "e0633594",
   "metadata": {},
   "outputs": [
    {
     "name": "stdout",
     "output_type": "stream",
     "text": [
      "[1, 2, 3, 3, 4, 5, 6, 7]\n",
      "['Satyam', 'Satsangii', 'Himanshu']\n"
     ]
    }
   ],
   "source": [
    "list1 = [1,2,3,3,4,5,6,7]   #List\n",
    "list2 =[\"Satyam\", \"Satsangii\", \"Himanshu\"]\n",
    "print(list1)\n",
    "print(list2)"
   ]
  },
  {
   "cell_type": "markdown",
   "id": "0dfba73f",
   "metadata": {},
   "source": [
    "#List Index: Each item/element in a list has its own unique index. This index can be used to access any particular from the list.The first item has index (0), second item has index(1), and the third item has index(2) and so on."
   ]
  },
  {
   "cell_type": "code",
   "execution_count": 46,
   "id": "f3ff5e15",
   "metadata": {},
   "outputs": [
    {
     "name": "stdout",
     "output_type": "stream",
     "text": [
      "Satyam\n",
      "Priyanshu\n",
      "Himanshu\n",
      "Babu\n"
     ]
    }
   ],
   "source": [
    "name = [\"Satyam\", \"Priyanshu\", \"Himanshu\", \"Babu\"]  #List Indexing\n",
    "print(name[0])     #Positive Indexing.\n",
    "print(name[1])\n",
    "print(name[2])\n",
    "print(name[3])"
   ]
  },
  {
   "cell_type": "markdown",
   "id": "3edccc84",
   "metadata": {},
   "source": [
    "#Negative Indexing: Similar to Postive Indexing, negative indexing is also used to access items, but from the end of the list.The last item has index[-1], second last item has index[-2], third last item has index[-3] and so on."
   ]
  },
  {
   "cell_type": "code",
   "execution_count": 51,
   "id": "97123466",
   "metadata": {},
   "outputs": [
    {
     "name": "stdout",
     "output_type": "stream",
     "text": [
      "Himanshu\n",
      "Himanshu\n",
      "Himanshu\n",
      "Himanshu\n"
     ]
    }
   ],
   "source": [
    "name = [\"Satyam\", \"priyanshu\", \"Himanshu\", \"babu\", \"Yuvraj\"]\n",
    "print(name[-3])         #Negative Indexing.\n",
    "print(name[len(name)-3]) #Whenever there is a negative indexing first we have to convert them in Positive indexing by using len(name-3)-Function so that it would be easy to calculate.\n",
    "print(name[5-3])   #Total length - (The indexing number)\n",
    "print(name[2])"
   ]
  },
  {
   "cell_type": "markdown",
   "id": "9eb63da8",
   "metadata": {},
   "source": [
    "# Check whether the item is present in the list or not. : This is done using in keyword."
   ]
  },
  {
   "cell_type": "code",
   "execution_count": 5,
   "id": "5dd98193",
   "metadata": {},
   "outputs": [
    {
     "name": "stdout",
     "output_type": "stream",
     "text": [
      "Yes\n",
      "Yes\n"
     ]
    }
   ],
   "source": [
    "marks = [1,5,6,\"Satyam\", \"priyanshu\"]\n",
    "if 6 in marks:\n",
    "    print(\"Yes\")\n",
    "else:\n",
    "    print(\"No\")\n",
    "\n",
    "#     #Same things applies for strings as well.\n",
    "# if \"Sa\" in \"Satyam\":\n",
    "#     print(\"Yes\")"
   ]
  },
  {
   "cell_type": "code",
   "execution_count": 28,
   "id": "fbe1a5aa",
   "metadata": {},
   "outputs": [
    {
     "name": "stdout",
     "output_type": "stream",
     "text": [
      "11\n",
      "[1, 5, 6, 'Satyam', 'priyanshu', 56, 25, 689, 25, 1, 25]\n",
      "[5, 6, 'Satyam', 'priyanshu', 56, 25, 689]\n",
      "[5, 'Satyam', 56, 689]\n"
     ]
    }
   ],
   "source": [
    "marks = [1,5,6,\"Satyam\", \"priyanshu\",56,25,689,25,1,25]\n",
    "print(len(marks))\n",
    "print(marks)\n",
    "print(marks[1:8])\n",
    "print(marks[1:8:2])  #Jump Index....... #Doubt"
   ]
  },
  {
   "cell_type": "markdown",
   "id": "f41ad925",
   "metadata": {},
   "source": [
    "# List Comprehension"
   ]
  },
  {
   "cell_type": "markdown",
   "id": "ced030ee",
   "metadata": {},
   "source": [
    "List Comprehension is used for creating new lists from other iterable like lists,tuples,dictionaries, sets, and even in arrays and strings.\n",
    "\n",
    "Syntax : [Expression(item) for item in iterable if Condition)"
   ]
  },
  {
   "cell_type": "code",
   "execution_count": 1,
   "id": "640a5331",
   "metadata": {},
   "outputs": [
    {
     "name": "stdout",
     "output_type": "stream",
     "text": [
      "[0, 1, 4, 9, 16, 25, 36, 49, 64, 81]\n",
      "[0, 4, 16, 36, 64]\n"
     ]
    }
   ],
   "source": [
    "# lst = [i*i for i in range(5)]\n",
    "# print(lst)\n",
    "#We can change List comprehension using if conditon also...\n",
    "\n",
    "lst = [i*i for i in range(10)]\n",
    "print(lst)\n",
    "lst = [i*i for i in range(10) if i%2==0]\n",
    "print(lst)"
   ]
  },
  {
   "cell_type": "code",
   "execution_count": 3,
   "id": "8ecf9cfe",
   "metadata": {},
   "outputs": [
    {
     "name": "stdout",
     "output_type": "stream",
     "text": [
      "[0, 4, 16, 36, 64]\n"
     ]
    }
   ],
   "source": [
    "\n",
    "lst = [i*i for i in range(10) if i%2==0]\n",
    "print(lst)"
   ]
  },
  {
   "cell_type": "markdown",
   "id": "b2f5a6f2",
   "metadata": {},
   "source": [
    "# List Methods."
   ]
  },
  {
   "cell_type": "code",
   "execution_count": 5,
   "id": "0cadb992",
   "metadata": {},
   "outputs": [
    {
     "name": "stdout",
     "output_type": "stream",
     "text": [
      "[1, 2, 3, 4]\n",
      "[1, 2, 3, 4, 5]\n"
     ]
    }
   ],
   "source": [
    "l = [1,2,3,4,]\n",
    "print(l)\n",
    "l.append(5)  #We can add element using an append List Methods.\n",
    "print(l)   "
   ]
  },
  {
   "cell_type": "code",
   "execution_count": 17,
   "id": "a908cc78",
   "metadata": {},
   "outputs": [
    {
     "name": "stdout",
     "output_type": "stream",
     "text": [
      "[1, 2, 35, 51, 5, 10]\n"
     ]
    }
   ],
   "source": [
    "l = [1,2,35,51,5]\n",
    "l.append(10)\n",
    "print(l)"
   ]
  },
  {
   "cell_type": "code",
   "execution_count": 26,
   "id": "1b9e52fa",
   "metadata": {},
   "outputs": [
    {
     "name": "stdout",
     "output_type": "stream",
     "text": [
      "7\n"
     ]
    }
   ],
   "source": [
    "name = [21,25,58,659,48,56,52]\n",
    "print(len(name))"
   ]
  },
  {
   "cell_type": "markdown",
   "id": "45e68d74",
   "metadata": {},
   "source": [
    " list.sort() : This method sorts the list in ascending order."
   ]
  },
  {
   "cell_type": "code",
   "execution_count": 32,
   "id": "aff6a0e9",
   "metadata": {},
   "outputs": [
    {
     "name": "stdout",
     "output_type": "stream",
     "text": [
      "7\n",
      "2\n",
      "2\n",
      "[11, 45, 98, 25, 999, 2, 3, 3]\n"
     ]
    }
   ],
   "source": [
    "l = [11,45,98,25,2,3,3]\n",
    "print(len(l))\n",
    "# l.sort()               #It is used for ascending order\n",
    "# l.sort(reverse=True)   #This function is used for descending order..\n",
    "# l.reverse()            #It is used to reverse the original list.\n",
    "print(l.index(98))     #This method return the index of the first occurence of the list item. \n",
    "print(l.count(3))      #It returns the count of the number of items with the given value.\n",
    "l.insert(4, 999)         #This methods insert an item at the given index. User has to specify index and the item to be inserted within the insert() bracket.\n",
    "print(l)\n"
   ]
  },
  {
   "cell_type": "code",
   "execution_count": 7,
   "id": "a27e6f67",
   "metadata": {},
   "outputs": [
    {
     "name": "stdout",
     "output_type": "stream",
     "text": [
      "[53, 95, 69, 52, 21]\n"
     ]
    }
   ],
   "source": [
    "l = [21,52,69,95,53]\n",
    "#l.sort()\n",
    "l.reverse()\n",
    "print(l)"
   ]
  },
  {
   "cell_type": "code",
   "execution_count": 37,
   "id": "5841c770",
   "metadata": {},
   "outputs": [
    {
     "name": "stdout",
     "output_type": "stream",
     "text": [
      "[2, 25, 10, 46, 32, 96]\n",
      "[2, 25, 10, 46, 32, 96]\n"
     ]
    }
   ],
   "source": [
    "l = [2,25,10,46,32,96]\n",
    "print(l)\n",
    "m = l.copy()   #It returns copy of the list.This can be done to perform operations on the list without modifying the original list.\n",
    "m[0] = 0\n",
    "print(l)"
   ]
  },
  {
   "cell_type": "code",
   "execution_count": 13,
   "id": "ff6198ef",
   "metadata": {},
   "outputs": [
    {
     "name": "stdout",
     "output_type": "stream",
     "text": [
      "[20, 21, 55, 85, 9, 65]\n",
      "[20, 21, 55, 85, 9, 65, 300, 500, 1000]\n"
     ]
    }
   ],
   "source": [
    "l = [20,21,55,85,9,65]\n",
    "print(l)\n",
    "m = [300,500,1000]\n",
    "l.extend(m)   #this method adds an entire list or any other collection datatype (set,tuple,dictionary) to the existing list.\n",
    "print(l)"
   ]
  },
  {
   "cell_type": "code",
   "execution_count": 15,
   "id": "ac161338",
   "metadata": {},
   "outputs": [
    {
     "name": "stdout",
     "output_type": "stream",
     "text": [
      "[20, 15, 58, 25, 90, 500, 50000]\n"
     ]
    }
   ],
   "source": [
    "l = [20,15,58,25]\n",
    "m = [90,500,50000]\n",
    "k = l + m     #You can simply concatenate or merge two lists to join two list.\n",
    "print(k)"
   ]
  },
  {
   "cell_type": "markdown",
   "id": "577edeef",
   "metadata": {},
   "source": [
    "# Python tuples and Tuple Indexes."
   ]
  },
  {
   "cell_type": "markdown",
   "id": "0e7d60cc",
   "metadata": {},
   "source": [
    "Python Tuples: Tuples are the ordered collection of data items. They store multiple items in a single variable.Tuples items are seprated by commas and enclosed within round brackets(). Tuples are unchangeable meaning we cannot alter them after creation."
   ]
  },
  {
   "cell_type": "code",
   "execution_count": 9,
   "id": "a676abdd",
   "metadata": {},
   "outputs": [
    {
     "name": "stdout",
     "output_type": "stream",
     "text": [
      "<class 'tuple'> (2, 65, 6, 'Satyam', 'Kiddo')\n",
      "<class 'tuple'> (1,)\n"
     ]
    }
   ],
   "source": [
    "tup = (2,65,6, \"Satyam\", \"Kiddo\")\n",
    "print(type(tup), tup)\n",
    "\n",
    "tup =(1,)       #If you are creating a 'Tuple' with only one element so you have to add comma(,) at the last else it will give result as a Integer.\n",
    "print(type(tup),tup)\n"
   ]
  },
  {
   "cell_type": "markdown",
   "id": "37c75bed",
   "metadata": {},
   "source": [
    "Tuple Indexes: Each item/element in a tuple has its own unique index.This index can be used to access any particular item from the tuple. The first item has index[0], second item has index[1] and so on.."
   ]
  },
  {
   "cell_type": "code",
   "execution_count": 35,
   "id": "77405ed8",
   "metadata": {},
   "outputs": [
    {
     "name": "stdout",
     "output_type": "stream",
     "text": [
      "<class 'tuple'> (21, 55, 85, 26, 89, 3)\n",
      "6\n",
      "21\n",
      "55\n",
      "85\n",
      "3\n",
      "89\n",
      "26\n"
     ]
    }
   ],
   "source": [
    "tup = (21,55,85,26,89,3)  #Tuple Indexing...\n",
    "print(type(tup),tup)\n",
    "print(len(tup))\n",
    "print(tup[0])     #Positive Indexin\n",
    "print(tup[1])\n",
    "print(tup[2])\n",
    "print(tup[5])\n",
    "print(tup[-2])  #Negative Indexing.\n",
    "print(tup[-3])\n"
   ]
  },
  {
   "cell_type": "code",
   "execution_count": 3,
   "id": "e24c9990",
   "metadata": {},
   "outputs": [
    {
     "name": "stdout",
     "output_type": "stream",
     "text": [
      "<class 'tuple'> ('Satyam', 25, 55, 86, 98, 56, 85)\n",
      "85\n",
      "56\n"
     ]
    }
   ],
   "source": [
    "tup = (\"Satyam\", 25,55,86,98,56,85)\n",
    "print(type(tup),tup)\n",
    "print(tup[-1])\n",
    "print(tup[-2])"
   ]
  },
  {
   "cell_type": "code",
   "execution_count": 6,
   "id": "6cbfaf5b",
   "metadata": {},
   "outputs": [
    {
     "name": "stdout",
     "output_type": "stream",
     "text": [
      "Yes 2456 is present in this tuple\n",
      "(25, 589)\n"
     ]
    }
   ],
   "source": [
    "tup = (2456,25,589,25)\n",
    "if 2456 in tup:\n",
    "    print(\"Yes 2456 is present in this tuple\")   #Check for an item: We can check if a given item is present in the tuple. \n",
    "else:                                            #This is done using the in Keyword.\n",
    "    print(\"NO it is  not present\")\n",
    "    \n",
    "tup2 = tup[1:3]     #slicing of Tuple\n",
    "print(tup2)"
   ]
  },
  {
   "cell_type": "code",
   "execution_count": 7,
   "id": "90df7127",
   "metadata": {},
   "outputs": [
    {
     "name": "stdout",
     "output_type": "stream",
     "text": [
      "('Priyanshu', 78, 79)\n"
     ]
    }
   ],
   "source": [
    "name = (\"Satyam\", \"Priyanshu\", 78,79,80,85)\n",
    "print(name[1:4]) #Range()  #The search will start at index 1 and end at index 4(not included)."
   ]
  },
  {
   "cell_type": "code",
   "execution_count": 12,
   "id": "ed6218f1",
   "metadata": {},
   "outputs": [
    {
     "name": "stdout",
     "output_type": "stream",
     "text": [
      "(24, 25, 8)\n",
      "(24, 25, 8)\n"
     ]
    }
   ],
   "source": [
    "tup = (24,25,8,84,69,32)\n",
    "print(tup[0:3])   #If it is given like this than we should add the length of the tuple and vice versa means (0).\n",
    "print(tup[:3])  #Range(): When no index is provided, the interpreter prints all the values till the end.\n"
   ]
  },
  {
   "cell_type": "code",
   "execution_count": 41,
   "id": "8eeae467",
   "metadata": {},
   "outputs": [
    {
     "name": "stdout",
     "output_type": "stream",
     "text": [
      "(24, 54, 54)\n",
      "(24, 54, 54)\n"
     ]
    }
   ],
   "source": [
    "tup =  (24,54,54,684,55)\n",
    "print(tup[0:3])\n",
    "print(tup[:3])"
   ]
  },
  {
   "cell_type": "code",
   "execution_count": 42,
   "id": "82fc949e",
   "metadata": {},
   "outputs": [
    {
     "name": "stdout",
     "output_type": "stream",
     "text": [
      "10\n",
      "(48, 62, 84, 154, 143)\n",
      "(84, 154, 143)\n"
     ]
    }
   ],
   "source": [
    "a = (48,58,62,656,84,566,154,25,143,852)\n",
    "print(len(a))\n",
    "print(a[::2])\n",
    "print(a[-6:-1:2])  #Here we have subtracted -6 with the total length of the tuples, and then we find the postive index and according to that we have done the slicing.\n"
   ]
  },
  {
   "cell_type": "code",
   "execution_count": 16,
   "id": "7f798263",
   "metadata": {},
   "outputs": [
    {
     "name": "stdout",
     "output_type": "stream",
     "text": [
      "('Priyanshu', 'Yash', 'Sachin')\n"
     ]
    }
   ],
   "source": [
    "#printing the 3rd Consecutive within the given range.\n",
    "\n",
    "name = (\"Satyam\", \"Priyanshu\", \"Himanshu\", \"Yash\", \"Vishu\",\"Sachin\",\"Prashant\", \"Richa\", \"Esha\", \"Babu\")\n",
    "print(name[1:6:2])   #here jump index is 3. Hence, it prints every 3rd element within given index."
   ]
  },
  {
   "cell_type": "markdown",
   "id": "e6f4a509",
   "metadata": {},
   "source": [
    "# Operations on Tuple.  (DOUBT)"
   ]
  },
  {
   "cell_type": "markdown",
   "id": "ecb6ce4b",
   "metadata": {},
   "source": [
    "#Manipulating Tuples: Tuples are immutable, hence if you want to add, remove or change tuple items, then first you must convert the tuple into list. Then perform the operation on that list and convert it back to tuple."
   ]
  },
  {
   "cell_type": "code",
   "execution_count": 61,
   "id": "95a7f093",
   "metadata": {},
   "outputs": [],
   "source": [
    "# fruits = (\"Mango\", \"Apple\", \"Kiwi\", \"Grapes\", \"Pineapple\")\n",
    "# temp = list(fruits)\n",
    "# temp.append(\"Strawberry\")\n",
    "#temp.pop(1)\n",
    "# temp[3] = (\"Papaya\")     We will try agin this code...\n",
    "# fruits = tuple(temp) \n",
    "# print(fruits)\n"
   ]
  },
  {
   "cell_type": "code",
   "execution_count": 22,
   "id": "9d672233",
   "metadata": {},
   "outputs": [
    {
     "name": "stdout",
     "output_type": "stream",
     "text": [
      "('Mango', 'kiwi', 'grapes', 'Papaya', 'Strwaberry')\n"
     ]
    }
   ],
   "source": [
    "fruits = (\"Mango\", \"Apple\", \"kiwi\", \"grapes\", \"pineapple\")\n",
    "temp = list(fruits)\n",
    "temp.append(\"Strwaberry\")\n",
    "temp.pop(1)\n",
    "temp[3] = (\"Papaya\")\n",
    "fruits = tuple(temp)\n",
    "print(fruits)"
   ]
  },
  {
   "cell_type": "markdown",
   "id": "799e33e1",
   "metadata": {},
   "source": [
    "We have to convert the tuple to a list, manipulate items of the list using list methods, then convert list back to tuple.\n",
    "\n",
    "However, we can directly concatenate or merge two tuples without converting them to list."
   ]
  },
  {
   "cell_type": "code",
   "execution_count": 21,
   "id": "bff750d1",
   "metadata": {},
   "outputs": [
    {
     "name": "stdout",
     "output_type": "stream",
     "text": [
      "('Spain', 'Italy', 'India', 'Finland', 'Germany')\n"
     ]
    }
   ],
   "source": [
    "countries = (\"Spain\", \"Italy\", \"India\", \"England\", \"Germany\")\n",
    "sam = list(countries)\n",
    "#sam.append(\"Russia\")       #add item \n",
    "#countries.pop(3)                 #remove item\n",
    "sam[3] = (\"Finland\" )        #change item\n",
    "countries = tuple(sam)\n",
    "print(countries)"
   ]
  },
  {
   "cell_type": "code",
   "execution_count": 18,
   "id": "9866988c",
   "metadata": {},
   "outputs": [
    {
     "name": "stdout",
     "output_type": "stream",
     "text": [
      "('India', 'Italy', 'Finland', 'England', 'Russia')\n",
      "satyam\n"
     ]
    }
   ],
   "source": [
    "countries = (\"India\", \"Italy\", \"Spain\", \"England\")\n",
    "temp = list(countries)\n",
    "temp.append(\"Russia\")   #Doubt in POP function()\n",
    "#temp.pop(1)\n",
    "temp[2] = \"Finland\"\n",
    "countries = tuple(temp)\n",
    "print(countries)\n"
   ]
  },
  {
   "cell_type": "code",
   "execution_count": 37,
   "id": "53b0a44a",
   "metadata": {},
   "outputs": [
    {
     "name": "stdout",
     "output_type": "stream",
     "text": [
      "('Satyam', 'Priyanshu', 'Himanshu', 'Babu', 'Yuvraj', 'Richa', 'Kiddo', 'Rounak')\n"
     ]
    }
   ],
   "source": [
    "friends = (\"Satyam\", \"Priyanshu\", \"Himanshu\", \"Babu\")\n",
    "friends1 = (\"Yuvraj\", \"Richa\", \"Kiddo\", \"Rounak\")\n",
    "bestfriends = friends + friends1    #Concatenate or Merge\n",
    "print(bestfriends)   "
   ]
  },
  {
   "cell_type": "markdown",
   "id": "f17e388b",
   "metadata": {},
   "source": [
    "# Tuple Methods  DOUBT"
   ]
  },
  {
   "cell_type": "markdown",
   "id": "d710e3da",
   "metadata": {},
   "source": [
    "As Tuple is immutable type of collection of elements it have limited built in methods."
   ]
  },
  {
   "cell_type": "code",
   "execution_count": 10,
   "id": "2f571139",
   "metadata": {},
   "outputs": [
    {
     "name": "stdout",
     "output_type": "stream",
     "text": [
      "Count of 3 in tuple1 is: 4\n"
     ]
    }
   ],
   "source": [
    "tuple1 = (0, 1, 2, 3, 2, 3, 1, 3, 2, 3)\n",
    "res = tuple1.count(3)  #The count() method of Tuple returns the number of times the given element appears in the tuple.\n",
    "print('Count of 3 in tuple1 is:', res)\n"
   ]
  },
  {
   "cell_type": "code",
   "execution_count": 2,
   "id": "2c397469",
   "metadata": {},
   "outputs": [
    {
     "name": "stdout",
     "output_type": "stream",
     "text": [
      "count of 3 in tupp1 is: 2\n"
     ]
    }
   ],
   "source": [
    "tupp1 = (0,5,2,5,8,3,5,3,3)\n",
    "sat = tupp1.index(2)  #The index() method returns the first occurence of the given element from the tuple.\n",
    "# sat = len(tupp1)   #Length function in Tuple #len()\n",
    "print('count of 3 in tupp1 is:', sat)    #Note: This method raises a value error if the element is  not found in the tuple."
   ]
  },
  {
   "cell_type": "code",
   "execution_count": 77,
   "id": "a8f7b6b2",
   "metadata": {},
   "outputs": [
    {
     "name": "stdout",
     "output_type": "stream",
     "text": [
      "Count of 3 in tuple2 is: 7\n"
     ]
    }
   ],
   "source": [
    "tuple2 = (0,1,2,3,2,40,1,3,2,3)    #Tricky but understandable. \n",
    "satt = tuple2.index(3, 4, 8)    #Syntax: tuple.index(element, start, end)\n",
    "print('Count of 3 in tuple2 is:', satt)"
   ]
  },
  {
   "cell_type": "markdown",
   "id": "7b797651",
   "metadata": {},
   "source": [
    "*WAP capable of greeting you with GM< GA, and GE, Program should use time module to get the current hour."
   ]
  },
  {
   "cell_type": "code",
   "execution_count": 45,
   "id": "11a1cc4b",
   "metadata": {},
   "outputs": [
    {
     "name": "stdout",
     "output_type": "stream",
     "text": [
      "Good Morning Satyam!\n"
     ]
    }
   ],
   "source": [
    "import time\n",
    "t = time.strftime('%H:%M:%S')     #Time Module.\n",
    "hour = int(time.strftime('%H'))\n",
    "# hour = int(input(\"Enter hour: \"))\n",
    "# print(hour)\n",
    "\n",
    "if(hour>=0 and hour<12):\n",
    "    print(\"Good Morning Satyam!\")\n",
    "elif(hour>=12 and hour<17):\n",
    "    print(\"Good Afternoon Satyam!\")\n",
    "elif(hour>=17 and hour<24):\n",
    "    print(\"Good Night Satyam!\")"
   ]
  },
  {
   "cell_type": "markdown",
   "id": "22b17bd7",
   "metadata": {},
   "source": [
    "WAP capable of displaying questions to the user like KBC.\n",
    "Use list data type to store the questions and their correct answers.\n",
    "Display the final amount the person is taking home after playing the game."
   ]
  },
  {
   "cell_type": "markdown",
   "id": "a44bd42d",
   "metadata": {},
   "source": [
    "# String Formatting in Python."
   ]
  },
  {
   "cell_type": "code",
   "execution_count": null,
   "id": "4d561365",
   "metadata": {},
   "outputs": [],
   "source": [
    "String  Formatting can be done using the format method."
   ]
  },
  {
   "cell_type": "code",
   "execution_count": 24,
   "id": "66613aed",
   "metadata": {},
   "outputs": [
    {
     "name": "stdout",
     "output_type": "stream",
     "text": [
      "For only 49.06 dollars!\n"
     ]
    }
   ],
   "source": [
    "# txt = \"for only {price:.2f} dollars!\"\n",
    "# print(txt.format(price = 49.099))\n",
    "\n",
    "price = 49.055555\n",
    "txt = f\"For only {price:.2f} dollars!\"   #using f\"\" Strings\n",
    "print(txt)\n"
   ]
  },
  {
   "cell_type": "code",
   "execution_count": 2,
   "id": "5832e059",
   "metadata": {},
   "outputs": [
    {
     "name": "stdout",
     "output_type": "stream",
     "text": [
      "Hey my name is Satyam and I am from India\n"
     ]
    }
   ],
   "source": [
    "# letter = \"Hey my name is {} and I am from {}\"\n",
    "# country = \"India\"\n",
    "# name = \"Satyam\"\n",
    "# print(letter.format(name,country))   #String formatting \n",
    "\n",
    "\n",
    "letter = \"Hey my name is {1} and I am from {0}\"\n",
    "country = \"India\"\n",
    "name = \"Satyam\"\n",
    "print(letter.format(country,name)) "
   ]
  },
  {
   "cell_type": "code",
   "execution_count": 3,
   "id": "dde2be29",
   "metadata": {},
   "outputs": [
    {
     "name": "stdout",
     "output_type": "stream",
     "text": [
      "Hey my name is Satyam and I am from India\n"
     ]
    }
   ],
   "source": [
    "letter = \"Hey my name is {} and I am from {}\"\n",
    "country = \"India\"\n",
    "name = \"Satyam\"\n",
    "print(letter.format(name,country))"
   ]
  },
  {
   "cell_type": "code",
   "execution_count": 25,
   "id": "002346cc",
   "metadata": {},
   "outputs": [
    {
     "name": "stdout",
     "output_type": "stream",
     "text": [
      "Hey satyam is a good friend of Himanshu and priyanshu is a good friend of Satyam\n"
     ]
    }
   ],
   "source": [
    "a = \"Hey satyam is a good {} and priyanshu is a good {}\"\n",
    "frnd  = \"friend of Himanshu\"\n",
    "name = \"friend of Satyam\"\n",
    "print(a.format(frnd,name))"
   ]
  },
  {
   "cell_type": "code",
   "execution_count": null,
   "id": "3df14900",
   "metadata": {},
   "outputs": [],
   "source": []
  },
  {
   "cell_type": "markdown",
   "id": "c55a6f8a",
   "metadata": {},
   "source": [
    "# f-strings in python  (f\"\")"
   ]
  },
  {
   "cell_type": "markdown",
   "id": "dee8bed8",
   "metadata": {},
   "source": [
    "It is a new string formatting mechanism introduced by the PEP 498. It is also known as Literal String Interpolation or more commonly as F-strings.The primary focus of this mechanism is to make the interpolation easier.\n",
    "when we fix the string with the letter 'f',  the string becomes the f-string itself.The f-string can be formatted in much same as the str.format() method. The f-string offers a convenient way to embed Python expressions inside the string literals for formatting."
   ]
  },
  {
   "cell_type": "code",
   "execution_count": 12,
   "id": "b439e564",
   "metadata": {},
   "outputs": [
    {
     "name": "stdout",
     "output_type": "stream",
     "text": [
      "Hey my name is Satyam and I am from India\n"
     ]
    }
   ],
   "source": [
    "letter = \"Hey my name is {} and I am from {}\"\n",
    "country = \"India\"\n",
    "name = \"Satyam\"\n",
    "#print(letter.format(name,country))   #String formatting \n",
    "\n",
    "\n",
    "print(f\"Hey my name is {name} and I am from {country}\")    #f\"\" (f-strings in python)\n",
    "\n"
   ]
  },
  {
   "cell_type": "code",
   "execution_count": 27,
   "id": "a4e5e97e",
   "metadata": {},
   "outputs": [
    {
     "name": "stdout",
     "output_type": "stream",
     "text": [
      "For only 49.10 dollars!\n"
     ]
    }
   ],
   "source": [
    "price = 49.09999\n",
    "txt = f\"For only {price:.2f} dollars!\"  #using F strings\n",
    "print(txt)"
   ]
  },
  {
   "cell_type": "code",
   "execution_count": 28,
   "id": "810ad873",
   "metadata": {},
   "outputs": [
    {
     "name": "stdout",
     "output_type": "stream",
     "text": [
      "We use f-strings like this: Hey my name is Satyam and I am from India\n",
      "\n",
      "<class 'str'>\n"
     ]
    }
   ],
   "source": [
    "name = \"Satyam\"\n",
    "country = \"India\"\n",
    "\n",
    "print(f\"We use f-strings like this: Hey my name is {name} and I am from {country}\")\n",
    "print(f\"\")\n",
    "\n",
    "print(type(f\"{2 * 30}\"))  #We can use it as a single statement as well.\n"
   ]
  },
  {
   "cell_type": "markdown",
   "id": "30d42fb5",
   "metadata": {},
   "source": [
    "# Docstrings in Python  "
   ]
  },
  {
   "cell_type": "markdown",
   "id": "13cba32a",
   "metadata": {},
   "source": [
    "Python docstrings are the string literals that appear right after the definiton of a function, method, class, or module."
   ]
  },
  {
   "cell_type": "code",
   "execution_count": 20,
   "id": "caa0f95d",
   "metadata": {
    "scrolled": true
   },
   "outputs": [
    {
     "name": "stdout",
     "output_type": "stream",
     "text": [
      "25\n"
     ]
    }
   ],
   "source": [
    "def square(n):\n",
    "    '''Takes in a number n, returns the square of n'''\n",
    "    print(n**2)\n",
    "square(5)\n"
   ]
  },
  {
   "cell_type": "markdown",
   "id": "f058f799",
   "metadata": {},
   "source": [
    "Python Comments vs Docstrings\n",
    "\n",
    "Python Comments:\n",
    "Comments are descriptions that help programmers better understand the intent and functionality of the program. They are completely ignored by the Python interpreter.\n",
    "\n",
    "Python docstrings : It is used for documentation purpose.\n",
    "As mentioned above, Python docstrings are strings used right after the definition of a function, method, class, or module (like in Example 1). They are used to document our code.\n",
    "We can access these docstrings using the doc attribute.\n",
    "\n",
    "Python doc attribute:\n",
    "Whenever string literals are present just after the definition of a function, module, class or method, they are associated with the object as their doc attribute. We can later use this attribute to retrieve this docstring."
   ]
  },
  {
   "cell_type": "code",
   "execution_count": 4,
   "id": "2500f05a",
   "metadata": {},
   "outputs": [
    {
     "name": "stdout",
     "output_type": "stream",
     "text": [
      "25\n",
      "Takes in a number n, returns the square of n\n"
     ]
    }
   ],
   "source": [
    "def square(n):\n",
    "    '''Takes in a number n, returns the square of n'''\n",
    "    print(n**2)\n",
    "square(5)\n",
    "print(square.__doc__)"
   ]
  },
  {
   "cell_type": "markdown",
   "id": "b80be7a0",
   "metadata": {},
   "source": [
    "# PEP 8 (asked in Interviews)"
   ]
  },
  {
   "cell_type": "markdown",
   "id": "3f63a46b",
   "metadata": {},
   "source": [
    "PEP 8 is a document that provides guidelines and best practices on how to write Python Code. It was written in 2001 by Guido Van Rossum, Barru Warsaw, and Nick Coghlan. The primary focus of PEP 8 is to improve the readability and consistency of Python code. \n",
    "\n",
    "It stands for Python Enhancement Proposal, and there are several of them. A PEP is a document that describes new features proposed by python and documents aspects of python, like design and style, for the community."
   ]
  },
  {
   "cell_type": "markdown",
   "id": "75c3a320",
   "metadata": {},
   "source": [
    "# The Zen of Python"
   ]
  },
  {
   "cell_type": "markdown",
   "id": "a3c44846",
   "metadata": {},
   "source": [
    "Long time Pythoneer Tim Peters succinctly channels the BDFL's guiding principles for python's design into 20 aphorisms only 19 of which have been written down."
   ]
  },
  {
   "cell_type": "code",
   "execution_count": 1,
   "id": "2460d3c6",
   "metadata": {},
   "outputs": [
    {
     "name": "stdout",
     "output_type": "stream",
     "text": [
      "The Zen of Python, by Tim Peters\n",
      "\n",
      "Beautiful is better than ugly.\n",
      "Explicit is better than implicit.\n",
      "Simple is better than complex.\n",
      "Complex is better than complicated.\n",
      "Flat is better than nested.\n",
      "Sparse is better than dense.\n",
      "Readability counts.\n",
      "Special cases aren't special enough to break the rules.\n",
      "Although practicality beats purity.\n",
      "Errors should never pass silently.\n",
      "Unless explicitly silenced.\n",
      "In the face of ambiguity, refuse the temptation to guess.\n",
      "There should be one-- and preferably only one --obvious way to do it.\n",
      "Although that way may not be obvious at first unless you're Dutch.\n",
      "Now is better than never.\n",
      "Although never is often better than *right* now.\n",
      "If the implementation is hard to explain, it's a bad idea.\n",
      "If the implementation is easy to explain, it may be a good idea.\n",
      "Namespaces are one honking great idea -- let's do more of those!\n"
     ]
    }
   ],
   "source": [
    "import this"
   ]
  },
  {
   "cell_type": "markdown",
   "id": "59acd8eb",
   "metadata": {},
   "source": [
    "# Recursion in Python."
   ]
  },
  {
   "cell_type": "markdown",
   "id": "80015636",
   "metadata": {},
   "source": [
    "Recursion is the process of defining something in terms of itself OR:\n",
    "It means that function calls itself."
   ]
  },
  {
   "cell_type": "markdown",
   "id": "cbc484ab",
   "metadata": {},
   "source": [
    "Python Recursive Function: \n",
    "\n",
    "In Python, we know that a function can call other functions. It is even possible for the function to call itself. These types of construct are termed as recursive functions."
   ]
  },
  {
   "cell_type": "code",
   "execution_count": 6,
   "id": "b80506bb",
   "metadata": {},
   "outputs": [
    {
     "name": "stdout",
     "output_type": "stream",
     "text": [
      "6\n",
      "24\n",
      "120\n",
      "5040\n"
     ]
    }
   ],
   "source": [
    "# factorial(7) = 7*6*5*4*3*2*1\n",
    "# factorial(6) = 6*5*4*3*2*1\n",
    "# factorial(5) = 5*4*3*2*1\n",
    "# factorial(4) = 4*3*2*1\n",
    "# factorial(3) = 3*2*1\n",
    "# factorial(0) = 1\n",
    "\n",
    "#factorial(n) = n * factor(n-1)\n",
    "\n",
    "def factorial(n):\n",
    "    if(n==0 or n==1):\n",
    "        return 1 \n",
    "    else:\n",
    "        return n * factorial(n-1)\n",
    "print(factorial(3))\n",
    "print(factorial(4))\n",
    "print(factorial(5))\n",
    "print(factorial(7))"
   ]
  },
  {
   "cell_type": "code",
   "execution_count": 6,
   "id": "f7eaaaff",
   "metadata": {},
   "outputs": [
    {
     "name": "stdout",
     "output_type": "stream",
     "text": [
      "6\n",
      "1\n"
     ]
    }
   ],
   "source": [
    "def factorial(n):\n",
    "    if (n==0 or n==1):\n",
    "        return 1\n",
    "    else:\n",
    "        return n * factorial(n-1)\n",
    "print(factorial(3))\n",
    "print(factorial(1))\n"
   ]
  },
  {
   "cell_type": "markdown",
   "id": "d9f95937",
   "metadata": {},
   "source": [
    "*Fibonacci Series: The Fibonacci series, named after Italian Mathematician named Leonardo Pisano Bogollo, later known as Fibonacci Series(sum) formed by Fibonacci Numbers are denoted as Fn.\n",
    "\n",
    "*The Fibonacci Series is the sequence of numbers, where every number is the sum of the preceding two numbers,such that the first two terms are 'O' and '1'.    (F0=0 and F1= 1) and Fn=Fn-1 +Fn-2 for n>1"
   ]
  },
  {
   "cell_type": "markdown",
   "id": "efe2cbdd",
   "metadata": {},
   "source": [
    "WAP in python to print the Fibonacci series"
   ]
  },
  {
   "cell_type": "code",
   "execution_count": 8,
   "id": "e3c694ac",
   "metadata": {},
   "outputs": [
    {
     "name": "stdout",
     "output_type": "stream",
     "text": [
      "How many terms? 10\n",
      "Fibonacci Sequence:\n",
      "0\n",
      "1\n",
      "1\n",
      "2\n",
      "3\n",
      "5\n",
      "8\n",
      "13\n",
      "21\n",
      "34\n"
     ]
    }
   ],
   "source": [
    "#Program to display the Fibonacci Series\n",
    "\n",
    "nterms = int(input(\"How many terms? \"))\n",
    "\n",
    "#first two terms\n",
    "n1 = 0\n",
    "n2 = 1\n",
    "count = 0\n",
    "\n",
    "#Check if the number of terms is valid\n",
    "if nterms <= 0:\n",
    "    print(\"Please enter a positive integer\")\n",
    "#if there is only one term, return n1\n",
    "elif nterms == 1:\n",
    "    print(\"Fibonacci Sequence upto\",nterms,\":\")\n",
    "    print(n1)\n",
    "\n",
    "#Generate Fibonacci sequence\n",
    "else:\n",
    "    print(\"Fibonacci Sequence:\")\n",
    "    while count < nterms:\n",
    "        print(n1)\n",
    "        nth = n1 + n2\n",
    "        #Update values\n",
    "        n1= n2\n",
    "        n2 = nth\n",
    "        count += 1"
   ]
  },
  {
   "cell_type": "code",
   "execution_count": 2,
   "id": "51e08873",
   "metadata": {},
   "outputs": [
    {
     "name": "stdout",
     "output_type": "stream",
     "text": [
      "Enter the number of terms needed in Fibonacci Series: 5\n",
      "0   1 1 2 3 "
     ]
    }
   ],
   "source": [
    "#Fibonacci Sequence \n",
    "\n",
    "n = int(input(\"Enter the number of terms needed in Fibonacci Series: \"))\n",
    "f1 , f2 = 0, 1\n",
    "if n == 1:\n",
    "    print(f1)\n",
    "elif n == 2:\n",
    "    print(f1, ' ', f1)\n",
    "else:\n",
    "    print(f1, ' ',f2, end =' ')\n",
    "    for i in range (3, n+1):\n",
    "        f3 = f1 + f2\n",
    "        print(f3, end= ' ')\n",
    "        f1 = f2\n",
    "        f2 = f3\n",
    "        "
   ]
  },
  {
   "cell_type": "markdown",
   "id": "db124656",
   "metadata": {},
   "source": [
    "# Python Sets."
   ]
  },
  {
   "cell_type": "markdown",
   "id": "9563811e",
   "metadata": {},
   "source": [
    "Sets are unordered collection of data items. They store multiple items in a single variable. Set items are seprated by commas and enclosed within curly brackets{}. Sets are unchangeable, Sets do not contain  duplicate items."
   ]
  },
  {
   "cell_type": "code",
   "execution_count": 14,
   "id": "ad30b6c6",
   "metadata": {},
   "outputs": [
    {
     "name": "stdout",
     "output_type": "stream",
     "text": [
      "{9, 20, 20.9, 'Satyam'}\n"
     ]
    }
   ],
   "source": [
    "name = {\"Satyam\", 9, 20, 20.9, \"Satyam\"}   #It do not contain Duplicate items.\n",
    "print(name) #Here we see that the items of set occur in random order and hence they cannot be accessed using index numbers."
   ]
  },
  {
   "cell_type": "code",
   "execution_count": 17,
   "id": "6a5450e7",
   "metadata": {},
   "outputs": [
    {
     "name": "stdout",
     "output_type": "stream",
     "text": [
      "<class 'set'>\n"
     ]
    }
   ],
   "source": [
    "satyam = set()   #Create a empty set using type() function whether the type of variabel is a set.\n",
    "print(type(satyam))"
   ]
  },
  {
   "cell_type": "code",
   "execution_count": 3,
   "id": "887faaa5",
   "metadata": {},
   "outputs": [
    {
     "name": "stdout",
     "output_type": "stream",
     "text": [
      "9\n",
      "Satyam\n",
      "20\n",
      "20.9\n"
     ]
    }
   ],
   "source": [
    "name = {\"Satyam\", 9, 20, 20.9, \"Satyam\"}\n",
    "for item in name:     #You can access items of set using Loop\n",
    "    print(item)"
   ]
  },
  {
   "cell_type": "code",
   "execution_count": 1,
   "id": "65c95bb3",
   "metadata": {},
   "outputs": [
    {
     "name": "stdout",
     "output_type": "stream",
     "text": [
      "{False, 'Carla', 19, 5.9}\n"
     ]
    }
   ],
   "source": [
    "info = {\"Carla\", 19, False, 5.9, 19}\n",
    "print(info)"
   ]
  },
  {
   "cell_type": "markdown",
   "id": "4caf0114",
   "metadata": {},
   "source": [
    "# Joining Set and Set Methods."
   ]
  },
  {
   "cell_type": "markdown",
   "id": "7abd1f8e",
   "metadata": {},
   "source": [
    "Sets in python more or less work in the same way as sets in Mathematics.We can perform operations like union and intersection on the sets just like in Mathematics."
   ]
  },
  {
   "cell_type": "markdown",
   "id": "63f6c4d2",
   "metadata": {},
   "source": [
    "# Union() and Update():"
   ]
  },
  {
   "cell_type": "markdown",
   "id": "31bc56a1",
   "metadata": {},
   "source": [
    "The union() and update() methods prints all items that are present in the two sets. The union() methods returns a new set whereas update() method  adds items into the existing set from another set."
   ]
  },
  {
   "cell_type": "code",
   "execution_count": 8,
   "id": "10da0bef",
   "metadata": {},
   "outputs": [
    {
     "name": "stdout",
     "output_type": "stream",
     "text": [
      "{2, 18, 20, 52, 23, 56, 25}\n",
      "None\n",
      "{2, 18, 20, 52, 23, 56, 25} {18, 20, 52, 23, 25}\n"
     ]
    }
   ],
   "source": [
    "s1 = {18,56,2,23}\n",
    "s2 = {20,25,52,23,18}\n",
    "print(s1.union(s2))   #union\n",
    "s1.update(s2)  #update() meansadd items to the existing set from another set.\n",
    "print(s1, s2)\n",
    "\n"
   ]
  },
  {
   "cell_type": "code",
   "execution_count": 9,
   "id": "382a8cb8",
   "metadata": {},
   "outputs": [
    {
     "name": "stdout",
     "output_type": "stream",
     "text": [
      "{'Kabul', 'Seoul', 'Tokyo', 'Berlin', 'Delhi', 'Madrid'}\n",
      "{'Kabul', 'Seoul', 'Tokyo', 'Berlin', 'Delhi', 'Madrid'}\n"
     ]
    }
   ],
   "source": [
    "cities = {\"Tokyo\", \"Madrid\", \"Berlin\", \"Delhi\"}\n",
    "cities2 = {\"Tokyo\", \"Seoul\", \"Kabul\", \"Madrid\"}\n",
    "cities3 = cities.union(cities2)    #Union\n",
    "print(cities3)\n",
    "\n",
    "cities = {\"Tokyo\", \"Madrid\", \"Berlin\", \"Delhi\"}\n",
    "cities2 = {\"Tokyo\", \"Seoul\", \"Kabul\", \"Madrid\"}\n",
    "cities.update(cities2)   #update() adds items into the existing set form another set.\n",
    "print(cities)"
   ]
  },
  {
   "cell_type": "markdown",
   "id": "aefd2760",
   "metadata": {},
   "source": [
    "# Intersection and Intersection_update():"
   ]
  },
  {
   "cell_type": "markdown",
   "id": "1a31faae",
   "metadata": {},
   "source": [
    "The intersection() and intersection_update() methods prints only items that are similar to both the sets. The intersection() nethod returns a new set whereas intersection_update() method updates into the existing set from another set."
   ]
  },
  {
   "cell_type": "code",
   "execution_count": 2,
   "id": "028b5814",
   "metadata": {},
   "outputs": [
    {
     "name": "stdout",
     "output_type": "stream",
     "text": [
      "{'Satyam', 'Himanshu', 'Priyanshu'}\n"
     ]
    }
   ],
   "source": [
    "# # name1 = {\"Satyam\", \"Priyanshu\", \"Himanshu\", \"Yuvraj\"}\n",
    "# # name2 = {\"Satyam\", \"Priyanshu\", \"Rounak\", \"Suraj Pandey\",\"Himanshu\"}\n",
    "# # name3 = name1.intersection(name2)   #Intersection \n",
    "# # print(name3)\n",
    "   \n",
    "# n = {\"Satyam\", \"Rounak\", \"kiddo\", \"Kanku\"}\n",
    "# n1 = {\"Rounak\", \"kiddo\", \"Satyam\"}\n",
    "# n.intersection_update(n1)#Intersection_update()\n",
    "# print(n)\n",
    "\n",
    "name1 = {\"Satyam\", \"Priyanshu\", \"Himanshu\", \"Yuvraj\"}\n",
    "name2 = {\"Satyam\", \"Priyanshu\", \"Rounak\", \"Suraj Pandey\",\"Himanshu\"}\n",
    "name1.intersection_update(name2)   #Intersection()\n",
    "print(name1)"
   ]
  },
  {
   "cell_type": "code",
   "execution_count": 26,
   "id": "b4133820",
   "metadata": {},
   "outputs": [
    {
     "name": "stdout",
     "output_type": "stream",
     "text": [
      "{'Madrid', 'Tokyo'}\n",
      "{'banana', 'apple'}\n"
     ]
    }
   ],
   "source": [
    "cities = {\"Tokyo\", \"Madrid\", \"Berlin\", \"Delhi\"}\n",
    "cities2 = {\"Tokyo\", \"Seoul\", \"Kabul\", \"Madrid\"}\n",
    "cities.intersection_update(cities2)   #Intersection_update()\n",
    "print(cities)\n",
    "\n",
    "x = {\"apple\", \"banana\", \"grapes\"}\n",
    "y = {\"apple\", \"banana\", \"Google\"}\n",
    "x.intersection_update(y)    #Intersection_update()\n",
    "\n",
    "print(x)"
   ]
  },
  {
   "cell_type": "markdown",
   "id": "4bbc69f6",
   "metadata": {},
   "source": [
    "# symmetric_difference and symmetric_difference_update():"
   ]
  },
  {
   "cell_type": "markdown",
   "id": "f073070e",
   "metadata": {},
   "source": [
    "The symmetric_difference() and symmetric_difference_update() methods prints only items that are not similar to both the sets. The symmetric_difference() method returns a new set whereas symmetric_difference_update() methods updates into the existing set from another set."
   ]
  },
  {
   "cell_type": "code",
   "execution_count": 3,
   "id": "09770bae",
   "metadata": {},
   "outputs": [
    {
     "name": "stdout",
     "output_type": "stream",
     "text": [
      "{'Delhi', 'Kabul', 'Berlin', 'Seoul'}\n"
     ]
    }
   ],
   "source": [
    "cities = {\"Tokyo\", \"Madrid\", \"Berlin\", \"Delhi\"}\n",
    "cities2 = {\"Tokyo\", \"Seoul\", \"Kabul\", \"Madrid\"}\n",
    "cities3 = cities.symmetric_difference(cities2) #symmetric_difference\n",
    "print(cities3)\n",
    "\n",
    "# cities = {\"Tokyo\", \"Madrid\", \"Berlin\", \"Delhi\"}\n",
    "# cities2 = {\"Tokyo\", \"Seoul\", \"Kabul\", \"Madrid\"}\n",
    "# cities.symmetric_difference_update(cities2)   #symmetric_difference_update()\n",
    "# print(cities)"
   ]
  },
  {
   "cell_type": "markdown",
   "id": "7ca6adec",
   "metadata": {},
   "source": [
    "# difference() and difference_update():"
   ]
  },
  {
   "cell_type": "markdown",
   "id": "db331d8a",
   "metadata": {},
   "source": [
    "The difference() and difference_update() methods prints only items that are only present in the original set and not in both the sets. The difference() methods returns a new set whereas difference_update() method updates into the existing set from another set."
   ]
  },
  {
   "cell_type": "code",
   "execution_count": 2,
   "id": "9c10c903",
   "metadata": {},
   "outputs": [
    {
     "name": "stdout",
     "output_type": "stream",
     "text": [
      "{'Tokyo', 'Berlin', 'Madrid'}\n"
     ]
    }
   ],
   "source": [
    "# cities = {\"Tokyo\", \"Madrid\", \"Berlin\", \"Delhi\"}\n",
    "# cities2 = {\"Seoul\", \"Kabul\", \"Delhi\", \"Madrid\"}\n",
    "# cities3 = cities.difference(cities2)\n",
    "# print(cities3)\n",
    "\n",
    "cities = {\"Tokyo\", \"Madrid\", \"Berlin\", \"Delhi\"}\n",
    "cities2 = {\"Seoul\", \"Kabul\", \"Delhi\"}\n",
    "print(cities.difference(cities2)) "
   ]
  },
  {
   "cell_type": "markdown",
   "id": "043537a2",
   "metadata": {},
   "source": [
    "#Set Methods: There are several in-built methods used for the manipulation of set. \n",
    "\n",
    "1. isdisjoint(): The isdisjoint() method checks if items of given set are present in another set.This method returns False if items are present, else it returns True.  (In mathematics two sets are said to be disjoint sets if they have no element in common.) "
   ]
  },
  {
   "cell_type": "code",
   "execution_count": 43,
   "id": "44d29fcf",
   "metadata": {},
   "outputs": [
    {
     "name": "stdout",
     "output_type": "stream",
     "text": [
      "False\n"
     ]
    }
   ],
   "source": [
    "name = {\"Satyam\", \"Rounak\", \"Kiddo\",}\n",
    "name1 = {\"Satyam\", \"Rounak\", \"Kiddo\",}\n",
    "print(name.isdisjoint(name))    #isdisjoint()"
   ]
  },
  {
   "cell_type": "markdown",
   "id": "dd185bf9",
   "metadata": {},
   "source": [
    "issuperset():\n",
    "\n",
    "The issuperset() method checks if all the items of a particular set are present in the original set. It returns True if all the items are present, else it returns False."
   ]
  },
  {
   "cell_type": "code",
   "execution_count": 12,
   "id": "18310afa",
   "metadata": {},
   "outputs": [
    {
     "name": "stdout",
     "output_type": "stream",
     "text": [
      "False\n",
      "True\n"
     ]
    }
   ],
   "source": [
    "name ={\"Satyam\", \"Kiddo\", \"Rounak\", \"Himanshu\"}\n",
    "name1 = {\"Satyam\", \"Yash\", \"Himanshu\"}\n",
    "print(name.issuperset(name1))  #isSuperset()\n",
    "name2 = {\"Satyam\", \"Kiddo\", \"Rounak\", \"Himanshu\"}\n",
    "print(name.issuperset(name2))"
   ]
  },
  {
   "cell_type": "markdown",
   "id": "553321dc",
   "metadata": {},
   "source": [
    "#issubset():  The issubset() method checks if all the items of the original set are present in the paricular set. It returns True if all the items are present, else it reutrns False."
   ]
  },
  {
   "cell_type": "code",
   "execution_count": 41,
   "id": "a2eac06c",
   "metadata": {},
   "outputs": [
    {
     "name": "stdout",
     "output_type": "stream",
     "text": [
      "True\n",
      "True\n",
      "True\n"
     ]
    }
   ],
   "source": [
    "name ={\"Satyam\", \"Kiddo\", \"Rounak\", \"Himanshu\"}\n",
    "name1 = {\"Satyam\", \"Kiddo\", \"Rounak\" \"Himanshu\"}\n",
    "print(name.issuperset(name))  #isSuperset()\n",
    "name2 = {\"Satyam\", \"Kiddo\", \"Rounak\", \"Himanshu\"}\n",
    "print(name.issuperset(name2))\n",
    "print(name2.issubset(name))      #issubset() "
   ]
  },
  {
   "cell_type": "code",
   "execution_count": 15,
   "id": "4bbb0c43",
   "metadata": {},
   "outputs": [
    {
     "name": "stdout",
     "output_type": "stream",
     "text": [
      "{'Priyanshu', 'Rounak', 'Satyam', 'Himanshu'}\n"
     ]
    }
   ],
   "source": [
    "name = {\"Satyam\", \"Priyanshu\", \"Himanshu\"}\n",
    "name.add(\"Rounak\")  #add(): It is used to add single item to the set.\n",
    "print(name)"
   ]
  },
  {
   "cell_type": "code",
   "execution_count": 44,
   "id": "5a711e17",
   "metadata": {},
   "outputs": [
    {
     "name": "stdout",
     "output_type": "stream",
     "text": [
      "{'Himanshu', 'Rounak', 'Priyanshu', 'Kiddo', 'Yuvraj'}\n"
     ]
    }
   ],
   "source": [
    "#update: If you want to add more than one item, simply create another set or any other iterable objects\n",
    "#(list,tuple,dictionary)and use the update() method to add it into theexisting set.\n",
    "\n",
    "\n",
    "name = {\"Satyam\", \"Priyanshu\", \"Himanshu\"}\n",
    "name1 = {\"Rounak\", \"Yuvraj\", \"Kiddo\"}\n",
    "name.update(name1)    #Update\n",
    "name.remove(\"Satyam\") #remove() and discard() methods is used to remove items from list.)\n",
    "name.discard(\"Satyam1\")  #The main difference between remove and discard is that, if we try to delete an  item which is not present in set, then remove() raises an error, whereas discard() does not raise any error.\n",
    "print(name)"
   ]
  },
  {
   "cell_type": "code",
   "execution_count": 45,
   "id": "fdd9f3c5",
   "metadata": {},
   "outputs": [
    {
     "name": "stdout",
     "output_type": "stream",
     "text": [
      "{'Yuvraj', 'Himanshu', 'Satyam'}\n",
      "Priyanshu\n",
      "Priyanshu\n"
     ]
    }
   ],
   "source": [
    "#pop() : This method removes the last item of the set but the catch is that we don't know which item gets popped as sets are\n",
    "#unordered. However, you can access the popped item if you assign the pop() method to a variable.\n",
    "\n",
    "name = {\"Satyam\", \"Priyanshu\", \"Himanshu\", \"Yuvraj\"}\n",
    "name1 = name.pop()\n",
    "print(name)\n",
    "print(name1)\n",
    "\n",
    "\n",
    "\n",
    "name = {\"Satyam\", \"Priyanshu\", \"Himanshu\", \"Yuvraj\"}\n",
    "del name  #del is not a method, rather it is a keyword which deletes the set entirely.\n",
    "print(name1)\n",
    "\n",
    "#NameError: name 'name' is not defined we get an error because our entire set has been deleted and there is no variable\n",
    "#called name which contains a set.\n",
    "#What if we don't want to delete the entire set, we just want to delete all items within that set?\n",
    "#using clear()\n"
   ]
  },
  {
   "cell_type": "code",
   "execution_count": 2,
   "id": "024230bc",
   "metadata": {},
   "outputs": [
    {
     "name": "stdout",
     "output_type": "stream",
     "text": [
      "set()\n",
      "Kiddo is Present\n"
     ]
    }
   ],
   "source": [
    "name1 = {\"Satyam\", \"Himanshu\", \"Priyanshu\", \"Kiddo\"}\n",
    "name1.clear()  #This method removes all items in the set and prints an empty set.\n",
    "print(name1)\n",
    "\n",
    "#Check if item exists in the set or not\n",
    "\n",
    "\n",
    "name = {\"Satyam\", \"Kiddo\", 20,2.64}\n",
    "if \"Satyam\" in name:\n",
    "    print(\"Kiddo is Present\")\n",
    "else:\n",
    "    print(\"Kiddo is absent\")\n",
    "\n"
   ]
  },
  {
   "cell_type": "markdown",
   "id": "cc4f5f6b",
   "metadata": {},
   "source": [
    "# Python Dictionaries"
   ]
  },
  {
   "cell_type": "markdown",
   "id": "1a653a1f",
   "metadata": {},
   "source": [
    "It is an ordered collection of data items.They store multiple items in a single variable. Dicitonary are key- value pairs that are separated by commas and enclosed within curly brackets{}"
   ]
  },
  {
   "cell_type": "code",
   "execution_count": 13,
   "id": "75f369a3",
   "metadata": {},
   "outputs": [
    {
     "name": "stdout",
     "output_type": "stream",
     "text": [
      "Human being\n",
      "Object\n",
      "Kiddo\n",
      "Rounak\n",
      "Satyam\n"
     ]
    }
   ],
   "source": [
    "dic = {\n",
    "    \"Satyam\": \"Human being\",\n",
    "    \"Stick\": \"Object\"\n",
    "}\n",
    "print(dic[\"Satyam\"])\n",
    "print(dic[\"Stick\"])\n",
    "\n",
    "\n",
    "\n",
    "dic = {\n",
    "    56: \"Satyam\",\n",
    "    62: \"Priyanshu\",\n",
    "    65: \"Kiddo\",\n",
    "    70: \"Rounak\"\n",
    "}\n",
    "print(dic[65])\n",
    "print(dic[70])\n",
    "print(dic[56]) "
   ]
  },
  {
   "cell_type": "markdown",
   "id": "689b8adc",
   "metadata": {},
   "source": [
    "#Accessing Single Items:\n",
    "\n",
    "1. Accessing single values: Values in a dictionary can be accessed using keys. We can access dictionay values by mentioning keys either in square brackets or by using get method."
   ]
  },
  {
   "cell_type": "code",
   "execution_count": 3,
   "id": "85460d5b",
   "metadata": {},
   "outputs": [
    {
     "name": "stdout",
     "output_type": "stream",
     "text": [
      "Satyam\n",
      "False\n",
      "20\n"
     ]
    }
   ],
   "source": [
    "info = {\"name\": \"Satyam\", \"age\":  20, \"Eligible\": False}\n",
    "print(info[\"name\"])  #using square brackets we can access single values.\n",
    "print(info.get('Eligible'))   #using get we can access single values. It will give none as a output.\n",
    "print(info.get(\"age\"))"
   ]
  },
  {
   "cell_type": "markdown",
   "id": "e15a14bc",
   "metadata": {},
   "source": [
    "2. Accessing multiple Values: We can print all the values in the dictionary using values() method.\n",
    "\n",
    "3. Accessing keys: we can print all the keys in the dictionary using keys() method.\n",
    "\n",
    "4.Accessing key-value pairs: We can print all the key-value pairs in the dicitonary using items() method.\n",
    "\n"
   ]
  },
  {
   "cell_type": "code",
   "execution_count": 31,
   "id": "c9d3df83",
   "metadata": {},
   "outputs": [
    {
     "name": "stdout",
     "output_type": "stream",
     "text": [
      "The value corresponding to the key Name is Satyam\n",
      "The value corresponding to the key age is 20\n",
      "The value corresponding to the key Course is Btech(CSE)\n",
      "dict_items([('Name', 'Satyam'), ('age', 20), ('Course', 'Btech(CSE)')])\n",
      " The value corresponding to the key Name is Satyam\n",
      " The value corresponding to the key age is 20\n",
      " The value corresponding to the key Course is Btech(CSE)\n"
     ]
    }
   ],
   "source": [
    "info = {\"Name\": \"Satyam\", \"age\": 20, \"Course\":\"Btech(CSE)\"}\n",
    "# print(info)    \n",
    "#Doubt\n",
    "# print(info.keys())\n",
    "# print(info.values())  #It is used to give the direct Values.\n",
    "\n",
    "for key in info.keys():\n",
    "    #print(info[key])   #Accessing Keys\n",
    "    print(f\"The value corresponding to the key {key} is {info[key]}\")\n",
    "    \n",
    "print(info.items())\n",
    "for key, value in info.items():   #Accessing key value pairs using item()\n",
    "    print(f\" The value corresponding to the key {key} is {value}\")\n"
   ]
  },
  {
   "cell_type": "markdown",
   "id": "74181e0a",
   "metadata": {},
   "source": [
    "# Dictionary Methods"
   ]
  },
  {
   "cell_type": "markdown",
   "id": "7a20b484",
   "metadata": {},
   "source": [
    "Dictionary uses several built-in methods for manipulation."
   ]
  },
  {
   "cell_type": "markdown",
   "id": "4a5298ed",
   "metadata": {},
   "source": [
    "update() : The update() method updates the value of the key provided to it if the item already exists in the dictionary, else it creates a new key-value pair.\n",
    "\n",
    "\n",
    "**Set in python is unordered and Dictionary in Python is in Ordered Form."
   ]
  },
  {
   "cell_type": "code",
   "execution_count": 14,
   "id": "c6aadae0",
   "metadata": {},
   "outputs": [
    {
     "name": "stdout",
     "output_type": "stream",
     "text": [
      "{122: 45, 567: 56, 650: 70}\n"
     ]
    }
   ],
   "source": [
    "ep1 = {122: 45, 132: 89, 567: 56, 650: 70}\n",
    "ep2 = {123: 56, 659:51} \n",
    "\n",
    "# ep1.update(ep2)  #update() Method\n",
    "# ep1.clear()   #clear() method is used to removes all the items from the list.\n",
    "print(ep1)\n",
    "# empt = {}    #It is an empty dictionary.\n",
    "# print(empt) \n",
    "\n"
   ]
  },
  {
   "cell_type": "code",
   "execution_count": 2,
   "id": "2e168b13",
   "metadata": {},
   "outputs": [
    {
     "name": "stdout",
     "output_type": "stream",
     "text": [
      "{132: 89, 567: 56}\n"
     ]
    }
   ],
   "source": [
    "#The pop() method removes the key-value pair whose key is passed as a parameter.\n",
    "\n",
    "ep1 = {122: 45, 132: 89, 567: 56, 650: 70}\n",
    "ep2 = {123: 56, 659:51} \n",
    "# ep1.pop(132)   #pop() \n",
    "# print(ep1)\n",
    "  \n",
    "#popitem(): It removes the last key-value pair form the dictionary.\n",
    "\n",
    "ep1.popitem()\n",
    "# del ep1  #del() It is used to remove a dictionary item.\n",
    "del ep1[122]  #If key is not provided, then del keyword will delete the dictionary entirely.\n",
    "print(ep1)   "
   ]
  },
  {
   "cell_type": "markdown",
   "id": "f8382926",
   "metadata": {},
   "source": [
    "# Python - for loop with else in Loop     #Doubt "
   ]
  },
  {
   "cell_type": "markdown",
   "id": "d3d3ed0a",
   "metadata": {},
   "source": [
    "As you have learned before, the else clause is used along with the id statement.Python allows the else keywowrd to be used with the dor and while loops too. The else block appears after the body of the loop. The statements in the else block will be executed after all the iterations are completed. The program exists the loop only after the else block is executed."
   ]
  },
  {
   "cell_type": "code",
   "execution_count": 28,
   "id": "8157c10e",
   "metadata": {},
   "outputs": [
    {
     "name": "stdout",
     "output_type": "stream",
     "text": [
      "0\n",
      "1\n",
      "2\n",
      "3\n",
      "4\n"
     ]
    }
   ],
   "source": [
    "for i in range(6):   #using for loop\n",
    "    print(i)\n",
    "    if i == 4:\n",
    "        break      \n",
    "    \n",
    "else:\n",
    "    print(\"Sorry no i\")  #It does not execute, If else is executed it means Loop wasn't broken,loop has been ended."
   ]
  },
  {
   "cell_type": "code",
   "execution_count": 29,
   "id": "bc1acb72",
   "metadata": {},
   "outputs": [
    {
     "name": "stdout",
     "output_type": "stream",
     "text": [
      "0\n",
      "1\n",
      "2\n",
      "3\n"
     ]
    }
   ],
   "source": [
    "i = 0\n",
    "while i<7:    #using while Loop\n",
    "    print(i)\n",
    "    i = i + 1\n",
    "    if i == 4:\n",
    "        break\n",
    "        \n",
    "else:\n",
    "    print(\"Sorry no i\")"
   ]
  },
  {
   "cell_type": "code",
   "execution_count": 18,
   "id": "93edeb72",
   "metadata": {},
   "outputs": [
    {
     "name": "stdout",
     "output_type": "stream",
     "text": [
      "iteration no 1 in for loop\n",
      "iteration no 2 in for loop\n",
      "iteration no 3 in for loop\n",
      "iteration no 4 in for loop\n",
      "iteration no 5 in for loop\n",
      "iteration no 6 in for loop\n",
      "iteration no 7 in for loop\n",
      "iteration no 8 in for loop\n",
      "iteration no 9 in for loop\n",
      "iteration no 10 in for loop\n",
      "else block in loop\n",
      "Out of loop\n"
     ]
    }
   ],
   "source": [
    "for x in range(10):\n",
    "    print(\"iteration no {} in for loop\".format(x+1))\n",
    "else:\n",
    "    print(\"else block in loop\")\n",
    "print(\"Out of loop\")"
   ]
  },
  {
   "cell_type": "markdown",
   "id": "9278c144",
   "metadata": {},
   "source": [
    "# Exception Handling in Python."
   ]
  },
  {
   "cell_type": "markdown",
   "id": "f23423c6",
   "metadata": {},
   "source": [
    "Exception handling is the process of responding to unwanted or unexpected events when a computer program runs. Exception handling deals with these events to avoid the program or system crashing, without this process, exceptions would disrupt the normal operation of a program."
   ]
  },
  {
   "cell_type": "markdown",
   "id": "6d7ed7a4",
   "metadata": {},
   "source": [
    "#Exceptions in Python: Python has many built-in exceptions that are raised when your program encounters an error.\n",
    "When these exceptions occur, the Python interpreter stops the currrent process and passes it to the calling process until it is handled. If not handled the program will crash."
   ]
  },
  {
   "cell_type": "code",
   "execution_count": 4,
   "id": "d75f89a6",
   "metadata": {},
   "outputs": [
    {
     "name": "stdout",
     "output_type": "stream",
     "text": [
      "Enter the number: 10\n",
      "Multiplication table of 10 is: \n",
      "10 X 1 = 10\n",
      "10 X 2 = 20\n",
      "10 X 3 = 30\n",
      "10 X 4 = 40\n",
      "10 X 5 = 50\n",
      "10 X 6 = 60\n",
      "10 X 7 = 70\n",
      "10 X 8 = 80\n",
      "10 X 9 = 90\n",
      "10 X 10 = 100\n",
      "Some imp lines of code\n",
      "End of Program\n"
     ]
    }
   ],
   "source": [
    "a = input(\"Enter the number: \")\n",
    "print(f\"Multiplication table of {a} is: \")  \n",
    "\n",
    "for i in range(1,11):\n",
    "    print(f\"{a} X {i} = {int(a)*i}\")\n",
    "    \n",
    "print(\"Some imp lines of code\")\n",
    "print(\"End of Program\") \n"
   ]
  },
  {
   "cell_type": "markdown",
   "id": "c25c9c41",
   "metadata": {},
   "source": [
    "#Python try...except -  try...except blocks are used in python to handle errors and exceptions.This code in try block runs when there is no error. If the try block catches the rror,then the except block is executed.\n",
    "\n",
    "\n",
    "Syntax:\n",
    "\n",
    "try:\n",
    "    #statements which could generate\n",
    "    #exception\n",
    "except:\n",
    "       #solution of generated exception."
   ]
  },
  {
   "cell_type": "code",
   "execution_count": 3,
   "id": "6d560f89",
   "metadata": {},
   "outputs": [
    {
     "name": "stdout",
     "output_type": "stream",
     "text": [
      "Enter the number: 5h\n",
      "Multiplication table of 5h is: \n",
      "Invalid Input\n",
      "Some imp lines of code\n",
      "End of Program\n"
     ]
    }
   ],
   "source": [
    "a = input(\"Enter the number: \")\n",
    "print(f\"Multiplication table of {a} is: \") \n",
    "try:\n",
    "    for i in range(1,11):\n",
    "        print(f\"{a} X {i} = {int(a)*i}\")\n",
    "except Exception as e:\n",
    "    print(\"Invalid Input\")\n",
    "    \n",
    "print(\"Some imp lines of code\")\n",
    "print(\"End of Program\")"
   ]
  },
  {
   "cell_type": "code",
   "execution_count": 6,
   "id": "c1c5501e",
   "metadata": {},
   "outputs": [
    {
     "name": "stdout",
     "output_type": "stream",
     "text": [
      "Enter an integer:  55\n"
     ]
    }
   ],
   "source": [
    "try:\n",
    "    num = int(input(\"Enter an integer:  \"))\n",
    "except ValueError:\n",
    "    print(\"Number entered is not an integer.\")"
   ]
  },
  {
   "cell_type": "code",
   "execution_count": null,
   "id": "4bc42dee",
   "metadata": {},
   "outputs": [],
   "source": [
    "try:\n",
    "    num = int(input(\"Enter an Integer: \"))\n",
    "except ValueError:\n",
    "    print(\"Number entered is not an Integer:\")"
   ]
  },
  {
   "cell_type": "code",
   "execution_count": null,
   "id": "83ed9cec",
   "metadata": {},
   "outputs": [],
   "source": [
    "try:\n",
    "    num = int(input(\"Enter an integer: \"))\n",
    "    a =[6,3]\n",
    "    print(a[num])\n",
    "except ValueError:\n",
    "    print(\"Number entered is not an integer.\") \n",
    "    \n",
    "except IndexError:\n",
    "    print(\"Index Error\")\n",
    "    \n",
    "except:\n",
    "    num= int(input(\"enter an Integer: \"))\n",
    "    print(a[num])"
   ]
  },
  {
   "cell_type": "markdown",
   "id": "dd9b0877",
   "metadata": {},
   "source": [
    "# Finally Clause   #Doubt.."
   ]
  },
  {
   "cell_type": "markdown",
   "id": "2f15e16e",
   "metadata": {},
   "source": [
    "The finally code block is also a part of exception handling.When we handle exception using the try and except block, we can include a finally block at the end. The finally block is always executed, so it is generally used for doing the concluding tasks like closing the file resources or closing databsae connection or may be ending the program execution with a delightful message.\n",
    "\n",
    "\n",
    "Syntax:\n",
    "\n",
    "try:\n",
    "    #statements which could generate exceptions.\n",
    "    \n",
    "    \n",
    "except:\n",
    "       #solution of generated exception\n",
    "finally:\n",
    "       #block of code which is going to execute in any situation\n",
    "       \n",
    "The finally block is executed irrespective of the outcome of try.....except....else blocks.\n",
    "One of the important use cases of finally block is in a function which returns a value."
   ]
  },
  {
   "cell_type": "code",
   "execution_count": 7,
   "id": "c4409608",
   "metadata": {},
   "outputs": [
    {
     "name": "stdout",
     "output_type": "stream",
     "text": [
      "Enter the index: 2\n",
      "85\n",
      "I am always executed\n"
     ]
    }
   ],
   "source": [
    "try:\n",
    "    l =[1,2,85,9,3,9]\n",
    "    i = int(input(\"Enter the index: \"))\n",
    "    print(l[i])\n",
    "except:\n",
    "    print(\"Some error occured \")\n",
    "    \n",
    "finally:\n",
    "    print(\"I am always executed\")\n",
    "    "
   ]
  },
  {
   "cell_type": "code",
   "execution_count": 10,
   "id": "bf09fb4e",
   "metadata": {},
   "outputs": [
    {
     "name": "stdout",
     "output_type": "stream",
     "text": [
      "Enter the index: ytgy\n",
      "Some error occured\n",
      "I am always executed\n",
      "0\n"
     ]
    }
   ],
   "source": [
    "def function1():\n",
    "    try:\n",
    "        l = [1,5,8,69,56,56]\n",
    "        i = int (input(\"Enter the index: \"))\n",
    "        print(l[i])\n",
    "        return 1\n",
    "    except:\n",
    "        print(\"Some error occured\")\n",
    "        return 0\n",
    "    \n",
    "    finally:\n",
    "        print(\"I am always executed\")\n",
    "        \n",
    "x = function1()\n",
    "print(x)\n"
   ]
  },
  {
   "cell_type": "markdown",
   "id": "6c20d6e8",
   "metadata": {},
   "source": [
    "# Raising Custom Errors in python."
   ]
  },
  {
   "cell_type": "markdown",
   "id": "eeece1cc",
   "metadata": {},
   "source": [
    "In python, we can raise custom errors by using the raise keywrod."
   ]
  },
  {
   "cell_type": "code",
   "execution_count": 14,
   "id": "acb1f125",
   "metadata": {},
   "outputs": [
    {
     "name": "stdout",
     "output_type": "stream",
     "text": [
      "Enter any value between 5 and 9satyam\n"
     ]
    },
    {
     "ename": "ValueError",
     "evalue": "invalid literal for int() with base 10: 'satyam'",
     "output_type": "error",
     "traceback": [
      "\u001b[1;31m---------------------------------------------------------------------------\u001b[0m",
      "\u001b[1;31mValueError\u001b[0m                                Traceback (most recent call last)",
      "Cell \u001b[1;32mIn[14], line 1\u001b[0m\n\u001b[1;32m----> 1\u001b[0m a \u001b[38;5;241m=\u001b[39m \u001b[38;5;28;43mint\u001b[39;49m\u001b[43m(\u001b[49m\u001b[38;5;28;43minput\u001b[39;49m\u001b[43m(\u001b[49m\u001b[38;5;124;43m\"\u001b[39;49m\u001b[38;5;124;43mEnter any value between 5 and 9\u001b[39;49m\u001b[38;5;124;43m\"\u001b[39;49m\u001b[43m)\u001b[49m\u001b[43m)\u001b[49m\n\u001b[0;32m      3\u001b[0m \u001b[38;5;28;01mif\u001b[39;00m(a\u001b[38;5;241m<\u001b[39m\u001b[38;5;241m5\u001b[39m \u001b[38;5;129;01mor\u001b[39;00m a \u001b[38;5;241m>\u001b[39m\u001b[38;5;241m9\u001b[39m):\n\u001b[0;32m      4\u001b[0m     \u001b[38;5;28;01mraise\u001b[39;00m \u001b[38;5;167;01mValueError\u001b[39;00m(\u001b[38;5;124m\"\u001b[39m\u001b[38;5;124mValue should be between 5 and 9\u001b[39m\u001b[38;5;124m\"\u001b[39m)\n",
      "\u001b[1;31mValueError\u001b[0m: invalid literal for int() with base 10: 'satyam'"
     ]
    }
   ],
   "source": [
    "a = int(input(\"Enter any value between 5 and 9\"))\n",
    "\n",
    "if(a<5 or a >9):\n",
    "    raise ValueError(\"Value should be between 5 and 9\")"
   ]
  },
  {
   "cell_type": "markdown",
   "id": "9df003f2",
   "metadata": {},
   "source": [
    "In the previous tutorial, we learned about different built-in exceptions in Python and why it is important to handle exceptions. However, sometimes we may need to create our own custom exceptions that serve our purpose.\n",
    "\n",
    "\n",
    "#Defining Custom Exceptions.\n",
    "\n",
    "In python, we can define custom exceptions by creating a new class that is derived from the built-in Exception class."
   ]
  },
  {
   "cell_type": "code",
   "execution_count": null,
   "id": "aa0f4f2b",
   "metadata": {},
   "outputs": [],
   "source": [
    "#Syntax to define custom exceptions.\n",
    "\n",
    "class CustomError(Exception):\n",
    "    #code.....\n",
    "    pass\n",
    "\n",
    "try:\n",
    "    #code....\n",
    "    \n",
    "except CustomError:   \n",
    "    #code\n",
    "    \n",
    "    \n",
    "#This is useful because sometimes we might want to do something when a particular exception is raised. For example sending\n",
    "#an error report to the admin, calling an api,etc. "
   ]
  },
  {
   "cell_type": "markdown",
   "id": "0a58ae42",
   "metadata": {},
   "source": [
    "WAP in python to make a game kaun banega crorepati"
   ]
  },
  {
   "cell_type": "code",
   "execution_count": null,
   "id": "c39e0e89",
   "metadata": {},
   "outputs": [
    {
     "name": "stdout",
     "output_type": "stream",
     "text": [
      "Welcome to Kaun Banega Crorepati!\n",
      "Answer 15 questions correctly to win Rs. 1 Crore.\n",
      "You can quit anytime by typing \"quit\".\n",
      "\n",
      "Question 1: You have won Rs. 1000.\n",
      "What is the capital of India?\n",
      "A. Chennai\n",
      "B. Mumbai\n",
      "C. New Delhi\n",
      "D. Kolkata\n",
      "Your answer (A/B/C/D): A\n",
      "Correct!\n",
      "Question 2: You have won Rs. 2000.\n",
      "Which is the highest mountain peak in the world?\n",
      "A. Mount Everest\n",
      "B. Lhotse\n",
      "C. K2\n",
      "D. Kangchenjunga\n"
     ]
    }
   ],
   "source": [
    "import random\n",
    "\n",
    "questions = {\n",
    "    'What is the capital of India?': ['New Delhi', 'Mumbai', 'Chennai', 'Kolkata'],\n",
    "    'Which is the highest mountain peak in the world?': ['Mount Everest', 'K2', 'Kangchenjunga', 'Lhotse'],\n",
    "    'Which is the largest continent by area?': ['Asia', 'Africa', 'North America', 'South America'],\n",
    "    'Who is the founder of Microsoft?': ['Bill Gates', 'Steve Jobs', 'Mark Zuckerberg', 'Larry Page'],\n",
    "    'Which is the largest planet in the solar system?': ['Jupiter', 'Saturn', 'Mars', 'Venus'],\n",
    "}\n",
    "\n",
    "answers = ['A', 'A', 'A', 'A', 'A']\n",
    "money = [0, 1000, 2000, 5000, 10000, 20000, 40000, 80000, 160000, 320000, 640000, 1250000, 2500000, 5000000, 10000000]\n",
    "\n",
    "def ask_question(q):\n",
    "    print(q)\n",
    "    options = questions[q]\n",
    "    random.shuffle(options)\n",
    "    for i in range(len(options)):\n",
    "        print(chr(ord('A') + i) + '.', options[i])\n",
    "    ans = input('Your answer (A/B/C/D): ')\n",
    "    if ans.upper() == answers[list(questions.keys()).index(q)]:\n",
    "        print('Correct!')\n",
    "        return True\n",
    "    else:\n",
    "        print('Incorrect!')\n",
    "        return False\n",
    "\n",
    "print('Welcome to Kaun Banega Crorepati!')\n",
    "print('Answer 15 questions correctly to win Rs. 1 Crore.')\n",
    "print('You can quit anytime by typing \"quit\".\\n')\n",
    "\n",
    "i = 0\n",
    "while True:\n",
    "    if i == len(money) - 1:\n",
    "        print('Congratulations! You have won Rs. 1 Crore!')\n",
    "        break\n",
    "    print('Question ' + str(i+1) + ': You have won Rs. ' + str(money[i+1]) + '.')\n",
    "    if ask_question(list(questions.keys())[i]):\n",
    "        i += 1\n",
    "    else:\n",
    "        print('You have lost the game!')\n",
    "        break \n"
   ]
  },
  {
   "cell_type": "markdown",
   "id": "ae9f7ff2",
   "metadata": {},
   "source": [
    "# Short hand If...else.  Doubt"
   ]
  },
  {
   "cell_type": "markdown",
   "id": "aa67f96c",
   "metadata": {},
   "source": [
    "There is also a shorthand syntax for the if- else statement that can be used when the condition being tested is simple and the code blocks to be executed are short. Here's an example:"
   ]
  },
  {
   "cell_type": "code",
   "execution_count": 7,
   "id": "ede98669",
   "metadata": {},
   "outputs": [
    {
     "name": "stdout",
     "output_type": "stream",
     "text": [
      "A\n",
      "9\n"
     ]
    }
   ],
   "source": [
    "a = 33055\n",
    "b = 3303\n",
    "print(\"A\") if a > b else print(\"=\") if a ==  b else print(\"B\")\n",
    "\n",
    "c = 9 if a>b else 0\n",
    "print(c)\n",
    "\n",
    "The main python function is a ===\n"
   ]
  },
  {
   "cell_type": "markdown",
   "id": "4ae8d3c0",
   "metadata": {},
   "source": [
    "#Conclusion: The shorthand syntax can be a convenient way to write simple if-else statements, especially when you want to assign a value to a variable based on a condition. However, it's not suitable for more complex situations where you need to execute multiple statements or perform more complex logic. In those cases, it's best to use the full if - else syntax."
   ]
  },
  {
   "cell_type": "markdown",
   "id": "c4a69ab6",
   "metadata": {},
   "source": [
    "# Enumerate function in a python."
   ]
  },
  {
   "cell_type": "markdown",
   "id": "cb8f28f0",
   "metadata": {},
   "source": [
    "The Enumerate function is a built-in function in python that allows you to loop over a sequence(such as a list,tuple,or string) and get the index and value of each element in the sequence at the same time. \n",
    "Syntax :- enumerate(iterable,[start=0])\n",
    "iterable: any object that supports iteration. i.e list,\n",
    "for example:"
   ]
  },
  {
   "cell_type": "code",
   "execution_count": 4,
   "id": "cde036a8",
   "metadata": {},
   "outputs": [
    {
     "name": "stdout",
     "output_type": "stream",
     "text": [
      "21\n",
      "58\n",
      "26\n",
      "36\n",
      "Satyam, is good\n",
      "58\n",
      "89\n",
      "2\n",
      "65\n",
      "85\n",
      "42\n"
     ]
    }
   ],
   "source": [
    "marks = [21,58,26,36,58,89,2,65,85,42]\n",
    "\n",
    "# index = 0\n",
    "# for mark in marks:\n",
    "#     print(mark)\n",
    "#     if(index == 0):\n",
    "#         print(\"Satyam, is good\")\n",
    "# #         index +=1\n",
    "\n",
    "\n",
    "\n",
    "for index, mark in enumerate(marks):\n",
    "    print(mark)\n",
    "    if(index == 3):\n",
    "        print(\"Satyam, is good\")\n",
    "        \n",
    "\n",
    "        \n"
   ]
  },
  {
   "cell_type": "code",
   "execution_count": 3,
   "id": "e6d1818d",
   "metadata": {},
   "outputs": [
    {
     "name": "stdout",
     "output_type": "stream",
     "text": [
      "12\n",
      "56\n",
      "98\n",
      "85\n",
      "Satyam, is good!\n",
      "36\n",
      "58\n",
      "58\n"
     ]
    }
   ],
   "source": [
    "marks = [12,56,98,85,36,58,58]\n",
    "\n",
    "index = 0\n",
    "for marks in marks:\n",
    "    print(marks)\n",
    "    if(index == 3):\n",
    "        print(\"Satyam, is good!\")\n",
    "    index  +=1\n",
    "    "
   ]
  },
  {
   "cell_type": "code",
   "execution_count": 18,
   "id": "5eba6c09",
   "metadata": {},
   "outputs": [
    {
     "name": "stdout",
     "output_type": "stream",
     "text": [
      "0 apple\n",
      "1 banana\n",
      "2 mango\n"
     ]
    }
   ],
   "source": [
    "# Loop over a list and print the index and value of each element\n",
    "fruits = ['apple', 'banana', 'mango']\n",
    "for index, fruit in enumerate(fruits):\n",
    "    print(index, fruit)\n",
    "    \n",
    "#As you can see, the enumerate function returns a tuple containing the Index and value of each element in the sequence.\n",
    "#You can use th for loop to unpack these tuples and assign them to variables as shown in the example."
   ]
  },
  {
   "cell_type": "markdown",
   "id": "138bc5b5",
   "metadata": {},
   "source": [
    "#Changing the Start Index: By default, the enumerate funciton starts the index at 0, but you can specify a different starting index by passing it as an argument to enumerate the function."
   ]
  },
  {
   "cell_type": "code",
   "execution_count": 6,
   "id": "8a42c9ed",
   "metadata": {},
   "outputs": [
    {
     "name": "stdout",
     "output_type": "stream",
     "text": [
      "1 apple\n",
      "2 banana\n",
      "3 mango\n",
      "1: apple\n",
      "2: banana\n",
      "3: mango\n",
      "0 red\n",
      "1 green\n",
      "2 blue\n",
      "0 h\n",
      "1 e\n",
      "2 l\n",
      "3 l\n",
      "4 o\n"
     ]
    }
   ],
   "source": [
    "# Loop over a list and print the index (starting at 1) and value of each element\n",
    "fruits = ['apple', 'banana', 'mango']\n",
    "for index, fruit in enumerate(fruits, start=1):\n",
    "    print(index, fruit)\n",
    "    \n",
    "#The enumerate function is often used when you need to loop over a sequence and perform some action with both the index and \n",
    "#value of each element. For example, you might use it to loop over a list of strings and print the index and value of each \n",
    "#ain a formatted way:\n",
    "\n",
    "fruits = ['apple', 'banana', 'mango']\n",
    "for index, fruit in enumerate(fruits):\n",
    "    print(f'{index+1}: {fruit}')\n",
    "    \n",
    "#In addition to lists, you can use the enumerate function with any other sequence type in Python, such as tuples and Strings. for example,\n",
    "\n",
    "# Loop over a tuple and print the index and value of each element\n",
    "colors = ('red', 'green', 'blue')\n",
    "for index, color in enumerate(colors):\n",
    "    print(index, color)\n",
    "    \n",
    "# Loop over a string and print the index and value of each character\n",
    "s = 'hello'\n",
    "for index, c in enumerate(s):\n",
    "    print(index, c)"
   ]
  },
  {
   "cell_type": "markdown",
   "id": "908c27c1",
   "metadata": {},
   "source": [
    "# Virtual Environment"
   ]
  },
  {
   "cell_type": "markdown",
   "id": "4e09ba5f",
   "metadata": {},
   "source": [
    "A Virtual Environment is a tool to isolates specific Python environment on a single machine, allowing you to work on multiple projects with different dependencies and packages without conflicts. This can be especially useful when working on projects without conflicts. This can be especially useful when working on projects that have conflicting package versions or packages that are not compatible with each other.\n",
    "\n",
    "To create a virtual environment in Python, you can use the venv module that comes with Python. Here's an example of how to create a virtual environment and activate it...."
   ]
  },
  {
   "cell_type": "code",
   "execution_count": 27,
   "id": "17470d48",
   "metadata": {},
   "outputs": [
    {
     "ename": "SyntaxError",
     "evalue": "invalid syntax (2900980222.py, line 2)",
     "output_type": "error",
     "traceback": [
      "\u001b[1;36m  Cell \u001b[1;32mIn[27], line 2\u001b[1;36m\u001b[0m\n\u001b[1;33m    python -m venv myenv\u001b[0m\n\u001b[1;37m              ^\u001b[0m\n\u001b[1;31mSyntaxError\u001b[0m\u001b[1;31m:\u001b[0m invalid syntax\n"
     ]
    }
   ],
   "source": [
    "#Create a Virtual environment\n",
    "python -m venv myenv\n",
    "\n",
    "#Activate the virtual environment (Linux/macOS)\n",
    "source myenv/bin/activate\n",
    "\n",
    "#Activate the Virtual environment (Windows)\n",
    "myenv\\Scripts\\activate.bat"
   ]
  },
  {
   "cell_type": "markdown",
   "id": "0533736b",
   "metadata": {},
   "source": [
    "Once the virtual environment is activated, any packages that you install using pip will be installed in the virtual environment, rather than in the global Python environment. This allows you to have a seprate set of packages for each project, without affecting the packages installed in the global environment.\n",
    "To deactivate the virtual environment, you can use the deactivate command:\n",
    "\n",
    "#deactivate the virtual environment \n",
    "deactivate"
   ]
  },
  {
   "cell_type": "markdown",
   "id": "1b7c20fa",
   "metadata": {},
   "source": [
    "#The \"requirements.txt\" file\n",
    "\n",
    "In addition to creating and activating a virtual environment, it can be useful to create a requirements.txt file that lists the packages and their versions that your project depends on. This file can be used to easily install all the required packages in a new environment.\n",
    "\n",
    "To create a requirements.txt file, you can use the pip freeze command, which outputs a list of installed packages and their versions. For example:\n"
   ]
  },
  {
   "cell_type": "code",
   "execution_count": null,
   "id": "37833b29",
   "metadata": {},
   "outputs": [],
   "source": [
    "#output the list of installed packages and their versions to a file\n",
    "pip freeze > requirements.txt  "
   ]
  },
  {
   "cell_type": "markdown",
   "id": "ed3b16c8",
   "metadata": {},
   "source": [
    "To install the packages listed in the requirements.txt file, you can use the pip install command with the - r flag:\n",
    "\n",
    "#Install the packages listed in the requirements.txt file\n",
    "pip install -r requirements.txt\n",
    "\n",
    "\n",
    "Using a virtual environment and a requirements.txt file can help you manage the dependencies for your python projects and ensure that your projects are portable and can be easily set up on a new machine."
   ]
  },
  {
   "cell_type": "markdown",
   "id": "68f15ffb",
   "metadata": {},
   "source": [
    "# How importing in python works."
   ]
  },
  {
   "cell_type": "markdown",
   "id": "098a9abd",
   "metadata": {},
   "source": [
    "Importing in python is the process of loading code from a Python module into the current script. this allows you to use the functions and variables defined in the module in your current script, as well as any additional modules that the imported module may depend on.\n",
    "\n",
    "To import a module in python, you use the import statement followed by the name of the module. For example, to import the math module which contains a variety of mathematical functions, you would use the following statements."
   ]
  },
  {
   "cell_type": "markdown",
   "id": "6438d3fd",
   "metadata": {},
   "source": [
    "#import math\n",
    "\n",
    "Once a Module is imported, you can use any of the functions and variables defined in the module by using the dot notation. For example, to use the sqrt function form the math module, you would write."
   ]
  },
  {
   "cell_type": "code",
   "execution_count": 3,
   "id": "e38e5db2",
   "metadata": {},
   "outputs": [
    {
     "data": {
      "text/plain": [
       "215"
      ]
     },
     "execution_count": 3,
     "metadata": {},
     "output_type": "execute_result"
    }
   ],
   "source": [
    "import math\n",
    "math.floor(215.6)"
   ]
  },
  {
   "cell_type": "code",
   "execution_count": 2,
   "id": "1058405c",
   "metadata": {},
   "outputs": [
    {
     "name": "stdout",
     "output_type": "stream",
     "text": [
      "3.0\n"
     ]
    },
    {
     "data": {
      "text/plain": [
       "4"
      ]
     },
     "execution_count": 2,
     "metadata": {},
     "output_type": "execute_result"
    }
   ],
   "source": [
    "import math\n",
    "\n",
    "result = math.sqrt(9)\n",
    "print(result) #Output : 3.0\n",
    "\n",
    "import math\n",
    "math.floor(4.2345)"
   ]
  },
  {
   "cell_type": "markdown",
   "id": "57131409",
   "metadata": {},
   "source": [
    "#from keyboard\n",
    "\n",
    "You can also import specific functions or variables from a module using the from keyword. For example, to import only the sqrt function from the math module, you would write:"
   ]
  },
  {
   "cell_type": "code",
   "execution_count": 12,
   "id": "fd0cc62a",
   "metadata": {},
   "outputs": [
    {
     "name": "stdout",
     "output_type": "stream",
     "text": [
      "9.42477796076938\n"
     ]
    }
   ],
   "source": [
    "from math import sqrt, pi\n",
    "\n",
    "result = sqrt(9) * pi\n",
    "print(result)\n"
   ]
  },
  {
   "cell_type": "markdown",
   "id": "50394e91",
   "metadata": {},
   "source": [
    "#Importing everything\n",
    "\n",
    "It's  also possible to import all functions and variables from a modules using the * wildcard. however, this is generally not recommended as it can lead to confusion and make it harder to understand where specific functions and variables are coming from."
   ]
  },
  {
   "cell_type": "code",
   "execution_count": 9,
   "id": "d148c809",
   "metadata": {},
   "outputs": [
    {
     "name": "stdout",
     "output_type": "stream",
     "text": [
      "3.4641016151377544\n",
      "3.141592653589793\n"
     ]
    }
   ],
   "source": [
    "from math import *\n",
    "\n",
    "result = sqrt(12)\n",
    "print(result)\n",
    "\n",
    "print(pi)\n"
   ]
  },
  {
   "cell_type": "markdown",
   "id": "2b67ce70",
   "metadata": {},
   "source": [
    "#The \"as\" Keyword\n",
    "\n",
    "Python allows you to rename imported modules using the \"as\" keyword. This can be useful if you want to use as a shorter or more descriptive name for a module, or if you want to avoid naming conflicts with other modules or variables in your code."
   ]
  },
  {
   "cell_type": "code",
   "execution_count": 4,
   "id": "35faa7fb",
   "metadata": {},
   "outputs": [
    {
     "name": "stdout",
     "output_type": "stream",
     "text": [
      "9.42477796076938\n",
      "9.42477796076938\n"
     ]
    }
   ],
   "source": [
    "# import math as m\n",
    "\n",
    "# result = m.sqrt(9)\n",
    "# print(result)\n",
    "\n",
    "# print(m.pi)\n",
    "\n",
    "from math import pi, sqrt as s\n",
    "\n",
    "result = s(9) * pi\n",
    "print(result)\n",
    "\n",
    "#import math as m\n",
    "\n",
    "#result = m.sqrt(9) *pi\n",
    "#print(result)\n"
   ]
  },
  {
   "cell_type": "markdown",
   "id": "07756601",
   "metadata": {},
   "source": [
    "#The \"dir\" function  (Important Topic**)\n",
    "\n",
    "Finally, Python has a built-in function called dir that you can use to view the names of all the functions and variables defined in a module. This can be helpful for exploring and understanding the contents of a module.\n",
    "\n",
    "\n",
    "This will output a list of all the names defined in the math module, including functions like sqrt and pi, as well as other variables and constants.\n",
    "\n",
    "In summary, the import statement in Python allows you to access the functions and variables defined in a module from within your current script. You can import the entire module, specific functions or variables, or use the * wildcard to import everything. You can also use the as keyword to rename a module, and the dir function to view the contents of a module."
   ]
  },
  {
   "cell_type": "code",
   "execution_count": 18,
   "id": "83ed1c42",
   "metadata": {},
   "outputs": [
    {
     "name": "stdout",
     "output_type": "stream",
     "text": [
      "['__doc__', '__loader__', '__name__', '__package__', '__spec__', 'acos', 'acosh', 'asin', 'asinh', 'atan', 'atan2', 'atanh', 'ceil', 'comb', 'copysign', 'cos', 'cosh', 'degrees', 'dist', 'e', 'erf', 'erfc', 'exp', 'expm1', 'fabs', 'factorial', 'floor', 'fmod', 'frexp', 'fsum', 'gamma', 'gcd', 'hypot', 'inf', 'isclose', 'isfinite', 'isinf', 'isnan', 'isqrt', 'lcm', 'ldexp', 'lgamma', 'log', 'log10', 'log1p', 'log2', 'modf', 'nan', 'nextafter', 'perm', 'pi', 'pow', 'prod', 'radians', 'remainder', 'sin', 'sinh', 'sqrt', 'tan', 'tanh', 'tau', 'trunc', 'ulp']\n",
      "nan <class 'float'>\n"
     ]
    }
   ],
   "source": [
    "import math\n",
    "\n",
    "print(dir(math))\n",
    "print(math.nan, type(math.nan))"
   ]
  },
  {
   "cell_type": "code",
   "execution_count": 10,
   "id": "dbd80051",
   "metadata": {},
   "outputs": [
    {
     "name": "stdout",
     "output_type": "stream",
     "text": [
      "['__doc__', '__loader__', '__name__', '__package__', '__spec__', 'acos', 'acosh', 'asin', 'asinh', 'atan', 'atan2', 'atanh', 'ceil', 'comb', 'copysign', 'cos', 'cosh', 'degrees', 'dist', 'e', 'erf', 'erfc', 'exp', 'expm1', 'fabs', 'factorial', 'floor', 'fmod', 'frexp', 'fsum', 'gamma', 'gcd', 'hypot', 'inf', 'isclose', 'isfinite', 'isinf', 'isnan', 'isqrt', 'lcm', 'ldexp', 'lgamma', 'log', 'log10', 'log1p', 'log2', 'modf', 'nan', 'nextafter', 'perm', 'pi', 'pow', 'prod', 'radians', 'remainder', 'sin', 'sinh', 'sqrt', 'tan', 'tanh', 'tau', 'trunc', 'ulp']\n",
      "<built-in function asinh> <class 'builtin_function_or_method'>\n",
      "<built-in function fmod> <class 'builtin_function_or_method'>\n"
     ]
    }
   ],
   "source": [
    "import math\n",
    "print(dir(math))\n",
    "print(math.asinh, type(math.asinh))\n",
    "\n",
    "\n",
    "import math\n",
    "print(math.fmod, type(math.fmod))"
   ]
  },
  {
   "cell_type": "markdown",
   "id": "ae6d41ac",
   "metadata": {},
   "source": [
    "# if \"__name__ ==  \"__main__ \"in python.  #Doubt"
   ]
  },
  {
   "cell_type": "markdown",
   "id": "330e44fa",
   "metadata": {},
   "source": [
    "The if __name__ == \"__main__\" idiom is a common pattern used in Python scripts to determine whether the script is being run directly or being imported as a module into another script.\n",
    "\n",
    "In Python, the __name__ variable is a built-in variable that is automatically set to the name of the current module. When a Python script is run directly, the __name__ variable is set to the string __main__ When the script is imported as a module into another script, the __name__ variable is set to the name of the module.\n",
    "\n",
    "Here's an example of how the if __name__ == __main__ idiom can be used:"
   ]
  },
  {
   "cell_type": "code",
   "execution_count": 20,
   "id": "3703b27a",
   "metadata": {},
   "outputs": [
    {
     "name": "stdout",
     "output_type": "stream",
     "text": [
      "Running script directly\n"
     ]
    }
   ],
   "source": [
    "def main():\n",
    "    #Code to be run when the script is run directly\n",
    "    print(\"Running script directly\")\n",
    "    \n",
    "if __name__ == \"__main__\":\n",
    "    main()\n",
    "    \n",
    "    \n",
    "#In this example, the main functions contains the code that should be run when the script is run directly. The if statement at the bottom checks whether the __name__ variable is equal to __main__. If it it, the main function is called."
   ]
  },
  {
   "cell_type": "markdown",
   "id": "c22b6256",
   "metadata": {},
   "source": [
    "#Why it is Useful?\n",
    "\n",
    "This idiom is useful because it allows you to reuse code from a script by importing it as a module into another script, without running the code in the original script. For example, consider the following script:"
   ]
  },
  {
   "cell_type": "code",
   "execution_count": 21,
   "id": "a57ac5d4",
   "metadata": {},
   "outputs": [
    {
     "name": "stdout",
     "output_type": "stream",
     "text": [
      "Running script directly\n"
     ]
    }
   ],
   "source": [
    "def main():\n",
    "    print(\"Running script directly\")\n",
    "    \n",
    "if __name__ == \"__main__\":\n",
    "    main()\n",
    "    \n",
    "#If you run this script directly,  it will output \"Running script directly\". however, if you import it as a module into another script and call the main function from the imported module, it will not output anything."
   ]
  },
  {
   "cell_type": "code",
   "execution_count": 22,
   "id": "c0f7ec35",
   "metadata": {},
   "outputs": [
    {
     "ename": "ModuleNotFoundError",
     "evalue": "No module named 'script'",
     "output_type": "error",
     "traceback": [
      "\u001b[1;31m---------------------------------------------------------------------------\u001b[0m",
      "\u001b[1;31mModuleNotFoundError\u001b[0m                       Traceback (most recent call last)",
      "Cell \u001b[1;32mIn[22], line 1\u001b[0m\n\u001b[1;32m----> 1\u001b[0m \u001b[38;5;28;01mimport\u001b[39;00m \u001b[38;5;21;01mscript\u001b[39;00m\n\u001b[0;32m      3\u001b[0m script\u001b[38;5;241m.\u001b[39mmain()\n",
      "\u001b[1;31mModuleNotFoundError\u001b[0m: No module named 'script'"
     ]
    }
   ],
   "source": [
    " import script\n",
    "    \n",
    "script.main()\n",
    "\n",
    "#This can be useful if you have code that you want to reuse in multiple scripts, but you only want it to run when the script is run directly and not when it's imported as a module."
   ]
  },
  {
   "cell_type": "markdown",
   "id": "22834124",
   "metadata": {},
   "source": [
    "Is it a necessity?\n",
    "\n",
    "It's important to note that the if __name__ == \"__main__\" idiom is not required to run a Python script. You can still run a script without it by simply calling the functions or running the code you want to execute directly. However, the if __name__ == \"__main__\" idiom can be a useful tool for organizing and separating code that should be run directly from code that should be imported and used as a module.\n",
    "\n",
    "In summary, the if __name__ == \"__main__\" idiom is a common pattern used in Python scripts to determine whether the script is being run directly or being imported as a module into another script. It allows you to reuse code from a script by importing it as a module into another script, without running the code in the original script.\n",
    "\n"
   ]
  },
  {
   "cell_type": "markdown",
   "id": "8ac2b4dc",
   "metadata": {},
   "source": [
    "# OS Module in Python  #Important."
   ]
  },
  {
   "cell_type": "markdown",
   "id": "c3c71337",
   "metadata": {},
   "source": [
    "The os module in Python is a built-in library that provides functions for interacting with the operating system. It allows you to perform a wide variety of tasks, such as reading and writing files, interacting with the file system, and running system commands.\n",
    "\n",
    "Here are some common tasks you can perform with the os module:\n",
    "\n",
    "Reading and writing files The os module provides functions for opening, reading, and writing files. For example, to open a file for reading, you can use the open function:"
   ]
  },
  {
   "cell_type": "code",
   "execution_count": null,
   "id": "ca0a239b",
   "metadata": {},
   "outputs": [],
   "source": [
    "#How to get multiple folders using os Module\n",
    "\n",
    "import os\n",
    "\n",
    "if(os.path.exists()): \n",
    "os.mkdir(\"data\")\n",
    "\n",
    "for i in range(0, 100):\n",
    "    os.mkdir(f\"data/Day{i+1}\")\n",
    "    \n",
    "import os \n",
    "if(os.pathexists()):\n",
    "    os.mkdir(\"data\")\n",
    "    \n",
    "for i in range(0,100):\n",
    "    os.mkdir(;\"data/day{i+1}\")\n",
    "    \n",
    "#The OS module in Python is a built-in library that provides functions for interacting with the operating system.    "
   ]
  },
  {
   "cell_type": "code",
   "execution_count": 1,
   "id": "b8030ad9",
   "metadata": {},
   "outputs": [],
   "source": [
    "import os\n",
    "\n",
    "# Open the file in read- only mode\n",
    "f = os.open(\"myfile,txt\", os.0RDONLY)\n",
    "\n",
    "#Read the contents of the file\n",
    "contents = os.read(f,1024)\n",
    "\n",
    "#close the file\n",
    "os.close(f)\n",
    "\n",
    "#to open a file for writing, you can use the os.O_WWRONGLY flag\n",
    "     "
   ]
  },
  {
   "cell_type": "code",
   "execution_count": null,
   "id": "0984832b",
   "metadata": {},
   "outputs": [],
   "source": [
    "import os\n",
    "\n",
    "#open the file in write- only mode\n",
    "f = os.open(\"myfile.txt\", ps.O_WRONGLY)\n",
    "\n",
    "#write to the file\n",
    "os.write(f,b\"Hello, world!\")\n",
    "\n",
    "#close the file\n",
    "os.close(f)"
   ]
  },
  {
   "cell_type": "markdown",
   "id": "4712c99b",
   "metadata": {},
   "source": [
    "#Interacting with File System\n",
    "\n",
    "The os module also provides functions for interacting with the file system. For example, you can use the os.listdir function to get a list of the files in a directory:"
   ]
  },
  {
   "cell_type": "code",
   "execution_count": 1,
   "id": "c189886c",
   "metadata": {},
   "outputs": [
    {
     "name": "stdout",
     "output_type": "stream",
     "text": [
      "['.ipynb_checkpoints', 'data', 'From Introduction to Tuples..ipynb', 'Question Practice.ipynb', 'satyam.py.ipynb', 'Untitled.ipynb', 'untitled.txt']\n"
     ]
    }
   ],
   "source": [
    "import os\n",
    "\n",
    "#Get a list of the files in the current directory\n",
    "files = os.listdir(\".\")\n",
    "print(files)  #Output: ['myfile.txt', 'otherfile.txt']\n",
    "\n",
    "\n",
    "#You  can use the os.mkdir function to create a new directory:\n",
    "\n",
    "import os\n",
    "\n",
    "#Create a new directory\n",
    "os.mkdir(\"newdir\")\n",
    "\n",
    "\n",
    "\n"
   ]
  },
  {
   "cell_type": "markdown",
   "id": "c7b970cb",
   "metadata": {},
   "source": [
    "#Running System Commands\n",
    "\n",
    "\n",
    "Finally, the OS Module provides functions for running system commands. For example, you can use the os.system function to run a command and get the output."
   ]
  },
  {
   "cell_type": "code",
   "execution_count": 3,
   "id": "91eceb40",
   "metadata": {},
   "outputs": [
    {
     "name": "stdout",
     "output_type": "stream",
     "text": [
      "1\n",
      "\n"
     ]
    },
    {
     "data": {
      "text/plain": [
       "1"
      ]
     },
     "execution_count": 3,
     "metadata": {},
     "output_type": "execute_result"
    }
   ],
   "source": [
    "import os \n",
    "\n",
    "#Run the \"ls\" command and print the output\n",
    "output = os.system(\"ls\")\n",
    "print(output)  #output: ['myfile.txt', 'otherfile.txt']\n",
    "\n",
    "\n",
    "#you can also use the os.popen function to run a command and get the output as a file like object:\n",
    "\n",
    "import os\n",
    "\n",
    "#Run the \"ls\" command and get the output as a file-like object\n",
    "f= os.popen(\"ls\")\n",
    "\n",
    "#Read the contents of the output\n",
    "output = f.read()\n",
    "print(output) #Output: ['myfile.txt', 'otherfile.txt']\n",
    "\n",
    "#Close the file-like object\n",
    "f.close()\n",
    "\n",
    "\n",
    "\n"
   ]
  },
  {
   "cell_type": "code",
   "execution_count": 17,
   "id": "4bf28b5e",
   "metadata": {
    "scrolled": true
   },
   "outputs": [
    {
     "name": "stdout",
     "output_type": "stream",
     "text": [
      "enter a messageSatyam is a good boy\n",
      "1 for Coding or 0 for Decoding0\n"
     ]
    },
    {
     "ename": "NameError",
     "evalue": "name 'Coding' is not defined",
     "output_type": "error",
     "traceback": [
      "\u001b[1;31m---------------------------------------------------------------------------\u001b[0m",
      "\u001b[1;31mNameError\u001b[0m                                 Traceback (most recent call last)",
      "Cell \u001b[1;32mIn[17], line 4\u001b[0m\n\u001b[0;32m      2\u001b[0m words \u001b[38;5;241m=\u001b[39m st\u001b[38;5;241m.\u001b[39msplit(\u001b[38;5;124m\"\u001b[39m\u001b[38;5;124m \u001b[39m\u001b[38;5;124m\"\u001b[39m)\n\u001b[0;32m      3\u001b[0m coding \u001b[38;5;241m=\u001b[39m \u001b[38;5;28minput\u001b[39m(\u001b[38;5;124m\"\u001b[39m\u001b[38;5;124m1 for Coding or 0 for Decoding\u001b[39m\u001b[38;5;124m\"\u001b[39m)\n\u001b[1;32m----> 4\u001b[0m Coding \u001b[38;5;241m=\u001b[39m \u001b[38;5;28;01mTrue\u001b[39;00m \u001b[38;5;28;01mif\u001b[39;00m (\u001b[43mCoding\u001b[49m\u001b[38;5;241m==\u001b[39m\u001b[38;5;124m\"\u001b[39m\u001b[38;5;124m1\u001b[39m\u001b[38;5;124m\"\u001b[39m) \u001b[38;5;28;01melse\u001b[39;00m \u001b[38;5;28;01mFalse\u001b[39;00m\n\u001b[0;32m      5\u001b[0m \u001b[38;5;28mprint\u001b[39m(coding)\n\u001b[0;32m      6\u001b[0m \u001b[38;5;28;01mif\u001b[39;00m(coding):\n",
      "\u001b[1;31mNameError\u001b[0m: name 'Coding' is not defined"
     ]
    }
   ],
   "source": [
    "#write a program in python to translate a message into secret code language. use the rules to translate normal english into secret code language\n",
    "\n",
    "st = input(\"enter a message\")\n",
    "words = st.split(\" \")\n",
    "coding = input(\"1 for Coding or 0 for Decoding\")\n",
    "Coding = True if (Coding==\"1\") else False\n",
    "print(coding)\n",
    "if(coding):\n",
    "  nwords = []\n",
    "  for word in words:\n",
    "    if(len(word)>=3):\n",
    "      r1 = \"dds\"\n",
    "      r2 = \"frs\"\n",
    "      stnew = r1 + word[1:] + word[0] + r2\n",
    "      nwords.append(stnew)\n",
    "    else:\n",
    "      nwords.append(word[::-1])\n",
    "  print(\"  \".join(nwords))\n",
    "\n",
    "else:\n",
    "  nwords = []\n",
    "  for word in words:\n",
    "    if(len(word)>=3):\n",
    "      stnew = word[3:-3]\n",
    "      stnew = stnew[-1] + stnew[:-1]\n",
    "      nwords.append(stnew)\n",
    "    else:\n",
    "      nwords.append(word[::-1])\n",
    "  print(\" \".join(words))"
   ]
  },
  {
   "cell_type": "markdown",
   "id": "8e1af00e",
   "metadata": {},
   "source": [
    "In summary, the OS module in Python is a built-in library that provides a wide variety of functions for interacting with the Operating system. It allows you to perform tasks such as reading and writing files, interacting with the file system, and running system commands. (Lecture 47 Programming section, will do later)"
   ]
  },
  {
   "cell_type": "markdown",
   "id": "0154ab32",
   "metadata": {},
   "source": [
    "# Local vs Global variables in Python"
   ]
  },
  {
   "cell_type": "markdown",
   "id": "b671a249",
   "metadata": {},
   "source": [
    "Before we dive into the differences between local and global varibales, let's first recall what is variable.\n",
    "\n",
    "A variable is a named location in memory that stores a value. In python, we can assign values to variables using the assignment operator =.\n",
    "\n",
    "\n",
    "Local varibale: It is a variable that is defined within a function and is only accessible within that function. It is created when the function is called and is destroyed when the function returns.\n",
    "\n",
    "Global Variable: It is a variable that is defined outside of a function and is accessible from within any function in your code."
   ]
  },
  {
   "cell_type": "code",
   "execution_count": 9,
   "id": "5d8c991f",
   "metadata": {},
   "outputs": [
    {
     "name": "stdout",
     "output_type": "stream",
     "text": [
      "4\n",
      "The global x is 4\n",
      "The local x is 5\n",
      "Hello Satyam\n",
      "The global x is 4\n"
     ]
    }
   ],
   "source": [
    "x = 4  #global\n",
    "print(x)\n",
    "\n",
    "\n",
    "def hello():\n",
    "    x = 5 #local\n",
    "    \n",
    "    print(f\"The local x is {x}\")\n",
    "    print(\"Hello Satyam\")\n",
    "    \n",
    "print(f\"The global x is {x}\")\n",
    "hello()\n",
    "print(f\"The global x is {x}\")"
   ]
  },
  {
   "cell_type": "code",
   "execution_count": 12,
   "id": "74627543",
   "metadata": {},
   "outputs": [
    {
     "name": "stdout",
     "output_type": "stream",
     "text": [
      "5\n",
      "10\n"
     ]
    }
   ],
   "source": [
    "x = 10 #global variable\n",
    "\n",
    "def my_function():\n",
    "    y = 5 #local variable\n",
    "    print(y)\n",
    "    \n",
    "my_function()\n",
    "print(x)\n",
    "print(y)   #this  will cause an error because y is a local variable and is not accessible outside of the function."
   ]
  },
  {
   "cell_type": "markdown",
   "id": "c5e55afb",
   "metadata": {},
   "source": [
    "#The Global Keyword\n",
    "\n",
    "The global keyword is used to declare that a variable is a global variable and should be accessed from the global scope.Here's an example,"
   ]
  },
  {
   "cell_type": "code",
   "execution_count": 18,
   "id": "8f9b0ba0",
   "metadata": {},
   "outputs": [
    {
     "name": "stdout",
     "output_type": "stream",
     "text": [
      "5\n",
      "20\n"
     ]
    }
   ],
   "source": [
    "x = 10 #Global variable\n",
    "\n",
    "\n",
    "def my_function():\n",
    "    global x\n",
    "    x = 20 #this will change the value of the global variable to x\n",
    "    y = 5 #local variable\n",
    "    print(y)\n",
    "    \n",
    "my_function()\n",
    "print(x)  #prints 5\n",
    "# print(y) #this will cause an error because y is a local variable and is not accessible outside of the function."
   ]
  },
  {
   "cell_type": "markdown",
   "id": "ac28df0a",
   "metadata": {},
   "source": [
    "In this example, we used the global keyword to declare that we want to modify the global variable x from within the function. As a result, the value of x is changed to 5.\n",
    "\n",
    "It's important to note that it's generally considered good practice to avoid modifying global variables from within functions, as it can lead to unexpected behavior and make your code harder to debug.\n",
    "\n",
    "I hope this tutorial has helped clarify the differences between local and global variables and how to use the global keyword in Python. Thank you for watching!\n",
    "\n",
    " "
   ]
  },
  {
   "cell_type": "code",
   "execution_count": 11,
   "id": "75bb67de",
   "metadata": {},
   "outputs": [
    {
     "name": "stdout",
     "output_type": "stream",
     "text": [
      "Enter messageSatyam\n",
      "1 for coding and 0 for decoding0\n",
      "False\n"
     ]
    }
   ],
   "source": [
    "# st = input(\"Enter message\")    #Doubt****\n",
    "# words = st.split(\" \")\n",
    "# coding = input(\"1 for coding and 0 for decoding\")\n",
    "# coding = True if (coding == \"1\") else False\n",
    "# print(coding)\n",
    "# if(coding):    #Coding\n",
    "#     nwords = []\n",
    "#     for words in words:\n",
    "#         if(len(words)>=3):\n",
    "#             r1 = \"hdl\"\n",
    "#             r2 = \"gre\"\n",
    "# #             stnew = r1+ words[1:] + words[0] + r2\n",
    "#             nwords.append(stnew)\n",
    "#         else:\n",
    "#             nwords.append(words[::-1])\n",
    "#         print(\" \".join(nwords))"
   ]
  },
  {
   "cell_type": "markdown",
   "id": "5202aae2",
   "metadata": {},
   "source": [
    "# File IO Handling in Python."
   ]
  },
  {
   "cell_type": "markdown",
   "id": "458243b3",
   "metadata": {},
   "source": [
    "#Opening a File\n",
    "\n",
    "Before we can perform any operations on a file, we must first open it. Python provides the open() function to open a file. It takes two arguments: the name of the file and the mode in which the file should be opened. The mode can be 'r' for reading, 'w' for writing, or 'a' for appending.\n",
    "\n",
    "Here's an example of how to open a file for reading:\n",
    "\n",
    "f = open('myfile.txt', 'r')\n",
    " \n",
    "By default, the open() function returns a file object that can be used to read from or write to the file, depending on the mode."
   ]
  },
  {
   "cell_type": "markdown",
   "id": "9d8d090c",
   "metadata": {},
   "source": [
    "#Modes in file....\n",
    "\n",
    "There are various modes in which we can open files.\n",
    "\n",
    "1. read (r): This mode opens the file for reading only and gives an error if  he file does not exist. This is the default mode if no mode is passed as a parameter.\n",
    "\n",
    "2. write (w): This mode opens the file for writing only and creates a new file if the file does not exist.\n",
    "\n",
    "3. append (a): This mode opens the file for appending only and creates a new file if the file does not exist.\n",
    "\n",
    "4. create (x): This mode creates a file and gives an error if the file already exists.\n",
    "\n",
    "5. text (t): Apart from these modes we also need to specify how the file must be handled. t mode is used to handle text files. t refers to the text mode. There is no difference between r and rt or w and wt since text mode is the default. The default mode is 'r' (open for reading text, synonym of 'rt' ).\n",
    "\n",
    "6. binary (b): used to handle binary files (images, pdfs, etc)."
   ]
  },
  {
   "cell_type": "code",
   "execution_count": 3,
   "id": "0aac88c6",
   "metadata": {},
   "outputs": [
    {
     "ename": "FileNotFoundError",
     "evalue": "[Errno 2] No such file or directory: 'myfile.txt'",
     "output_type": "error",
     "traceback": [
      "\u001b[1;31m---------------------------------------------------------------------------\u001b[0m",
      "\u001b[1;31mFileNotFoundError\u001b[0m                         Traceback (most recent call last)",
      "Cell \u001b[1;32mIn[3], line 1\u001b[0m\n\u001b[1;32m----> 1\u001b[0m f \u001b[38;5;241m=\u001b[39m \u001b[38;5;28;43mopen\u001b[39;49m\u001b[43m(\u001b[49m\u001b[38;5;124;43m'\u001b[39;49m\u001b[38;5;124;43mmyfile.txt\u001b[39;49m\u001b[38;5;124;43m'\u001b[39;49m\u001b[43m,\u001b[49m\u001b[43m \u001b[49m\u001b[38;5;124;43m'\u001b[39;49m\u001b[38;5;124;43mr\u001b[39;49m\u001b[38;5;124;43m'\u001b[39;49m\u001b[43m)\u001b[49m\n\u001b[0;32m      2\u001b[0m contents \u001b[38;5;241m=\u001b[39m f\u001b[38;5;241m.\u001b[39mread()\n\u001b[0;32m      3\u001b[0m \u001b[38;5;28mprint\u001b[39m(text)\n",
      "File \u001b[1;32mC:\\ProgramData\\anaconda3\\lib\\site-packages\\IPython\\core\\interactiveshell.py:282\u001b[0m, in \u001b[0;36m_modified_open\u001b[1;34m(file, *args, **kwargs)\u001b[0m\n\u001b[0;32m    275\u001b[0m \u001b[38;5;28;01mif\u001b[39;00m file \u001b[38;5;129;01min\u001b[39;00m {\u001b[38;5;241m0\u001b[39m, \u001b[38;5;241m1\u001b[39m, \u001b[38;5;241m2\u001b[39m}:\n\u001b[0;32m    276\u001b[0m     \u001b[38;5;28;01mraise\u001b[39;00m \u001b[38;5;167;01mValueError\u001b[39;00m(\n\u001b[0;32m    277\u001b[0m         \u001b[38;5;124mf\u001b[39m\u001b[38;5;124m\"\u001b[39m\u001b[38;5;124mIPython won\u001b[39m\u001b[38;5;124m'\u001b[39m\u001b[38;5;124mt let you open fd=\u001b[39m\u001b[38;5;132;01m{\u001b[39;00mfile\u001b[38;5;132;01m}\u001b[39;00m\u001b[38;5;124m by default \u001b[39m\u001b[38;5;124m\"\u001b[39m\n\u001b[0;32m    278\u001b[0m         \u001b[38;5;124m\"\u001b[39m\u001b[38;5;124mas it is likely to crash IPython. If you know what you are doing, \u001b[39m\u001b[38;5;124m\"\u001b[39m\n\u001b[0;32m    279\u001b[0m         \u001b[38;5;124m\"\u001b[39m\u001b[38;5;124myou can use builtins\u001b[39m\u001b[38;5;124m'\u001b[39m\u001b[38;5;124m open.\u001b[39m\u001b[38;5;124m\"\u001b[39m\n\u001b[0;32m    280\u001b[0m     )\n\u001b[1;32m--> 282\u001b[0m \u001b[38;5;28;01mreturn\u001b[39;00m io_open(file, \u001b[38;5;241m*\u001b[39margs, \u001b[38;5;241m*\u001b[39m\u001b[38;5;241m*\u001b[39mkwargs)\n",
      "\u001b[1;31mFileNotFoundError\u001b[0m: [Errno 2] No such file or directory: 'myfile.txt'"
     ]
    }
   ],
   "source": [
    "f = open('myfile.txt', 'r')\n",
    "contents = f.read()\n",
    "print(text)\n",
    "print(contents)"
   ]
  },
  {
   "cell_type": "markdown",
   "id": "6dddc87f",
   "metadata": {},
   "source": [
    "#Reading from a file:-\n",
    "\n",
    "Once we have a file object, we can use various methods to read from the file.\n",
    "\n",
    "The read() method reads the entire contents of the file and returns it as a string."
   ]
  },
  {
   "cell_type": "code",
   "execution_count": null,
   "id": "86c9674e",
   "metadata": {},
   "outputs": [],
   "source": [
    "f = open('myfile.txt', 'r')  #Reading a file\n",
    "contents = f.read()\n",
    "print(text)\n",
    "f.close()\n"
   ]
  },
  {
   "cell_type": "markdown",
   "id": "860c726d",
   "metadata": {},
   "source": [
    "#Writing to a File:- \n",
    "\n",
    "To write a file, we first need to open it in write mode.\n",
    "we can then use the write() method to write to the file.\n",
    "Kep in mind that writing to a file will overwrite its contents. If you want to append to a file instead of overwriting it, you can open it in append mode."
   ]
  },
  {
   "cell_type": "code",
   "execution_count": null,
   "id": "351416a9",
   "metadata": {},
   "outputs": [],
   "source": [
    "f = open('myfile2.txt','w')  #writing a file\n",
    "f.write('Hello, world!')\n",
    "f.close()\n"
   ]
  },
  {
   "cell_type": "markdown",
   "id": "25135e73",
   "metadata": {},
   "source": [
    "#Closing a file\n",
    "\n",
    "It is important to close a file after you are done with it. this releases the resources used by the file and allows other programs to access it.\n",
    "\n",
    "To close a file, you can use the close() method."
   ]
  },
  {
   "cell_type": "code",
   "execution_count": null,
   "id": "c75f1dba",
   "metadata": {},
   "outputs": [],
   "source": [
    "f = open('myfile.txt', 'r')\n",
    "#.... do something with the file\n",
    "f.close()"
   ]
  },
  {
   "cell_type": "markdown",
   "id": "e0cf47bb",
   "metadata": {},
   "source": [
    "#the 'with' Statement\n",
    "\n",
    "alternatively, you can use the with statement to automatically close the file after you are done with it."
   ]
  },
  {
   "cell_type": "code",
   "execution_count": 4,
   "id": "433e0adf",
   "metadata": {},
   "outputs": [],
   "source": [
    "with open('myfile.txt', 'a') as f:\n",
    "    #... do something with the file\n",
    "    f.write(\"Hey I am inside with\")"
   ]
  },
  {
   "cell_type": "markdown",
   "id": "e3474886",
   "metadata": {},
   "source": [
    "# Seek() and tell() Functions"
   ]
  },
  {
   "cell_type": "markdown",
   "id": "ec3d9d98",
   "metadata": {},
   "source": [
    "In Python, the Seek() and tell() functions are used to work with file objects and their positions within a file. These functions are part of the built-in IO module, which provides a consistent interface for reading and writing to various file-like objects, such as files, pipes and in- memory buffers."
   ]
  },
  {
   "cell_type": "markdown",
   "id": "026822aa",
   "metadata": {},
   "source": [
    "#Seek() Function:\n",
    "\n",
    "The seek() function allows you to ,ove the current positions within a file to a specific point. The position is specified in bytes, and you can move either forward or backward from the current position. For example:"
   ]
  },
  {
   "cell_type": "code",
   "execution_count": 6,
   "id": "74171919",
   "metadata": {},
   "outputs": [
    {
     "ename": "FileNotFoundError",
     "evalue": "[Errno 2] No such file or directory: 'file.txt'",
     "output_type": "error",
     "traceback": [
      "\u001b[1;31m---------------------------------------------------------------------------\u001b[0m",
      "\u001b[1;31mFileNotFoundError\u001b[0m                         Traceback (most recent call last)",
      "Cell \u001b[1;32mIn[6], line 1\u001b[0m\n\u001b[1;32m----> 1\u001b[0m \u001b[38;5;28;01mwith\u001b[39;00m \u001b[38;5;28;43mopen\u001b[39;49m\u001b[43m(\u001b[49m\u001b[38;5;124;43m'\u001b[39;49m\u001b[38;5;124;43mfile.txt\u001b[39;49m\u001b[38;5;124;43m'\u001b[39;49m\u001b[43m,\u001b[49m\u001b[43m \u001b[49m\u001b[38;5;124;43m'\u001b[39;49m\u001b[38;5;124;43mr\u001b[39;49m\u001b[38;5;124;43m'\u001b[39;49m\u001b[43m)\u001b[49m \u001b[38;5;28;01mas\u001b[39;00m f:\n\u001b[0;32m      2\u001b[0m   \u001b[38;5;66;03m# Move to the 10th byte in the file\u001b[39;00m\n\u001b[0;32m      3\u001b[0m   f\u001b[38;5;241m.\u001b[39mseek(\u001b[38;5;241m10\u001b[39m)\n\u001b[0;32m      5\u001b[0m   \u001b[38;5;66;03m# Read the next 5 bytes\u001b[39;00m\n",
      "File \u001b[1;32mC:\\ProgramData\\anaconda3\\lib\\site-packages\\IPython\\core\\interactiveshell.py:282\u001b[0m, in \u001b[0;36m_modified_open\u001b[1;34m(file, *args, **kwargs)\u001b[0m\n\u001b[0;32m    275\u001b[0m \u001b[38;5;28;01mif\u001b[39;00m file \u001b[38;5;129;01min\u001b[39;00m {\u001b[38;5;241m0\u001b[39m, \u001b[38;5;241m1\u001b[39m, \u001b[38;5;241m2\u001b[39m}:\n\u001b[0;32m    276\u001b[0m     \u001b[38;5;28;01mraise\u001b[39;00m \u001b[38;5;167;01mValueError\u001b[39;00m(\n\u001b[0;32m    277\u001b[0m         \u001b[38;5;124mf\u001b[39m\u001b[38;5;124m\"\u001b[39m\u001b[38;5;124mIPython won\u001b[39m\u001b[38;5;124m'\u001b[39m\u001b[38;5;124mt let you open fd=\u001b[39m\u001b[38;5;132;01m{\u001b[39;00mfile\u001b[38;5;132;01m}\u001b[39;00m\u001b[38;5;124m by default \u001b[39m\u001b[38;5;124m\"\u001b[39m\n\u001b[0;32m    278\u001b[0m         \u001b[38;5;124m\"\u001b[39m\u001b[38;5;124mas it is likely to crash IPython. If you know what you are doing, \u001b[39m\u001b[38;5;124m\"\u001b[39m\n\u001b[0;32m    279\u001b[0m         \u001b[38;5;124m\"\u001b[39m\u001b[38;5;124myou can use builtins\u001b[39m\u001b[38;5;124m'\u001b[39m\u001b[38;5;124m open.\u001b[39m\u001b[38;5;124m\"\u001b[39m\n\u001b[0;32m    280\u001b[0m     )\n\u001b[1;32m--> 282\u001b[0m \u001b[38;5;28;01mreturn\u001b[39;00m io_open(file, \u001b[38;5;241m*\u001b[39margs, \u001b[38;5;241m*\u001b[39m\u001b[38;5;241m*\u001b[39mkwargs)\n",
      "\u001b[1;31mFileNotFoundError\u001b[0m: [Errno 2] No such file or directory: 'file.txt'"
     ]
    }
   ],
   "source": [
    "with open('file.txt', 'r') as f:\n",
    "    print(type(f))\n",
    "  # Move to the 10th byte in the file\n",
    "  f.seek(10)\n",
    "\n",
    "  # Read the next 5 bytes\n",
    "data = f.read(5)\n",
    "print(data)"
   ]
  },
  {
   "cell_type": "markdown",
   "id": "a420df40",
   "metadata": {},
   "source": [
    "#tell function()\n",
    "\n",
    "The tell() function returns the current position within the file, in bytes. This can be useful for keeping track of your location within the file or for seeking to a specific position relative to the current position. For example:"
   ]
  },
  {
   "cell_type": "code",
   "execution_count": null,
   "id": "f28f3814",
   "metadata": {},
   "outputs": [],
   "source": [
    "with open('file.txt', 'r') as f:\n",
    "  # Move to the 10th byte in the file\n",
    "  f.seek(10)\n",
    "\n",
    "  # Read the next 5 bytes\n",
    "print(f.tell())\n",
    "data = f.read(5)\n",
    "print(data)"
   ]
  },
  {
   "cell_type": "markdown",
   "id": "5cb334e8",
   "metadata": {},
   "source": [
    "truncate() function\n",
    "\n",
    "When you open a file in Python using the open function, you can specify the mode in which you want to open the file. If you specify the mode as 'w' or 'a', the file is opened in write mode and you can write to the file. However, if you want to truncate the file to a specific size, you can use the truncate function.\n",
    "\n",
    "Here is an example of how to use the truncate function:"
   ]
  },
  {
   "cell_type": "code",
   "execution_count": 1,
   "id": "ab65c382",
   "metadata": {},
   "outputs": [
    {
     "name": "stdout",
     "output_type": "stream",
     "text": [
      "Hello\n"
     ]
    }
   ],
   "source": [
    "with open('sample.txt', 'w') as f:\n",
    "  f.write('Hello World!')\n",
    "  f.truncate(5)\n",
    "\n",
    "with open('sample.txt', 'r') as f:\n",
    "  print(f.read())\n",
    "\n"
   ]
  },
  {
   "cell_type": "markdown",
   "id": "d09df1fc",
   "metadata": {},
   "source": [
    "# Lambda Function."
   ]
  },
  {
   "cell_type": "markdown",
   "id": "3cb36a36",
   "metadata": {},
   "source": [
    "In Python, a lambda function is a small anonymous function without a name. It is defined using the lambda keyword and has the following syntax:\n",
    "\n",
    "lamda arguments: expression\n",
    "\n",
    "Lambda functions are often used in situations where a small function is required for a short period of time. They are commonly used as arguments to higher-order functions, such as map, filter, and reduce.\n",
    "\n",
    "Here is an example of how to use a lambda function:"
   ]
  },
  {
   "cell_type": "code",
   "execution_count": 2,
   "id": "f1542075",
   "metadata": {},
   "outputs": [
    {
     "name": "stdout",
     "output_type": "stream",
     "text": [
      "35\n",
      "10\n",
      "27\n",
      "4.0\n"
     ]
    }
   ],
   "source": [
    "#function to double the input\n",
    "#def double(x):\n",
    "    #return x*2\n",
    " \n",
    "#Lambda function to double the input\n",
    "double = lambda x: x*2\n",
    "cube = lambda x: x*x*x\n",
    "avg = lambda x, y: (x+y) / 2\n",
    "\n",
    "multiply = lambda x, y: x*y\n",
    "print(multiply(7, 5))\n",
    "\n",
    "\n",
    "print(double(5))\n",
    "print(cube(3))\n",
    "print(avg(3, 5))"
   ]
  },
  {
   "cell_type": "markdown",
   "id": "df9f1c68",
   "metadata": {},
   "source": [
    "The above lambda function has the same functionality as the double function defined earlier. However, the lambda function is anonymous, as it does not have a name.\n",
    "\n",
    "Lambda functions can have multiple arguments, just like regular functions. Here is an example of a lambda function with multiple arguments:"
   ]
  },
  {
   "cell_type": "code",
   "execution_count": 5,
   "id": "dd0c63c7",
   "metadata": {},
   "outputs": [
    {
     "name": "stdout",
     "output_type": "stream",
     "text": [
      "10\n",
      "35\n"
     ]
    }
   ],
   "source": [
    "# Function to calculate the product of two numbers\n",
    "def multiply(x, y):\n",
    "    return x * y\n",
    "print(multiply(5, 2))\n",
    "# Lambda function to calculate the product of two numbers\n",
    "multiply = lambda x, y: x * y\n",
    "print(multiply(7, 5))"
   ]
  },
  {
   "cell_type": "code",
   "execution_count": 8,
   "id": "5a09cf5f",
   "metadata": {},
   "outputs": [
    {
     "name": "stdout",
     "output_type": "stream",
     "text": [
      "10\n"
     ]
    }
   ],
   "source": [
    "def multiply(a,b):\n",
    "    return a * b\n",
    "print(multiply(5, 2))"
   ]
  },
  {
   "cell_type": "code",
   "execution_count": 7,
   "id": "f6f1b2cd",
   "metadata": {},
   "outputs": [
    {
     "name": "stdout",
     "output_type": "stream",
     "text": [
      "14\n",
      "10\n"
     ]
    }
   ],
   "source": [
    "def appl(fx, value):\n",
    "    return 6 + fx(value)\n",
    "print(appl(cube, 2)) \n",
    "\n",
    "#OR\n",
    "\n",
    "print(appl(lambda x: x * x, 2))\n",
    "    "
   ]
  },
  {
   "cell_type": "markdown",
   "id": "b5cce274",
   "metadata": {},
   "source": [
    "Lambda functions can also include multiple statements, but they are limited to a single expression. For example:"
   ]
  },
  {
   "cell_type": "code",
   "execution_count": 10,
   "id": "9476eb1f",
   "metadata": {},
   "outputs": [
    {
     "name": "stdout",
     "output_type": "stream",
     "text": [
      "35\n"
     ]
    }
   ],
   "source": [
    "# Lambda function to calculate the product of two numbers,\n",
    "# with additional print statement\n",
    "lambda x, y: print(f'{x} * {y} = {x * y}')\n",
    "print(5*7)\n",
    "\n",
    "#In the above example, the lambda function includes a print statement, but it is still limited to a single expressions."
   ]
  },
  {
   "cell_type": "markdown",
   "id": "d3c1a527",
   "metadata": {},
   "source": [
    "# Map, Filter and Reduce"
   ]
  },
  {
   "cell_type": "markdown",
   "id": "5f86ebcd",
   "metadata": {},
   "source": [
    "In Python, the map, filter, and reduce functions are built-in functions that allow you to apply a function to a sequence of elements and return a new sequence. These functions are known as higher-order functions, as they take other functions as arguments."
   ]
  },
  {
   "cell_type": "markdown",
   "id": "c1b81308",
   "metadata": {},
   "source": [
    "#Map: The Map Function applies a function to each element in a sequence and returns a new sequence containing the transformed elements. It has the following syntax:\n",
    "map(function, iterable)\n",
    "\n",
    "The function argument is a function that is applied to each element in the iterable argument. The iterable argument can be list, tuple, or any other iterable object."
   ]
  },
  {
   "cell_type": "code",
   "execution_count": 18,
   "id": "f0abbf27",
   "metadata": {},
   "outputs": [
    {
     "name": "stdout",
     "output_type": "stream",
     "text": [
      "[1, 125, 216, 729, 27, 1000]\n"
     ]
    }
   ],
   "source": [
    "l = [1,5,6,9,3,10]\n",
    "#newl = []\n",
    "#for item in l:\n",
    " #   newl.append(cube(item))\n",
    "    #OR\n",
    "    \n",
    "#newl = list(map(cube, l))   #Using map Function\n",
    "newl = list(map(lambda x: x*x*x, l))\n",
    "print(newl)"
   ]
  },
  {
   "cell_type": "code",
   "execution_count": 3,
   "id": "4d0b1f84",
   "metadata": {},
   "outputs": [
    {
     "name": "stdout",
     "output_type": "stream",
     "text": [
      "8\n",
      "[1, 125, 216, 512, 216, 125]\n"
     ]
    }
   ],
   "source": [
    "def cube(x):\n",
    "    return x*x*x\n",
    "\n",
    "print(cube(2))\n",
    "\n",
    "l = [1,5,6,8,6,5]\n",
    "\n",
    "newl = list(map(cube,l))  #Map function\n",
    "print(newl)\n",
    "\n"
   ]
  },
  {
   "cell_type": "markdown",
   "id": "be1591e4",
   "metadata": {},
   "source": [
    "Filter:\n",
    "\n",
    "The Filter function filters a sequence of elements based on a given predicate(a function that returns a boolean value) and returns a new sequence containing only the elements that meet the predicate. It has the following sequence:\n",
    "\n",
    "filter(predicate, iterable)\n",
    "\n",
    "The predicate function is a function that returns a boolean value and is applied to each element in the iterable argument. The iterable argument can be a list, tuple, or any other iterable object."
   ]
  },
  {
   "cell_type": "code",
   "execution_count": 34,
   "id": "3224a8ab",
   "metadata": {},
   "outputs": [
    {
     "name": "stdout",
     "output_type": "stream",
     "text": [
      "[5, 6, 9, 10]\n"
     ]
    }
   ],
   "source": [
    "l = [1,5,6,9,3,10]\n",
    "def filter_function(a):\n",
    "    return a>4\n",
    "newnewl = list(filter(filter_function, l))\n",
    "print(newnewl)"
   ]
  },
  {
   "cell_type": "markdown",
   "id": "862c6a3b",
   "metadata": {},
   "source": [
    "#Reduce:\n",
    "\n",
    "The reduce function is a higher-order function that applies a function to a sequence and returns a single value. It is a part of the functools module in Python and has the following syntax:\n",
    "\n",
    "reduce(function, iterable)\n",
    "\n",
    "The function argument is a function that takes in two arguments and returns a single value. The iterable argument is a sequence of elements, such as a list or tuple.\n",
    "\n",
    "The reduce function applies the function to the first two elements in the iterable and then applies the function to the result and the next element, and so on. The reduce function returns the final result.\n",
    "\n",
    "Here is an example of how to use the reduce function:"
   ]
  },
  {
   "cell_type": "code",
   "execution_count": 2,
   "id": "d815e404",
   "metadata": {},
   "outputs": [
    {
     "name": "stdout",
     "output_type": "stream",
     "text": [
      "129\n"
     ]
    }
   ],
   "source": [
    "from functools import reduce\n",
    "\n",
    "numbers = [12,56,5,6,9,39,2]\n",
    "\n",
    "def mysum(x,y):\n",
    "    return x+y\n",
    "\n",
    "sum = reduce(mysum, numbers)\n",
    "print(sum)"
   ]
  },
  {
   "cell_type": "code",
   "execution_count": 20,
   "id": "b036ea5f",
   "metadata": {},
   "outputs": [
    {
     "name": "stdout",
     "output_type": "stream",
     "text": [
      "34\n"
     ]
    }
   ],
   "source": [
    "from functools import reduce\n",
    "\n",
    "# List of numbers\n",
    "numbers = [12,5,6,9,2]   #using reduce function...\n",
    "\n",
    "# Calculate the sum of the numbers using the reduce function\n",
    "sum = reduce(lambda x, y: x + y, numbers)\n",
    "\n",
    "# Print the sum\n",
    "print(sum)"
   ]
  },
  {
   "cell_type": "markdown",
   "id": "589e2b24",
   "metadata": {},
   "source": [
    "# \"is\" vs \"==\" keyword"
   ]
  },
  {
   "cell_type": "markdown",
   "id": "5c951cae",
   "metadata": {},
   "source": [
    "In Python, is and == are both comparison operators that can be used to check if two values are equal. However, there are some important differences between the two that you should be aware of.\n",
    "\n",
    "The is operator compares the identity of two objects, while the == operator compares the values of the objects. This means that is will only return True if the objects being compared are the exact same object in memory, while == will return True if the objects have the same value.\n",
    "\n",
    "For example:"
   ]
  },
  {
   "cell_type": "code",
   "execution_count": 24,
   "id": "b877841e",
   "metadata": {},
   "outputs": [
    {
     "name": "stdout",
     "output_type": "stream",
     "text": [
      "False\n",
      "True\n"
     ]
    }
   ],
   "source": [
    "a = [1,2,3,4]\n",
    "b = [1,2,3,4]\n",
    "\n",
    "print(a is b)  #It compares the exact location of object in memory or is compares the identity..\n",
    "print(a == b) #It compares the value "
   ]
  },
  {
   "cell_type": "markdown",
   "id": "cdd8c68a",
   "metadata": {},
   "source": [
    "In this case, a and b are two separate lists that have the same values, so == returns True. However, a and b are not the same object in memory, so is returns False.\n",
    "\n",
    "One important thing to note is that, in Python, strings and integers are immutable, which means that once they are created, their value cannot be changed. This means that, for strings and integers, is and == will always return the same result:"
   ]
  },
  {
   "cell_type": "code",
   "execution_count": 25,
   "id": "63bfd2a8",
   "metadata": {},
   "outputs": [
    {
     "name": "stdout",
     "output_type": "stream",
     "text": [
      "True\n",
      "True\n",
      "True\n",
      "True\n"
     ]
    }
   ],
   "source": [
    "a = \"hello\"\n",
    "b = \"hello\"\n",
    "\n",
    "\n",
    "print(a == b)\n",
    "print(a is b)\n",
    "\n",
    "a = 5\n",
    "b = 5\n",
    "\n",
    "print(a == b)\n",
    "print(a is b)"
   ]
  },
  {
   "cell_type": "markdown",
   "id": "e2245385",
   "metadata": {},
   "source": [
    "In these cases, a and b are both pointing to the same object in memory, so is and == both return True.\n",
    "\n",
    "For mutable objects such as lists and dictionaries, is and == can behave differently. In general, you should use == when you want to compare the values of two objects, and use is when you want to check if two objects are the same object in memory.\n",
    "\n",
    "I hope this helps clarify the difference between is and == in Python!"
   ]
  },
  {
   "cell_type": "markdown",
   "id": "35d12078",
   "metadata": {},
   "source": [
    "# Introduction to OOPS in Python...."
   ]
  },
  {
   "cell_type": "markdown",
   "id": "42a92a17",
   "metadata": {},
   "source": [
    "Introduction to Object-Oriented Programming in Python: In programming languages, mainly there are two approaches that are used to write program or code. \n",
    "\n",
    "1). Procedural Programming\n",
    "2). Object-Oriented Programming\n",
    "The procedure we are following till now is the “Procedural Programming” approach. So, in this session, we will learn about Object Oriented Programming (OOP). The basic idea of object-oriented programming (OOP) in Python is to use classes and objects to represent real-world concepts and entities.\n",
    "\n",
    "A class is a blueprint or template for creating objects. It defines the properties and methods that an object of that class will have. Properties are the data or state of an object, and methods are the actions or behaviors that an object can perform.\n",
    "\n",
    "An object is an instance of a class, and it contains its own data and methods. For example, you could create a class called \"Person\" that has properties such as name and age, and methods such as speak() and walk(). Each instance of the Person class would be a unique object with its own name and age, but they would all have the same methods to speak and walk.\n",
    "\n",
    "One of the key features of OOP in Python is encapsulation, which means that the internal state of an object is hidden and can only be accessed or modified through the object's methods. This helps to protect the object's data and prevent it from being modified in unexpected ways.\n",
    "\n",
    "Another key feature of OOP in Python is inheritance, which allows new classes to be created that inherit the properties and methods of an existing class. This allows for code reuse and makes it easy to create new classes that have similar functionality to existing classes.\n",
    "\n",
    "Polymorphism is also supported in Python, which means that objects of different classes can be treated as if they were objects of a common class. This allows for greater flexibility in code and makes it easier to write code that can work with multiple types of objects.\n",
    "\n",
    "In summary, OOP in Python allows developers to model real-world concepts and entities using classes and objects, encapsulate data, reuse code through inheritance, and write more flexible code through polymorphism.\n",
    "\n"
   ]
  },
  {
   "cell_type": "code",
   "execution_count": 29,
   "id": "f8ae1b32",
   "metadata": {},
   "outputs": [
    {
     "name": "stdout",
     "output_type": "stream",
     "text": [
      "hello\n"
     ]
    }
   ],
   "source": [
    "def hello():\n",
    "    print(\"hello\")\n",
    "hello()\n",
    "\n",
    "sales1 = 6000\n",
    "profit1 = 2000\n",
    "ad1 = 1000   \n",
    "#Satyam.sales\n",
    "\n",
    "sales2 = 6000\n",
    "profit2 = 2000\n",
    "ad2 = 1000\n",
    "#Himanshu.sales\n",
    "\n",
    "sales3 = 6000\n",
    "profit3 = 2000\n",
    "ad3 = 1000\n",
    "\n",
    "railwayform  #----> Class [blueprint: blueprint of an object is known as class]\n",
    "Satyam #---> It's a Form ---> [Entity]\n",
    "himanshu  #----> It's a Form  ----> Object[Entity] means instance of class\n",
    "priyanshu  #----. It's a Form ----> Object[Entity]\n",
    "#priyanshu.changeName(\"himanshu\")\n",
    "\n",
    "\n"
   ]
  },
  {
   "cell_type": "markdown",
   "id": "731e1496",
   "metadata": {},
   "source": [
    "# Class and Objects in Python"
   ]
  },
  {
   "cell_type": "markdown",
   "id": "7334d378",
   "metadata": {},
   "source": [
    "A Class is a blueprint or a template for creating objects, providing initial values for state (member variables or attributes), and implementations of behaviour (member functions or methods). The user- defined objects are reated using the class Keyword.\n",
    "\n"
   ]
  },
  {
   "cell_type": "code",
   "execution_count": 1,
   "id": "02851574",
   "metadata": {},
   "outputs": [
    {
     "name": "stdout",
     "output_type": "stream",
     "text": [
      "Satyam is a Software Developer\n",
      "Himanshu Software Developer\n"
     ]
    }
   ],
   "source": [
    "#Creating a Class\n",
    "\n",
    "class Person:\n",
    "    name = \"Satyam\"\n",
    "    Occupation = \"Software Developer\"\n",
    "    networth = 100\n",
    "    def info(self):\n",
    "        print(f\"{self.name} is a {self.Occupation}\")  #self means that object for which this method is being called.\n",
    "    \n",
    "a = Person()\n",
    "a.info()\n",
    "a.name = \"Himanshu\"\n",
    "a.occupation = \"Full-stack developer\"\n",
    "print(a.name, a.Occupation)\n"
   ]
  },
  {
   "cell_type": "markdown",
   "id": "8e0ae692",
   "metadata": {},
   "source": [
    "Self Parameter:-\n",
    "\n",
    "The Self parameter is a reference to the current instance of the class, and is used to aaccess variables that belongs to the class.\n",
    "\n",
    "It must be provided as the extra parameter inside the methods definition."
   ]
  },
  {
   "cell_type": "code",
   "execution_count": 9,
   "id": "98b8ebbb",
   "metadata": {},
   "outputs": [
    {
     "name": "stdout",
     "output_type": "stream",
     "text": [
      "My name is {'Satyam'} and I'm {20} years old.\n"
     ]
    }
   ],
   "source": [
    "class Details:   #invalid syntax error\n",
    "    name = \"Satyam\"\n",
    "    age = 20\n",
    "    \n",
    "    def desc(self):\n",
    "        print(\"My name is\",{self.name}, \"and I'm\", {self.age},\"years old.\")\n",
    "        \n",
    "obj = Details()\n",
    "obj.desc()"
   ]
  },
  {
   "cell_type": "code",
   "execution_count": 5,
   "id": "af2bdf7a",
   "metadata": {},
   "outputs": [
    {
     "name": "stdout",
     "output_type": "stream",
     "text": [
      "Himanshu is a Software Developer\n",
      "kanku is a HR\n",
      "Satyam is a SD\n"
     ]
    }
   ],
   "source": [
    "#Creating a Class\n",
    "\n",
    "class Person:\n",
    "    name = \"Satyam\"\n",
    "    Occupation = \"Software Developer\"\n",
    "    networth = 100\n",
    "    def info(self):\n",
    "        print(f\"{self.name} is a {self.Occupation}\")  #self means that object for which this method is being called.\n",
    "    \n",
    "a = Person()\n",
    "b = Person()\n",
    "c = Person()\n",
    "\n",
    "\n",
    "a.name = \"Himanshu\"\n",
    "a.occupation = \"Full-stack developer\"\n",
    "#print(a.name, a.Occupation)\n",
    "\n",
    "b.name =\"kanku\"\n",
    "b.Occupation = \"HR\"\n",
    "a.info()\n",
    "b.info()\n",
    "\n",
    "c.name = \"Satyam\"\n",
    "c.Occupation = \"SD\"\n",
    "c.info()\n",
    "\n",
    "\n",
    "\n",
    "\n",
    "\n"
   ]
  },
  {
   "cell_type": "markdown",
   "id": "be7b3769",
   "metadata": {},
   "source": [
    "# Constructors in Python"
   ]
  },
  {
   "cell_type": "markdown",
   "id": "ca194463",
   "metadata": {},
   "source": [
    "Constructors is a special method in a class used to create and initialize an object of a class. There are different types of Constructors. Constructor is invokes automatically when an object of a class is created.\n",
    "\n",
    "A constructor is a unique function that gets automatically when an object is created of a class. The main purpose of a constructor is to initialize or assign values to the data members of that class. It cannot return any value other than None.\n",
    "\n",
    "\n",
    "Syntax of Python Constructor\n",
    "\n",
    "def __init__(self):\n",
    "   #initializations\n",
    "   \n",
    "init is one of the reserved functions in Python. In Object Oriented programming, it is known as a constructor. "
   ]
  },
  {
   "cell_type": "code",
   "execution_count": 8,
   "id": "bd395601",
   "metadata": {},
   "outputs": [
    {
     "name": "stdout",
     "output_type": "stream",
     "text": [
      "Satyam\n",
      "Kanak is a HR\n"
     ]
    }
   ],
   "source": [
    "class Person:\n",
    "    name = \"Satyam\"\n",
    "    occ = \"Developer\"\n",
    "    \n",
    "    \n",
    "    def info(self):\n",
    "        print(f\"{self.name} is a {self.occ}\")\n",
    "        \n",
    "a = Person()\n",
    "print(a.name)\n",
    "a.name = \"Kanak\"\n",
    "a.occ = \"HR\"\n",
    "a.info()  #This is just for understanding purpose instead of creating this type of object we will just create a constructor.\n",
    "\n",
    "\n"
   ]
  },
  {
   "cell_type": "code",
   "execution_count": 1,
   "id": "587d676c",
   "metadata": {},
   "outputs": [
    {
     "name": "stdout",
     "output_type": "stream",
     "text": [
      "Satyam is a Developer\n",
      "Kanku is a HR\n"
     ]
    }
   ],
   "source": [
    "class Person:\n",
    "    def __init__(self, name, Occupation):  #this is parametrized Constuctor   #init is the reserved functions in python.\n",
    "        #print(\"hey I am a Person\")\n",
    "        self.name = name\n",
    "        self.Occupation = Occupation\n",
    "        \n",
    "        \n",
    "    def info(self):\n",
    "        print(f\"{self.name} is a {self.Occupation}\")\n",
    "         \n",
    "a = Person(\"Satyam\", \"Developer\")\n",
    "b = Person(\"Kanku\", \"HR\")\n",
    "#print(a.name)\n",
    "#a.name = \"kanku\"\n",
    "#a.Occupation = \"HR\"\n",
    "a.info()\n",
    "b.info()"
   ]
  },
  {
   "cell_type": "markdown",
   "id": "d44fdcaa",
   "metadata": {},
   "source": [
    "#Types of Constructors in Python\n",
    "\n",
    "1. parameterized Constructor\n",
    "2. Default Constructor"
   ]
  },
  {
   "cell_type": "markdown",
   "id": "81a426ce",
   "metadata": {},
   "source": [
    "#Parameterized Constructor in Python\n",
    "\n",
    "when the constructor accepts arguments along with self, it is known as parameterized  Constructor.\n",
    "\n",
    "These arguments can be used inside the class to assign the values to the data members."
   ]
  },
  {
   "cell_type": "code",
   "execution_count": 11,
   "id": "c7daa29b",
   "metadata": {},
   "outputs": [
    {
     "name": "stdout",
     "output_type": "stream",
     "text": [
      "Crab belongs to the Crustaceans group.\n"
     ]
    }
   ],
   "source": [
    "class Details:\n",
    "    def __init__(self, animal, group):  #this is called Parameterized Constructor\n",
    "        self.animal = animal\n",
    "        self.group = group\n",
    "\n",
    "obj1 = Details(\"Crab\", \"Crustaceans\")\n",
    "print(obj1.animal, \"belongs to the\", obj1.group, \"group.\")"
   ]
  },
  {
   "cell_type": "markdown",
   "id": "191a0e29",
   "metadata": {},
   "source": [
    "#Default Constructor in Python\n",
    "\n",
    "When the Constructor dosen't accept any arguments from the object and has only one argument, self, in the constructor, it is known as Default Constructor."
   ]
  },
  {
   "cell_type": "code",
   "execution_count": 2,
   "id": "0b7b2207",
   "metadata": {},
   "outputs": [
    {
     "name": "stdout",
     "output_type": "stream",
     "text": [
      "Himanshu and Satyam both will work together in a same company\n"
     ]
    }
   ],
   "source": [
    "class Details:\n",
    "  def __init__(self):\n",
    "    print(\"Himanshu and Satyam both will work together in a same company\")\n",
    "obj1=Details()"
   ]
  },
  {
   "cell_type": "markdown",
   "id": "ca2e5633",
   "metadata": {},
   "source": [
    "# Decorators in python"
   ]
  },
  {
   "cell_type": "markdown",
   "id": "294e7fa4",
   "metadata": {},
   "source": [
    "Python Decorators are a powerful and versatile tool that allow you to modify the behaviour of functions and methods. They are a way to extend the functionality of a function or method without modifying its source code.\n",
    "\n",
    "A Decorator is a function that takes another function as an argument and returns a new function that modifies the behavior of the original function. The new function is oftern referred to as a \"decorated\" function. The basic syntax for using a decorator is the following:\n",
    "\n",
    "@decorator_function\n",
    "def my_function():\n",
    "    pass\n",
    "    \n",
    " The @decorator_function notation is just a shorthand for the following code.\n",
    " \n",
    " def my_function():\n",
    "     pass\n",
    "my_function = decorator_function(my_function)\n",
    "\n",
    "Decorators are often used to add functionality to functions and methods, such as logging, memoization and access control"
   ]
  },
  {
   "cell_type": "code",
   "execution_count": 2,
   "id": "5b1b4926",
   "metadata": {},
   "outputs": [
    {
     "name": "stdout",
     "output_type": "stream",
     "text": [
      "Good Morning\n",
      "Hello World\n",
      "Thanks for using  this function\n"
     ]
    }
   ],
   "source": [
    "def greet(fx):\n",
    "    def mfx():\n",
    "        print(\"Good Morning\")\n",
    "        fx()\n",
    "        print(\"Thanks for using  this function\")\n",
    "    return mfx\n",
    "    \n",
    "@greet\n",
    "def hello():\n",
    "    print(\"Hello World\")\n",
    "    \n",
    "def add(a,b):\n",
    "    print(a+b)\n",
    "    \n",
    "    \n",
    "hello()\n",
    "\n",
    "def greet(fx):\n",
    "    def mfx():\n",
    "        print(\"Good morning\")\n",
    "        fx()\n",
    "        print(\"Thanks for using this function\")\n",
    "        return mfx\n",
    "    \n",
    "@greet\n",
    "def hello():\n",
    "    print(\"hello world\")\n",
    "    \n",
    "def add(a,b):\n",
    "    print(a+b)"
   ]
  },
  {
   "cell_type": "markdown",
   "id": "1bdbc223",
   "metadata": {},
   "source": [
    "Pracrical Use Case\n",
    "\n",
    "One common use of decorators is to add logging to a function. For example, you could use a decorator to log the arguments and return value of a function each time it is called:"
   ]
  },
  {
   "cell_type": "code",
   "execution_count": 13,
   "id": "abfbe9e5",
   "metadata": {},
   "outputs": [
    {
     "name": "stdout",
     "output_type": "stream",
     "text": [
      "Good Morning\n",
      "Hello World\n",
      "Thanks for using  this function\n",
      "Good Morning\n",
      "3\n",
      "Thanks for using  this function\n"
     ]
    }
   ],
   "source": [
    "def greet(fx):\n",
    "    def mfx(*args, **kwargs):\n",
    "        print(\"Good Morning\")\n",
    "        fx(*args, **kwargs)\n",
    "        print(\"Thanks for using  this function\")\n",
    "    return mfx\n",
    "    \n",
    "@greet\n",
    "def hello():\n",
    "    print(\"Hello World\")\n",
    "    \n",
    "@greet   \n",
    "def add(a, b):\n",
    "    print(a+b)\n",
    "    \n",
    "#greet(hello)()\n",
    "hello()\n",
    "#greet(add)(1, 2)\n",
    "add(1, 2)"
   ]
  },
  {
   "cell_type": "code",
   "execution_count": 2,
   "id": "83383ce0",
   "metadata": {},
   "outputs": [],
   "source": [
    "import logging\n",
    "\n",
    "def log_function_call(func):\n",
    "    def decorated(*args, **kwargs):  #*args: It is way in which you can take arguments as a Tuple. and **kwargs:It is a way in which you can take arguments as a Dictionaries that is in a key value pairs.\n",
    "        logging.info(f\"calling {func,__name__} with args={args}, kwargs={kwargs}\")\n",
    "        result = func(*args, **kwargs)\n",
    "        logging.info(f\"{func.__name__} returned {result}\")\n",
    "        return result\n",
    "    return decorated\n",
    "\n",
    "@log_function_call\n",
    "def my_function(a, b):\n",
    "    return a + b\n",
    "#In this example, the log_function_call decorator takes a function as an argument and returns a new function that logs the function call before and after the original function is called.\n"
   ]
  },
  {
   "cell_type": "markdown",
   "id": "7d39dc86",
   "metadata": {},
   "source": [
    "Conclusion: Decorators are a powerful and flexible feature in Python that can be used to add functionality to functions and methods without modifying their source code. They are a great tool for separating concerns, reducing code duplication, and making your code more readable and maintainable.\n",
    "\n",
    "In conclusion, python decorators are a way to extend the functionality of functions and methods, by modifying its behavior without modifying the source code. They are used for a variety of purposes, such as logging, memoization, access control, and more. They are a powerful tool that can be used to make your code more readable, maintainable, and extendable."
   ]
  },
  {
   "cell_type": "markdown",
   "id": "d48aa8d4",
   "metadata": {},
   "source": [
    "# Getters and Setters."
   ]
  },
  {
   "cell_type": "markdown",
   "id": "277d755d",
   "metadata": {},
   "source": [
    "Getters: Getters in Python are methods that are used to access the values of an object's properties. They are used to return the value of a specific property, and are typically defined using the @property decorator. Here is an example of a simple class with a getter method:"
   ]
  },
  {
   "cell_type": "code",
   "execution_count": 3,
   "id": "fa9c7655",
   "metadata": {},
   "outputs": [
    {
     "name": "stdout",
     "output_type": "stream",
     "text": [
      "1000\n",
      "Value is 100\n"
     ]
    }
   ],
   "source": [
    "class MyClass:\n",
    "    def __init__(self, value):\n",
    "        self._value = value\n",
    "        \n",
    "    def show(self):\n",
    "        print(f\"Value is {self._value}\")\n",
    "\n",
    "    @property\n",
    "    def ten_value(self):\n",
    "        return 10* self._value\n",
    "    \n",
    "obj = MyClass(100)\n",
    "print(obj.ten_value)   #it will act like a getter...\n",
    "obj.show()"
   ]
  },
  {
   "cell_type": "markdown",
   "id": "70b30335",
   "metadata": {},
   "source": [
    "In this example, the MyClass class has a single property, _value, which is initialized in the init method. The value method is defined as a getter using the @property decorator, and is used to return the value of the _value property.\n",
    "\n",
    "To use the getter, we can create an instance of the MyClass class, and then access the value property as if it were an attribute:"
   ]
  },
  {
   "cell_type": "code",
   "execution_count": 7,
   "id": "cac0ba61",
   "metadata": {},
   "outputs": [
    {
     "name": "stdout",
     "output_type": "stream",
     "text": [
      "10\n"
     ]
    }
   ],
   "source": [
    "class MyClass:\n",
    "    def __init__(self, value):\n",
    "        self._value = value\n",
    "\n",
    "    @property\n",
    "    def value(self):\n",
    "        return self._value\n",
    "    \n",
    "    \n",
    "obj = MyClass(10)\n",
    "print(obj.value)\n",
    "\n",
    "\n"
   ]
  },
  {
   "cell_type": "markdown",
   "id": "b704065c",
   "metadata": {},
   "source": [
    "Setters: It is important to note that the getters do not take any parameters and we cannot set the value through getter method. For that we need setter method which can be added by decorating method with @property_name.setter\n",
    "\n"
   ]
  },
  {
   "cell_type": "code",
   "execution_count": 18,
   "id": "87203726",
   "metadata": {},
   "outputs": [
    {
     "name": "stdout",
     "output_type": "stream",
     "text": [
      "67.0\n",
      "Value is 6.7\n"
     ]
    }
   ],
   "source": [
    "class MyClass:  #example of a class with both getter and setter.\n",
    "    def __init__(self, value):\n",
    "        self._value = value\n",
    "        \n",
    "    def show(self):  #setter\n",
    "        print(f\"Value is {self._value}\")\n",
    "\n",
    "    @property\n",
    "    def ten_value(self):\n",
    "        return 10* self._value\n",
    "    \n",
    "    @ten_value.setter\n",
    "    def ten_value(self, new_value):\n",
    "        self._value = new_value/10\n",
    "    \n",
    "obj = MyClass(10)\n",
    "obj.ten_value = 67\n",
    "print(obj.ten_value)\n",
    "obj.show()"
   ]
  },
  {
   "cell_type": "code",
   "execution_count": null,
   "id": "e9133217",
   "metadata": {},
   "outputs": [],
   "source": [
    "class MyClass:\n",
    "    def __init__(self, value):\n",
    "        self._value = value\n",
    "\n",
    "    @property\n",
    "    def value(self):\n",
    "        return self._value\n",
    "\n",
    "    @value.setter\n",
    "    def value(self, new_value):\n",
    "        self._value = new_value\n",
    "        \n",
    "        \n",
    "obj = MyClass(10)  #we can use setter like this..\n",
    "obj.value = 20\n",
    "obj.value\n",
    "20\n",
    "\n",
    "#In conclusion, getters are a convenient way to access the values of an object's properties, while keeping the internal representation of the property hidden. This can be useful for encapsulation and data validation."
   ]
  },
  {
   "cell_type": "markdown",
   "id": "70db2ee3",
   "metadata": {},
   "source": [
    "# Inheritance in Python"
   ]
  },
  {
   "cell_type": "markdown",
   "id": "b7d2ac08",
   "metadata": {},
   "source": [
    "When a class derives from another class. The child class will inherit all the public and protected properties and methods from the parent class. In addition, it can have its own properties and methods,this is called as inheritance. or\n",
    "\n",
    "Inheritance allows us to define a class that inherits all the methods and properties from another class.\n",
    "Parent class : It is the class being inherited from, also called as base Class.\n",
    "Child Class: It is the class that inherits from another class, also called derived class."
   ]
  },
  {
   "cell_type": "code",
   "execution_count": 13,
   "id": "88e3be57",
   "metadata": {},
   "outputs": [
    {
     "name": "stdout",
     "output_type": "stream",
     "text": [
      "The name of Employee: 502 is Satyam prasad\n",
      "The name of Employee: 5025 is Himangshu Das\n",
      "The default language is Python\n"
     ]
    }
   ],
   "source": [
    "class Employee:\n",
    "    def __init__(self, name, id):\n",
    "        self.name = name\n",
    "        self.id = id\n",
    "        \n",
    "    def showDetails(self):\n",
    "        print(f\"The name of Employee: {self.id} is {self.name}\")\n",
    "        \n",
    "class programmer(Employee):  #this is the inheritance.... \n",
    "    def showlanguage(self):\n",
    "        print(\"The default language is Python\")\n",
    "        \n",
    "e1 = Employee(\"Satyam prasad\", 502)\n",
    "e1.showDetails()\n",
    "e2 = programmer(\"Himangshu Das\", 5025)\n",
    "e2.showDetails()\n",
    "e2.showlanguage()"
   ]
  },
  {
   "cell_type": "raw",
   "id": "7c2d8a2c",
   "metadata": {},
   "source": [
    "#Types of Inheritance:\n",
    "\n",
    "1. Single Inheritance\n",
    "2. Multiple Inheritance\n",
    "3. Multilevel Inheritance\n",
    "4. Hierarchical Inheritance\n",
    "5. Hybrid Inheritance"
   ]
  },
  {
   "cell_type": "markdown",
   "id": "7f7bf0eb",
   "metadata": {},
   "source": [
    "# Access Specifiers/ Modifiers."
   ]
  },
  {
   "cell_type": "markdown",
   "id": "64102f32",
   "metadata": {},
   "source": [
    "Access specifiers or Access Modifiers in python programming are used to limit the access of class variables and class methods outside of class while implementing the concepts of inheritance.\n",
    "\n",
    "Let us see the each one of access specifiers in detail:\n",
    "\n",
    "Types of Access Specifiers:\n",
    "\n",
    "1. Public Access Modifier\n",
    "2. Private Access modifier\n",
    "3. Protected Access Modifier"
   ]
  },
  {
   "cell_type": "markdown",
   "id": "3491238e",
   "metadata": {},
   "source": [
    "1.  Public Access Specifier in Python: All the variables and methods(member funciton) in python are by default public. Any instance variable in a class follower by the 'self keyword ie. self.var_name are public accessed."
   ]
  },
  {
   "cell_type": "code",
   "execution_count": 3,
   "id": "f6fea5b3",
   "metadata": {},
   "outputs": [
    {
     "name": "stdout",
     "output_type": "stream",
     "text": [
      "Satyam lives in Jamui\n"
     ]
    }
   ],
   "source": [
    "class Employee:\n",
    "    def __init__(self):  \n",
    "        self.name = \"Satyam lives in Jamui\"  #This is public access specifier...\n",
    "        \n",
    "a = Employee()\n",
    "print(a.name)"
   ]
  },
  {
   "cell_type": "code",
   "execution_count": 5,
   "id": "aaa304b4",
   "metadata": {},
   "outputs": [
    {
     "name": "stdout",
     "output_type": "stream",
     "text": [
      "21\n",
      "Satyam\n"
     ]
    }
   ],
   "source": [
    "class student:\n",
    "    #Constructor is defined.\n",
    "    def __init__(self, age, name):\n",
    "        self.age = age   #public variable\n",
    "        self.name = name  #public variable.\n",
    "        \n",
    "obj = student(21, \"Satyam\")\n",
    "print(obj.age)\n",
    "print(obj.name)"
   ]
  },
  {
   "cell_type": "markdown",
   "id": "9815a60e",
   "metadata": {},
   "source": [
    "2. Private Access Modifier: Private members of a class(variables or methods) are those members which are only accessible inside the class. We cannot use private members outside the class.\n",
    "\n",
    "\n",
    "In python, there is no strict concept of \"private\" access modifiers like in some other programming languages. However, a convention has been established to indicate that a variable or method should be considered private by prefixing its name with an underscore (_). This is known as a \"weak internal use indicate\" and it is a convention only, not a strict rule. Code outside the class can still access these \"private\" variables and methods, but it is generally uderstood that they should not be accessed or modified."
   ]
  },
  {
   "cell_type": "code",
   "execution_count": 8,
   "id": "cd49c758",
   "metadata": {},
   "outputs": [
    {
     "name": "stdout",
     "output_type": "stream",
     "text": [
      "Satyam lives in Jamui\n",
      "['_Employee__name', '__module__', '__init__', '__dict__', '__weakref__', '__doc__', '__new__', '__repr__', '__hash__', '__str__', '__getattribute__', '__setattr__', '__delattr__', '__lt__', '__le__', '__eq__', '__ne__', '__gt__', '__ge__', '__reduce_ex__', '__reduce__', '__subclasshook__', '__init_subclass__', '__format__', '__sizeof__', '__dir__', '__class__']\n"
     ]
    }
   ],
   "source": [
    "class Employee:\n",
    "    def __init__(self):\n",
    "        self.__name = \"Satyam lives in Jamui\"\n",
    "        \n",
    "a = Employee()\n",
    "#print(a.__name) #cannot be accessed directly\n",
    "print(a._Employee__name) #can be accessed indirectly\n",
    "print(a.__dir__())"
   ]
  },
  {
   "cell_type": "code",
   "execution_count": 13,
   "id": "5ede7b91",
   "metadata": {},
   "outputs": [
    {
     "ename": "AttributeError",
     "evalue": "type object 'Subject' has no attribute '__age'",
     "output_type": "error",
     "traceback": [
      "\u001b[1;31m---------------------------------------------------------------------------\u001b[0m",
      "\u001b[1;31mAttributeError\u001b[0m                            Traceback (most recent call last)",
      "Cell \u001b[1;32mIn[13], line 20\u001b[0m\n\u001b[0;32m     13\u001b[0m obj1 \u001b[38;5;241m=\u001b[39m Subject\n\u001b[0;32m     15\u001b[0m \u001b[38;5;66;03m#Calling by object of class Student\u001b[39;00m\n\u001b[0;32m     16\u001b[0m \u001b[38;5;66;03m#print(obj.__age)\u001b[39;00m\n\u001b[0;32m     17\u001b[0m \u001b[38;5;66;03m#print(obj.__funName())\u001b[39;00m\n\u001b[0;32m     18\u001b[0m \n\u001b[0;32m     19\u001b[0m \u001b[38;5;66;03m#Calling by object of class Subject\u001b[39;00m\n\u001b[1;32m---> 20\u001b[0m \u001b[38;5;28mprint\u001b[39m(\u001b[43mobj1\u001b[49m\u001b[38;5;241;43m.\u001b[39;49m\u001b[43m__age\u001b[49m())\n\u001b[0;32m     21\u001b[0m \u001b[38;5;28mprint\u001b[39m(obj1\u001b[38;5;241m.\u001b[39m__funName())\n",
      "\u001b[1;31mAttributeError\u001b[0m: type object 'Subject' has no attribute '__age'"
     ]
    }
   ],
   "source": [
    "class Student:\n",
    "    def __init__(self, age, name):\n",
    "        self.__age = age #An indication of private variable\n",
    "        \n",
    "        def __funName(self): #An indication of private function\n",
    "            self.y = 21\n",
    "            print(self.y)\n",
    "            \n",
    "class Subject(Student):\n",
    "    pass\n",
    "\n",
    "obj1 = Student(21,\"Satyam\")\n",
    "obj1 = Subject\n",
    "\n",
    "#Calling by object of class Student\n",
    "print(obj.__age)\n",
    "print(obj.__funName())\n",
    "\n",
    "#Calling by object of class Subject\n",
    "print(obj1.__age())\n",
    "print(obj1.__funName())\n",
    "\n",
    "\n",
    "#Private members of a class cannot be accessed or inherited outside of class. If we try to access or to inherit the\n",
    "#properties of private members to child class(derived class), Then it will show the error."
   ]
  },
  {
   "cell_type": "markdown",
   "id": "f3b897f9",
   "metadata": {},
   "source": [
    "#Name Mangling:  Name Mangling in python is a technique used to protect class - private attributes from being accidentally overwritten by subclasses. Names of class-private and superclass-private attributes are transformed by the addition of a single leading underscore and a double leading underscore respectively."
   ]
  },
  {
   "cell_type": "code",
   "execution_count": 10,
   "id": "2a20f5fc",
   "metadata": {},
   "outputs": [
    {
     "name": "stdout",
     "output_type": "stream",
     "text": [
      "I am a private attribute\n",
      "i am a mangled attribute\n"
     ]
    }
   ],
   "source": [
    "class MyClass:\n",
    "    def __init__(self):\n",
    "        self._private_attribute = \"I am a private attribute\"\n",
    "        self.__mangled_attribute = \"i am a mangled attribute\" #If we use doble underscore than it is a Mangled Attribute.\n",
    "\n",
    "my_object = MyClass()\n",
    "\n",
    "print(my_object._private_attribute) #Output: I am a private attribute\n",
    "#print(my_object.__mangled_attribute) #throws an Attribute Error\n",
    "print(my_object._MyClass__mangled_attribute) #Output: I am a mangled attribute"
   ]
  },
  {
   "cell_type": "markdown",
   "id": "fd8e5d4b",
   "metadata": {},
   "source": [
    "3. Protected Access Modifier: In (OOPs) the term \"protected\" is used to describe a member (i.e, a method or attribute) of a class that is intended to be accessed only by the class itself and its subclasses. In python, the convention for indicating that a member is protected is to prefix its name with a single underscore(_). For example, if a class has a method called _my_method, it is indicating that the meethod should only be accessed by the class itself and its subclasses.\n",
    "\n",
    "\n",
    "**It is important to not that the single underscore is just a naming convention, and does not actually provide any protection or restrict access to the member. The syntax we follow to make any vatiable protected is to write variable name followed by a single underscore (_) i.e, _varName."
   ]
  },
  {
   "cell_type": "code",
   "execution_count": 20,
   "id": "625d9a8a",
   "metadata": {},
   "outputs": [
    {
     "name": "stdout",
     "output_type": "stream",
     "text": [
      "Satyam\n"
     ]
    },
    {
     "ename": "AttributeError",
     "evalue": "'Student' object has no attribute '_funName'",
     "output_type": "error",
     "traceback": [
      "\u001b[1;31m---------------------------------------------------------------------------\u001b[0m",
      "\u001b[1;31mAttributeError\u001b[0m                            Traceback (most recent call last)",
      "Cell \u001b[1;32mIn[20], line 21\u001b[0m\n\u001b[0;32m     19\u001b[0m \u001b[38;5;66;03m#Calling by object of class Student\u001b[39;00m\n\u001b[0;32m     20\u001b[0m \u001b[38;5;28mprint\u001b[39m(obj\u001b[38;5;241m.\u001b[39m_name)\n\u001b[1;32m---> 21\u001b[0m \u001b[38;5;28mprint\u001b[39m(\u001b[43mobj\u001b[49m\u001b[38;5;241;43m.\u001b[39;49m\u001b[43m_funName\u001b[49m())\n\u001b[0;32m     23\u001b[0m \u001b[38;5;66;03m#Calling by object of class Subject\u001b[39;00m\n\u001b[0;32m     24\u001b[0m \u001b[38;5;28mprint\u001b[39m(obj1\u001b[38;5;241m.\u001b[39m_name)\n",
      "\u001b[1;31mAttributeError\u001b[0m: 'Student' object has no attribute '_funName'"
     ]
    }
   ],
   "source": [
    "class Student:\n",
    "    def __init__(self):\n",
    "        self._name = \"Satyam\"\n",
    "        \n",
    "        def __funName(self): # protected method\n",
    "            return \"Sammy is a good coder\"\n",
    "            \n",
    "            \n",
    "class Subject(Student):  #inherited class\n",
    "    pass\n",
    "\n",
    "obj = Student()\n",
    "obj1 = Subject()\n",
    "\n",
    "#Calling by object of class Student\n",
    "print(obj._name)\n",
    "print(obj._funName())\n",
    "\n",
    "#Calling by object of class Subject\n",
    "print(obj1._name)\n",
    "print(obj1._funName())\n",
    "\n",
    "\n",
    "#Private members of a class cannot be accessed or inherited outside of class. If we try to access or to inherit the\n",
    "#properties of private members to child class(derived class), Then it will show the error."
   ]
  },
  {
   "cell_type": "markdown",
   "id": "822f4e24",
   "metadata": {},
   "source": [
    "# Static Methods in Python"
   ]
  },
  {
   "cell_type": "markdown",
   "id": "0f557e14",
   "metadata": {},
   "source": [
    "Static methods in Python are methods that belong to a class rather than an instance of the class. They are defined using the @staticmethod decorator and do not have access to the instance of the class (i.e. self). They are called on the class itself, not on an instance of the class. Static methods are often used to create utility functions that don't need access to instance data."
   ]
  },
  {
   "cell_type": "code",
   "execution_count": 2,
   "id": "4e4cf804",
   "metadata": {},
   "outputs": [
    {
     "name": "stdout",
     "output_type": "stream",
     "text": [
      "5\n",
      "11\n"
     ]
    }
   ],
   "source": [
    "class Math:\n",
    "    def __init__(self, num):\n",
    "        self.num = num\n",
    "        \n",
    "    def addtonum(self, n):   #This is an Instance Method.\n",
    "        self.num = self.num  +n\n",
    "    \n",
    "    \n",
    "    \n",
    "    \n",
    "    @staticmethod  #The add method is a static method of the Math Class.\n",
    "    def add(a, b):\n",
    "        return a + b\n",
    "#result = Math.add(1,2)\n",
    "#print(result)\n",
    "a = Math(5)\n",
    "print(a.num)\n",
    "a.addtonum(6)\n",
    "print(a.num)\n",
    "\n"
   ]
  },
  {
   "cell_type": "markdown",
   "id": "8e40d76f",
   "metadata": {},
   "source": [
    "# Instance vs Class Variable"
   ]
  },
  {
   "cell_type": "markdown",
   "id": "06b62a67",
   "metadata": {},
   "source": [
    "In Python, variables can be defined at the class level or at the instance level. Understanding the difference between these type of variables is crucial for writing efficient and maintainable code.\n",
    "\n",
    "#Instance- An individual object of a certain class. An object obj that belongs to a class circle, for example, is an instance of the class Circle.\n",
    "\n",
    "#Method - A special kind of function that is defined in a class definition.\n",
    "\n",
    "\n",
    "#Class Variables- Class variables are defined at the class level and are shared among all instance of the class. They are defined outside of any method and are usually used to store information that is common to all instance of the class. For example, a class variable can be used to store the number of instances of a class that have been created.\n",
    "\n",
    "\n"
   ]
  },
  {
   "cell_type": "code",
   "execution_count": 3,
   "id": "8102dbe7",
   "metadata": {},
   "outputs": [
    {
     "name": "stdout",
     "output_type": "stream",
     "text": [
      "The name of the Employee is Satyam and the raise amount in 1 sized Apple India is 0.3\n",
      "Apple\n",
      "The name of the Employee is Himanshu and the raise amount in 2 sized Nestle is 0.02\n"
     ]
    }
   ],
   "source": [
    "class Employee:\n",
    "    companyName = \"Apple\"  #This is associated with class, so it is a class variable.\n",
    "    noOfEmployees = 0\n",
    "    def __init__(self, name):\n",
    "        self.name = name  #This is associated with instance, sso it is a instance variable.\n",
    "        self.raise_amount = 0.02\n",
    "        Employee.noOfEmployees +=1\n",
    "        \n",
    "    def showDetails(self):\n",
    "        print(f\"The name of the Employee is {self.name} and the raise amount in {self.noOfEmployees} sized {self.companyName} is {self.raise_amount}\")\n",
    "\n",
    "#Employee.showDetails(emp1)\n",
    "emp1 = Employee(\"Satyam\")\n",
    "emp1.raise_amount = 0.3   #this is associated with Instance\n",
    "emp1.companyName = \"Apple India\"\n",
    "emp1.showDetails()\n",
    "Employee.CompanyName = \"Google\"\n",
    "print(Employee.companyName)\n",
    "\n",
    "\n",
    "emp2 = Employee(\"Himanshu\")\n",
    "emp2.companyName = \"Nestle\"\n",
    "emp2.showDetails()\n",
    "\n",
    "\n",
    "\n"
   ]
  },
  {
   "cell_type": "code",
   "execution_count": null,
   "id": "3c002a21",
   "metadata": {},
   "outputs": [],
   "source": [
    "class MyClass:\n",
    "    class_variable = 0\n",
    "    \n",
    "    def __init__(self):\n",
    "        MyClass.class_variable += 1\n",
    "        \n",
    "    def print_class_variable(self):\n",
    "        print(MyClass.class_variable)\n",
    "        \n",
    "\n",
    "obj1 = MyClass()\n",
    "obj2 = MyClass()\n",
    "\n",
    "obj1.print_class_variable() # Output: 2\n",
    "obj2.print_class_variable() # Output: 2\n",
    "\n",
    "#In the example above, the class_variable is shared among all instances of the class MyClass. When we create new instances\n",
    "#of MyClass, the value of class_variable is incremented. When we call the print_class_variable method on obj1 and obj2,\n",
    "#we get the same value of class_variable.\n",
    "\n"
   ]
  },
  {
   "cell_type": "markdown",
   "id": "c58b4360",
   "metadata": {},
   "source": [
    "#Instance variables: Instance variables are defined at the instance level and are unique to each instance of the class. They are defined inside the init method and are usually used to store information that is specific to each instance of the class. For example, an instance variable can be used to store the name of an employee in a class that represents an employee."
   ]
  },
  {
   "cell_type": "code",
   "execution_count": 16,
   "id": "79f29116",
   "metadata": {},
   "outputs": [
    {
     "name": "stdout",
     "output_type": "stream",
     "text": [
      "John\n",
      "Jane\n"
     ]
    }
   ],
   "source": [
    "class MyClass:\n",
    "    def __init__(self, name):\n",
    "        self.name = name\n",
    "        \n",
    "    def print_name(self):\n",
    "        print(self.name)\n",
    "\n",
    "obj1 = MyClass(\"John\")\n",
    "obj2 = MyClass(\"Jane\")\n",
    "\n",
    "obj1.print_name() # Output: John\n",
    "obj2.print_name() # Output: Jane\n",
    "\n",
    "#In the example above, each instance of the class MyClass has its own value for the name variable. When we call the\n",
    "#print_name method on obj1 and obj2, we get different values for name."
   ]
  },
  {
   "cell_type": "markdown",
   "id": "3cc664c9",
   "metadata": {},
   "source": [
    "#Summary\n",
    "\n",
    "In summary, class variables are shared among all instances of a class and are used to store information that is common to all instances. Instance variables are unique to each instance of a class and are used to store information that is specific to each instance. Understanding the difference between class variables and instance variables is crucial for writing efficient and maintainable code in Python.\n",
    "\n",
    "It's also worth noting that, in python, class variables are defined outside of any methods and don't need to be explicitly declared as class variable. They are defined in the class level and can be accessed via classname.varibale_name or self.class.variable_name. But instance variables are defined inside the methods and need to be explicitly declared as instance variable by using self.variable_name."
   ]
  },
  {
   "cell_type": "markdown",
   "id": "3b7bc111",
   "metadata": {},
   "source": [
    "# Class Methods in Python."
   ]
  },
  {
   "cell_type": "markdown",
   "id": "4e546eca",
   "metadata": {},
   "source": [
    "Python Class Methods: An Introduction:\n",
    "In python, classes are a way to define custom data types that can store data and define functions that can manipulate that data. One type of function that can be defined within a class is called a \"method\". \n",
    "\n",
    "What are Python Class Methods?\n",
    "\n",
    "Class methods are useful in several situations. For example, you might want to create a factory method that creates instances of your class in a specific way. You could define a class method that creates the instance and returns it to the caller. Another common use case is to provide alternative constructors for your class. This can be useful if you want to create instances of your class in multiple ways, but still have a consistent interface for doing so."
   ]
  },
  {
   "cell_type": "markdown",
   "id": "4357658e",
   "metadata": {},
   "source": [
    "How to use Python Class Methods\n",
    "\n",
    "To define a class method, you simply use the \"@classmethod\" decorator before the method definition. The first argument of the method should always be \"cls,\" which represents the class itself. Here is an example of how to define a class method:"
   ]
  },
  {
   "cell_type": "code",
   "execution_count": 10,
   "id": "7fb38b79",
   "metadata": {},
   "outputs": [
    {
     "name": "stdout",
     "output_type": "stream",
     "text": [
      "The name is Satyam and company is Apple\n",
      "The name is Satyam and company is tesla\n",
      "tesla\n"
     ]
    }
   ],
   "source": [
    "class  Employee:\n",
    "    company = \"Apple\"\n",
    "    def show(self):\n",
    "        print(f\"The name is {self.name} and company is {self.company}\")\n",
    "        \n",
    "        \n",
    "    @classmethod #decorators.  To define a class method, we use the @classmethod decorator before the definiton.     \n",
    "    def changeCompany(cls, newCompany):\n",
    "              cls.company = newCompany\n",
    "              \n",
    "e1 = Employee()\n",
    "e1.name = \"Satyam\"\n",
    "e1.show()\n",
    "e1.changeCompany(\"tesla\")\n",
    "e1.show()\n",
    "print(Employee.company)"
   ]
  },
  {
   "cell_type": "markdown",
   "id": "bf331977",
   "metadata": {},
   "source": [
    "Conclusion:\n",
    "\n",
    "Python class methods are a powerful tool for defining functions that operate on the class as a whole, rather than on a specific instance of the class. They are useful for creating factory methods, alternative constructors, and other types of methods that operate at the class level. With the knowledge of how to define and use class methods, you can start writing more complex and organized code in Python."
   ]
  },
  {
   "cell_type": "markdown",
   "id": "8b5c1886",
   "metadata": {},
   "source": [
    "# Class Methods as Alternative Constructors in Python.   "
   ]
  },
  {
   "cell_type": "markdown",
   "id": "b04cbbf2",
   "metadata": {},
   "source": [
    "#In OOPs the term \"constructor\" refers to a special type of method that is automatically executed when an object is created from a class. The purpose of a constructor is to initialize the object's attributes, allowing the object to be fully funcitonal and ready to use.\n",
    "\n",
    "A class method belongs to the class rather than to an instance of the class. One common use case for class methods as alternative constructors is when you want to ceate an object from data that is stored in a different format, such as a string or a dictionary. For example Consider a class named \"person\" that has two attributes: \"name\" and \"age\". The default constructor for the class might look like:"
   ]
  },
  {
   "cell_type": "code",
   "execution_count": 2,
   "id": "accd447c",
   "metadata": {},
   "outputs": [
    {
     "name": "stdout",
     "output_type": "stream",
     "text": [
      "Satyam  21\n"
     ]
    }
   ],
   "source": [
    "class Person:\n",
    "    def __init__(self, name, age):\n",
    "        self.name = name\n",
    "        self.age = age\n",
    "        \n",
    "        \n",
    "#But what if you want to create a Person object from a string that contains the person's name and age, separated by a comma?\n",
    "#You can define a class method named \"from_string\" to do this: \n",
    "\n",
    "    @classmethod  #this is a decorator and it direct changes the methd to class\n",
    "    def from_string(cls, string):  #from_string is an alternative Constructor used in a class method.\n",
    "        name, age = string.split(',')\n",
    "        return cls(name, age)\n",
    "\n",
    "string = \"Satyam, 21\"\n",
    "person = Person.from_string(string)  #Now you can create a person object like this.\n",
    "print(person.name, person.age)"
   ]
  },
  {
   "cell_type": "code",
   "execution_count": 9,
   "id": "fa3d87a0",
   "metadata": {},
   "outputs": [
    {
     "name": "stdout",
     "output_type": "stream",
     "text": [
      "Satyam\n",
      "120000\n",
      "Himanshu\n",
      "120000\n"
     ]
    }
   ],
   "source": [
    "class Employee:\n",
    "    def __init__(self, name, salary):\n",
    "        self.name = name\n",
    "        self.salary = salary\n",
    "        \n",
    "        \n",
    "    @classmethod  #This is how class methods is used as a Constructor.\n",
    "    def fromStr(cls, string):\n",
    "        return cls(string.split(\"-\")[0], int(string.split(\"-\")[1]))  #we have to put all the messy cod inside a class so that it work over a whole class of that program.\n",
    "        \n",
    "e1 = Employee(\"Satyam\", 120000)\n",
    "print(e1.name)\n",
    "print(e1.salary)\n",
    "\n",
    "string = \"Himanshu-120000\"  \n",
    "e2 = Employee.fromStr(string)\n",
    "print(e2.name)\n",
    "print(e2.salary)"
   ]
  },
  {
   "cell_type": "markdown",
   "id": "2f08f77c",
   "metadata": {},
   "source": [
    "Another common use case for class methods as alternative constructor is when you want to create an object with a different set of default values than what is provided by the default constructor. For example, consdier a class named \"Rectangle\" that has two attributes: \"Width\" and \"height\". The default constructor for the class might look like this:\n"
   ]
  },
  {
   "cell_type": "code",
   "execution_count": 8,
   "id": "caa54fe3",
   "metadata": {},
   "outputs": [
    {
     "name": "stdout",
     "output_type": "stream",
     "text": [
      "width 10\n",
      "height 10\n"
     ]
    }
   ],
   "source": [
    "class Rectangle:\n",
    "    def __init__(self, width, height):\n",
    "        self.width = width\n",
    "        self.height = height\n",
    "#But what if you want to create a Rectangle object with a default width of 10 and a default height of 5? You can define a class method named \"square\" to do this:  \n",
    "    @classmethod\n",
    "    def square(cls,size):\n",
    "        return cls(size, size)\n",
    "\n",
    "width = 10\n",
    "height = 10\n",
    "rectangle = Rectangle.square(10)\n",
    "print(\"width\", rectangle.width)\n",
    "print(\"height\", rectangle.height)\n",
    "\n",
    "        "
   ]
  },
  {
   "cell_type": "markdown",
   "id": "3cb59cbc",
   "metadata": {},
   "source": [
    "#  dir(), __dict__ and help() methods in Python."
   ]
  },
  {
   "cell_type": "markdown",
   "id": "b0e9a486",
   "metadata": {},
   "source": [
    "We must look into dir(), __dict__() and help() attribute/methods in python. They make it easy for us to understand how classes resolve various functions and executes code. In Python, there are three built-in functions that are commonly used to get information about objects: dir(), dict, and help(). Let's take a look at each of them:\n",
    "\n",
    "\n",
    "1. The dir() method:\n",
    "dir(): The dir() functions returns a list of all the attributes and methods (including dunder methods) available for an object. It is a useful tool for discob=vering what you can do with an object."
   ]
  },
  {
   "cell_type": "code",
   "execution_count": 13,
   "id": "34e9a1a8",
   "metadata": {},
   "outputs": [
    {
     "name": "stdout",
     "output_type": "stream",
     "text": [
      "['__add__', '__class__', '__class_getitem__', '__contains__', '__delattr__', '__delitem__', '__dir__', '__doc__', '__eq__', '__format__', '__ge__', '__getattribute__', '__getitem__', '__gt__', '__hash__', '__iadd__', '__imul__', '__init__', '__init_subclass__', '__iter__', '__le__', '__len__', '__lt__', '__mul__', '__ne__', '__new__', '__reduce__', '__reduce_ex__', '__repr__', '__reversed__', '__rmul__', '__setattr__', '__setitem__', '__sizeof__', '__str__', '__subclasshook__', 'append', 'clear', 'copy', 'count', 'extend', 'index', 'insert', 'pop', 'remove', 'reverse', 'sort']\n",
      "<method-wrapper '__add__' of list object at 0x0000027A097EEB00>\n"
     ]
    }
   ],
   "source": [
    "x = [1, 2, 3]\n",
    "print(dir(x))  #here we can see the methods and attributes we can use to solve the list problems\n",
    "print(x.__add__)\n",
    "\n",
    "\n",
    "#['__add__', '__class__', '__contains__', '__delattr__', '__delitem__', '__dir__', '__doc__', '__eq__', '__format__', '__ge__', '__getattribute__', '__getitem__', '__gt__', '__hash__', '__iadd__', '__imul__', '__init__', '__init_subclass__', '__iter__', '__le__', '__len__', '__lt__', '__mul__', '__ne__', '__new__', '__reduce__', '__reduce_ex__', '__repr__', '__reversed__', '__rmul__', '__setattr__', '__setitem__', '__sizeof__', '__str__', '__subclasshook__', 'append', 'clear', 'copy', 'count', 'extend', 'index', 'insert', 'pop', 'remove', 'reverse', 'sort']"
   ]
  },
  {
   "cell_type": "markdown",
   "id": "f625ee89",
   "metadata": {},
   "source": [
    "2. The __dict__ attribute: The __dict attribute returns a dictionary representation of an object's attributes. It is a useful tool for Introspection. Example:\n"
   ]
  },
  {
   "cell_type": "code",
   "execution_count": 18,
   "id": "41d73be1",
   "metadata": {},
   "outputs": [
    {
     "name": "stdout",
     "output_type": "stream",
     "text": [
      "{'name': 'Satyam', 'age': 21, 'version': 1, 'satyam': 2}\n"
     ]
    }
   ],
   "source": [
    " class Person:\n",
    "        def __init__(self, name, age):\n",
    "            self.name = name  #The attributes which we have set in a class, we'll get output as a dictionary in a key value pairs.\n",
    "            self.age = age\n",
    "            self.version = 1\n",
    "           \n",
    "            \n",
    "p = Person(\"Satyam\", 21)\n",
    "print(p.__dict__)"
   ]
  },
  {
   "cell_type": "markdown",
   "id": "12b60a41",
   "metadata": {},
   "source": [
    "3. The help() method: The help() function is used to get help documentation for an object, including a description of its attributes and methods. Example,\n",
    "\n",
    "\n",
    "In conclusion, dir(), dict, and help() are useful built-in functions in Python that can be used to get information about objects. They are valuable tools for introspection and discovery."
   ]
  },
  {
   "cell_type": "code",
   "execution_count": 21,
   "id": "fae2c240",
   "metadata": {},
   "outputs": [
    {
     "name": "stdout",
     "output_type": "stream",
     "text": [
      "{'name': 'Satyam', 'age': 21, 'version': 1}\n",
      "Help on Person in module __main__ object:\n",
      "\n",
      "class Person(builtins.object)\n",
      " |  Person(name, age)\n",
      " |  \n",
      " |  Methods defined here:\n",
      " |  \n",
      " |  __init__(self, name, age)\n",
      " |  \n",
      " |  ----------------------------------------------------------------------\n",
      " |  Class methods defined here:\n",
      " |  \n",
      " |  from_string(string) from builtins.type\n",
      " |  \n",
      " |  ----------------------------------------------------------------------\n",
      " |  Data descriptors defined here:\n",
      " |  \n",
      " |  __dict__\n",
      " |      dictionary for instance variables (if defined)\n",
      " |  \n",
      " |  __weakref__\n",
      " |      list of weak references to the object (if defined)\n",
      "\n",
      "None\n"
     ]
    }
   ],
   "source": [
    " class Person:\n",
    "        def __init__(self, name, age):\n",
    "            self.name = name  #The attributes which we have set in a class, we'll get output as a dictionary in a key value pairs.\n",
    "            self.age = age\n",
    "            self.version = 1\n",
    "           \n",
    "            \n",
    "p = Person(\"Satyam\", 21)\n",
    "print(p.__dict__)\n",
    "\n",
    "print(help(person))"
   ]
  },
  {
   "cell_type": "markdown",
   "id": "4c6ed5f2",
   "metadata": {},
   "source": [
    "# Super Keyword in Python"
   ]
  },
  {
   "cell_type": "markdown",
   "id": "1b6f4d0a",
   "metadata": {},
   "source": [
    "The super() keyword in Python is used to refer to the parent class. It is especially useful when a class inherits from multiple parent class and you want to call a method from one of the parent classes.\n",
    "\n",
    "\n",
    "When a class inherits from a parent class, it can override or extend the methods defined in the parent class. However, sometimes you might want to use the parent class method in the child class. This is where the super() keyword comes in handy.\n",
    "\n",
    "Here's an example of how to use the super() keyword in a simple inheritance "
   ]
  },
  {
   "cell_type": "code",
   "execution_count": 2,
   "id": "ae6f2232",
   "metadata": {},
   "outputs": [
    {
     "name": "stdout",
     "output_type": "stream",
     "text": [
      "this is the Child method2.\n",
      "This is the parent method1.\n",
      "Satyam2\n",
      "This is the parent method1.\n"
     ]
    }
   ],
   "source": [
    "class ParentClass:\n",
    "    def parent_method(self):\n",
    "        print(\"This is the parent method1.\")\n",
    "        \n",
    "class ChildClass(ParentClass):\n",
    "    def parent_method(self):\n",
    "        print(\"Satyam2\")\n",
    "        super().parent_method()\n",
    "        \n",
    "#class ChildClass(ParentClass):\n",
    "    def child_method(self):\n",
    "        print(\"this is the Child method2.\")\n",
    "        super().parent_method()   #Super keyword....\n",
    "        \n",
    "child_object = ChildClass()\n",
    "child_object.child_method()\n",
    "child_object.parent_method()\n",
    "\n",
    "\n",
    "\n",
    "\n"
   ]
  },
  {
   "cell_type": "code",
   "execution_count": 6,
   "id": "db824f71",
   "metadata": {},
   "outputs": [
    {
     "name": "stdout",
     "output_type": "stream",
     "text": [
      "Himanshu Das\n",
      "Satyam\n",
      "Python\n",
      "2653\n"
     ]
    }
   ],
   "source": [
    "class Employee:  #this is a subclass\n",
    "    def __init__(self, name, id):\n",
    "        self.name = name\n",
    "        self.id = id\n",
    "        \n",
    "class programmer(Employee):  #this is a super class\n",
    "    def __init__(self, name, id, lang):\n",
    "        self.name = name\n",
    "        super().__init__(name, id)\n",
    "        self.lang = lang\n",
    "        \n",
    "himanshu = Employee(\"Himanshu Das\", \"450\")\n",
    "satyam = programmer(\"Satyam\", \"2653\", \"Python\")\n",
    "print(himanshu.name)\n",
    "print(satyam.name)\n",
    "print(satyam.lang)\n",
    "print(satyam.id)\n",
    "\n"
   ]
  },
  {
   "cell_type": "markdown",
   "id": "20c4ef7a",
   "metadata": {},
   "source": [
    "# Magic/Dunder methods in Python  #doubt see the lecture again"
   ]
  },
  {
   "cell_type": "markdown",
   "id": "c28b43dc",
   "metadata": {},
   "source": [
    "These are special methods that you can define in your classes, and when invoked, they give you a powerful way to manipulate objects and their behaviour.\n",
    "\n",
    "Magic methods, also known as “dunders” from the double underscores surrounding their names, are powerful tools that allow you to customize the behaviour of your classes. They are used to implement special methods such as the addition, subtraction and comparison operators, as well as some more advanced techniques like descriptors and properties."
   ]
  },
  {
   "cell_type": "code",
   "execution_count": 11,
   "id": "d53716eb",
   "metadata": {},
   "outputs": [
    {
     "name": "stdout",
     "output_type": "stream",
     "text": [
      "Satyam\n",
      "6\n"
     ]
    }
   ],
   "source": [
    "class Employee:\n",
    "    name = \"Satyam\"\n",
    "    def __len__(self):  #here we have used len methods as raw method.\n",
    "        i = 0    #here it is a example of an __init__method\n",
    "        for c in self.name:\n",
    "            i = i+1\n",
    "        return i\n",
    "    \n",
    "a = Employee()\n",
    "print(a.name)\n",
    "print(len(a))  "
   ]
  },
  {
   "cell_type": "markdown",
   "id": "509ec10c",
   "metadata": {},
   "source": [
    "Let's take a look at some of the most commonly used magic methods in Python.\n",
    "\n",
    "1. __init__method: The init method is a special method that is automatically invoked when you create a new instance of a class. This method is responsible for setting up the object’s initial state, and it is where you would typically define any instance variables that you need. Also called \"constructor\", we have discussed this method already\n"
   ]
  },
  {
   "cell_type": "markdown",
   "id": "ce63398b",
   "metadata": {},
   "source": [
    "2. __str__ and __repr__ methods\n",
    "\n",
    "The str and repr methods are both used to convert an object to a string representation. The str method is used when you want to print out an object, while the repr method is used when you want to get a string representation of an object that can be used to recreate the object.\n",
    "\n",
    "3. __len__method: The len method is used to get the length of an object. This is useful when you want to be able to find the size of a data structure, such as a list or dictionary.\n",
    "\n",
    "\n",
    "4. __call__ method\n",
    "\n",
    "The call method is used to make an object callable, meaning that you can pass it as a parameter to a function and it will be executed when the function is called. This is an incredibly powerful tool that allows you to create objects that behave like functions.\n",
    "\n",
    "These are just a few of the many magic methods available in Python. They are incredibly powerful tools that allow you to customize the behaviour of your objects, and can make your code much cleaner and easier to understand. So if you’re looking for a way to take your Python code to the next level, take some time to learn about these magic methods."
   ]
  },
  {
   "cell_type": "code",
   "execution_count": 13,
   "id": "983ab757",
   "metadata": {},
   "outputs": [],
   "source": [
    "class Employee:\n",
    "    \n",
    "    def __init__(self, name):\n",
    "        self.name = name\n",
    "        \n",
    "    def __len__(self):\n",
    "        i = 0\n",
    "        for c in self.name:\n",
    "            i  = i + 1\n",
    "        return i\n",
    "    \n",
    "    def __str__(self):\n",
    "        return f\"The name of the employee is{self.name}\""
   ]
  },
  {
   "cell_type": "markdown",
   "id": "d96f8dec",
   "metadata": {},
   "source": [
    "# Method Overriding in Python"
   ]
  },
  {
   "cell_type": "markdown",
   "id": "cb474f3a",
   "metadata": {},
   "source": [
    "Method overriding is a powerful feature in object-oriented programming that allows you to redefine a method in a derived class. The method in the derived class is said to override the method in the base class. When you create an instance of the derived class and call the overridden method, the version of the method in the derived class is executed, rather than the version in the base class.\n",
    "\n",
    "In Python, method overriding is a way to customize the behavior of a class based on its specific needs. For example, consider the following base class:\n",
    "\n",
    "class Shape:"
   ]
  },
  {
   "cell_type": "code",
   "execution_count": 7,
   "id": "76577c84",
   "metadata": {},
   "outputs": [
    {
     "name": "stdout",
     "output_type": "stream",
     "text": [
      "78.5\n"
     ]
    }
   ],
   "source": [
    "class Shape:\n",
    "    def __init__(self, x, y):\n",
    "        self.x = x\n",
    "        self.y = y\n",
    "    \n",
    "    def area(self):\n",
    "        return self.x * self.y\n",
    "    \n",
    "#In this base class, the area method is defined, but does not have any implementation. If you want to create a derived class\n",
    "#that represents a circle, you can override the area method and provide an implementation that calculates the area of a circle:\n",
    "\n",
    "class Circle(Shape):\n",
    "    def __init__(self, radius):\n",
    "        self.radius = radius\n",
    "        super().__init__(radius, radius)  #Here super keywrod calls the area function or we can say that super keyword overrides the area function.\n",
    "\n",
    "    def area(self):\n",
    "        return 3.14 * super().area()\n",
    "    \n",
    "#rec = Shape(3,5)\n",
    "#print(rec.area())\n",
    "\n",
    "c = Circle(5)\n",
    "print(c.area())"
   ]
  },
  {
   "cell_type": "markdown",
   "id": "66e68058",
   "metadata": {},
   "source": [
    "In this example, the Circle class inherits from the Shape class, and overrides the area method. The new implementation of the area method calculates the area of a circle, based on its radius.\n",
    "\n",
    "It's important to note that when you override a method, the new implementation must have the same method signature as the original method. This means that the number and type of arguments, as well as the return type, must be the same.\n",
    "\n",
    "Another way to customize the behavior of a class is to call the base class method from the derived class method. To do this, you can use the super function. The super function allows you to call the base class method from the derived class method, and can be useful when you want to extend the behavior of the base class method, rather than replace it."
   ]
  },
  {
   "cell_type": "markdown",
   "id": "3783f2b6",
   "metadata": {},
   "source": [
    "# Operator Overloading in Python"
   ]
  },
  {
   "cell_type": "markdown",
   "id": "2898856f",
   "metadata": {},
   "source": [
    "Operator Overloading is a feature in Python that allows developers to redefine the behavior of mathematical and comparison operators for custom data types. This means that you can use the standard mathematical operators (+, -, *, /, etc.) and comparison operators (>, <, ==, etc.) in your own classes, just as you would for built-in data types like int, float, and str."
   ]
  },
  {
   "cell_type": "code",
   "execution_count": 13,
   "id": "4a42eff5",
   "metadata": {},
   "outputs": [
    {
     "name": "stdout",
     "output_type": "stream",
     "text": [
      "3i + 5j + 6k\n",
      "15i + 2j + 66k\n",
      "18i + 7j + 72k\n",
      "<class '__main__.vector'>\n"
     ]
    }
   ],
   "source": [
    "class vector:\n",
    "    def __init__(self, i, j, k):\n",
    "        self.i = i\n",
    "        self.j = j\n",
    "        self.k = k\n",
    "        \n",
    "    def __str__(self):\n",
    "        return f\"{self.i}i + {self.j}j + {self.k}k\"\n",
    "    \n",
    "    def __add__(self, x):  #If we have defined the add than it will automatically overload in the class.\n",
    "        return vector(self.i + x.i, self.j+ x.j, self.k+ x.k)  #this is why we used to call them as  a Operator Overloading.\n",
    "    \n",
    "v1 = vector(3, 5, 6)\n",
    "print(v1)\n",
    "v2 = vector(15,2,66)\n",
    "print(v2)\n",
    "\n",
    "print(v1+v2)\n",
    "print(type(v1+v2))\n",
    "\n",
    "\n"
   ]
  },
  {
   "cell_type": "markdown",
   "id": "235ba59e",
   "metadata": {},
   "source": [
    "* Why do we need Operator Overloading?\n",
    "\n",
    "Operator Overloading allows you to create more readable and intuitive code. For instance, consider a custom class that represents a point in 2D space. You could define a method called 'add' to add two points together, but using the + operator makes the code more concise and readable."
   ]
  },
  {
   "cell_type": "markdown",
   "id": "24f236f0",
   "metadata": {},
   "source": [
    "* How to overload an operator in Python?\n",
    "You can overload an Operator in python by defining special methods in your class. These methods are identified by their names, which start and end with doouble underscores (__). Here are some of the most commonly overloaded operators and their corresponding special methods.\n",
    "\n",
    "\n",
    "+ : __add__\n",
    "- : __sub__\n",
    "* : __mul__\n",
    "/ : __truediv__\n",
    "< : __lt__\n",
    "> : __gt__\n",
    "== : __eq__"
   ]
  },
  {
   "cell_type": "markdown",
   "id": "ae5dca87",
   "metadata": {},
   "source": [
    "For example, if you want to overload the + operator to add two instances of a custom class, you  would define the add method:\n"
   ]
  },
  {
   "cell_type": "code",
   "execution_count": 24,
   "id": "fc9fb0c7",
   "metadata": {},
   "outputs": [
    {
     "name": "stdout",
     "output_type": "stream",
     "text": [
      "Point(5, 8)\n"
     ]
    }
   ],
   "source": [
    "class Point:\n",
    "    def __init__(self, x, y):\n",
    "        self.x = x\n",
    "        self.y = y\n",
    "\n",
    "    def __add__(self, other):\n",
    "        return Point(self.x + other.x, self.y + other.y)\n",
    "\n",
    "    def __str__(self):\n",
    "        return f\"Point({self.x}, {self.y})\"\n",
    "\n",
    "a = Point(5, 8)\n",
    "print(a)\n"
   ]
  },
  {
   "cell_type": "markdown",
   "id": "8de62ba8",
   "metadata": {},
   "source": [
    "# Single Inheritance in Python"
   ]
  },
  {
   "cell_type": "markdown",
   "id": "ecdccd57",
   "metadata": {},
   "source": [
    "#Single Inheritance: Single Inheritance is a type of inheritance where a class inherits properties and behaviours from a single parent class. This is the simplest and most common form of inheritance.\n",
    "\n",
    "#Syntax\n",
    "\n",
    "The syntax for single inheritance in Python is straight forward and easy to understand. To create a new class that inherits from a parent class, simply specify the parent class in the class definition, inside the parentheses, like this....."
   ]
  },
  {
   "cell_type": "code",
   "execution_count": 30,
   "id": "59a087cb",
   "metadata": {},
   "outputs": [
    {
     "name": "stdout",
     "output_type": "stream",
     "text": [
      "Bark!\n",
      "Sound made by the animal\n"
     ]
    }
   ],
   "source": [
    "#class ChildClass(ParentClass):        #syntax for single inheritance\n",
    "    #class body\n",
    "    \n",
    "    \n",
    "class Animal:\n",
    "    def __init__(self, name, species):\n",
    "        self.name = name\n",
    "        self.sepcies = species\n",
    "        \n",
    "    def make_sound(self):\n",
    "        print(\"Sound made by the animal\")\n",
    "        \n",
    "\n",
    "class Dog(Animal):\n",
    "    def __init__(self, name, breed):\n",
    "        Animal.__init__(self, name, species=\"Dog\")\n",
    "        self.breed = breed\n",
    "        \n",
    "    def make_sound(self):\n",
    "        print(\"Bark!\")        \n",
    "\n",
    "        \n",
    "d = Dog(\"Dog\", \"Doggerman\")\n",
    "d.make_sound()\n",
    "\n",
    "a = Animal(\"Dog\", \"Dog\")\n",
    "a.make_sound()"
   ]
  },
  {
   "cell_type": "code",
   "execution_count": 31,
   "id": "3323d944",
   "metadata": {},
   "outputs": [],
   "source": [
    "class Animal:\n",
    "    def __init__(self, name, species):\n",
    "        self.name = name\n",
    "        self.species = species\n",
    "        \n",
    "    def make_sound(self):\n",
    "        print(\"Sound made by the animal\")\n",
    "        \n",
    "class Cat(Animal):\n",
    "    def __init__(self, name, sound):\n",
    "        Animal.__init__(self, name, species=\"Cat\")\n",
    "        self.sound = sound\n",
    "        \n",
    "    def make_sound(self):\n",
    "        print(\"meow\")\n",
    "    \n",
    "    "
   ]
  },
  {
   "cell_type": "code",
   "execution_count": null,
   "id": "c9979888",
   "metadata": {},
   "outputs": [],
   "source": [
    "class Animal:\n",
    "    def __init__(self, name, species):\n",
    "        self.name = name\n",
    "        self.species = species\n",
    "\n",
    "    def speak(self):\n",
    "        pass  # Generic method for all animals, to be overridden by specific animals\n",
    "\n",
    "class Cat(Animal):\n",
    "    def __init__(self, name, breed):\n",
    "        super().__init__(name, species=\"Cat\")\n",
    "        self.breed = breed\n",
    "        self.hunger = 0  # Initialize hunger level\n",
    "\n",
    "    def speak(self):\n",
    "        return f\"{self.name} says Meow!\"\n",
    "\n",
    "    def eat(self, food):\n",
    "        if food.lower() == \"fish\":\n",
    "            print(f\"{self.name} enjoys the fish!\")\n",
    "            self.hunger -= 1\n",
    "        else:\n",
    "            print(f\"{self.name} doesn't like {food}.\")\n",
    "            self.hunger += 1\n",
    "\n",
    "    def play(self):\n",
    "        print(f\"{self.name} is playing with a ball of yarn.\")\n",
    "        self.hunger += 1\n",
    "\n",
    "    def sleep(self):\n",
    "        print(f\"{self.name} is taking a catnap.\")\n",
    "        self.hunger += 1\n",
    "\n",
    "    def get_hunger_level(self):\n",
    "        return self.hunger\n",
    "\n",
    "# Example usage:\n",
    "if __name__ == \"__main__\":\n",
    "    my_cat = Cat(\"Whiskers\", \"Siamese\")\n",
    "    print(f\"{my_cat.name} is a {my_cat.species} of breed {my_cat.breed}.\")\n",
    "    print(my_cat.speak())\n",
    "\n",
    "    my_cat.eat(\"Fish\")\n",
    "    my_cat.play()\n",
    "    my_cat.sleep()\n",
    "\n",
    "    print(f\"{my_cat.name}'s hunger level: {my_cat.get_hunger_level()}\")\n",
    "\n",
    "    \n"
   ]
  },
  {
   "cell_type": "markdown",
   "id": "861a4303",
   "metadata": {},
   "source": [
    "# Multiple Inheritance in Python"
   ]
  },
  {
   "cell_type": "markdown",
   "id": "b86f6ceb",
   "metadata": {},
   "source": [
    "Multiple Inheritance is a powerful in object- oriented programming that allows a class to inherit attributes and methods from multiple parent classes. \n",
    "This can be useful in situations where a class needs to inherit functionality from multiple sources.\n",
    "\n",
    "#Syntax\n",
    "\n",
    "class ChildClass(ParentClass1, ParentClass2, ParentClass3):\n",
    "    #class body\n",
    "    \n",
    " In this example, the ChildClass inherits attributes and emthods from all three parent classes: ParentClass1, parentClass2, and ParentClass3.\n",
    "It's important to note that, in case of multiple inheritance, Python follows a method resolution order (MRO) to resolve conflicts between methods or attributes from different parent classes. The MRO determines the order in which parent classes are searched for attributes and methods.\n",
    "\n"
   ]
  },
  {
   "cell_type": "code",
   "execution_count": 6,
   "id": "6950d8dc",
   "metadata": {},
   "outputs": [
    {
     "name": "stdout",
     "output_type": "stream",
     "text": [
      "Satyam\n",
      "Kathak\n",
      "The dance is Kathak\n",
      "[<class '__main__.DancerEmployee'>, <class '__main__.Dancer'>, <class '__main__.Employee'>, <class 'object'>]\n"
     ]
    }
   ],
   "source": [
    "class Employee:\n",
    "    def __init__(self, name):\n",
    "        self.name = name\n",
    "    def show(self):  # here f string is used and show is a method\n",
    "        print(f\"The name is {self.name}\")\n",
    "\n",
    "\n",
    "class Dancer:\n",
    "    def __init__(self, dance):\n",
    "        self.dance = dance\n",
    "        \n",
    "    def show(self):  #show is a method\n",
    "        print(f\"The dance is {self.dance}\")\n",
    "        \n",
    "class DancerEmployee(Dancer, Employee):\n",
    "    def __init__(self, dance, name):\n",
    "        self.dance = dance\n",
    "        self.name = name\n",
    "        \n",
    "o = DancerEmployee(\"Kathak\", \"Satyam\")\n",
    "print(o.name)\n",
    "print(o.dance)\n",
    "o.show()\n",
    "print(DancerEmployee.mro())\n",
    "        \n",
    "\n",
    "    \n"
   ]
  },
  {
   "cell_type": "code",
   "execution_count": 11,
   "id": "6b860c13",
   "metadata": {},
   "outputs": [
    {
     "ename": "AttributeError",
     "evalue": "'Dog' object has no attribute 'Dog'",
     "output_type": "error",
     "traceback": [
      "\u001b[1;31m---------------------------------------------------------------------------\u001b[0m",
      "\u001b[1;31mAttributeError\u001b[0m                            Traceback (most recent call last)",
      "Cell \u001b[1;32mIn[11], line 25\u001b[0m\n\u001b[0;32m     23\u001b[0m o \u001b[38;5;241m=\u001b[39m Dog(\u001b[38;5;124m\"\u001b[39m\u001b[38;5;124mHimanshu\u001b[39m\u001b[38;5;124m\"\u001b[39m, \u001b[38;5;124m\"\u001b[39m\u001b[38;5;124mGoldenRetriver\u001b[39m\u001b[38;5;124m\"\u001b[39m, \u001b[38;5;124m\"\u001b[39m\u001b[38;5;124mBlack\u001b[39m\u001b[38;5;124m\"\u001b[39m)\n\u001b[0;32m     24\u001b[0m \u001b[38;5;66;03m#o.make_sound()\u001b[39;00m\n\u001b[1;32m---> 25\u001b[0m \u001b[43mo\u001b[49m\u001b[38;5;241;43m.\u001b[39;49m\u001b[43mDog\u001b[49m()\n",
      "\u001b[1;31mAttributeError\u001b[0m: 'Dog' object has no attribute 'Dog'"
     ]
    }
   ],
   "source": [
    "class Animal:\n",
    "    def __init__(self, name, species):\n",
    "        self.name = name\n",
    "        self.species = species\n",
    "        \n",
    "    def make_sound(self):\n",
    "        print(\"Sound made by the animal\")\n",
    "        \n",
    "class Mammal:\n",
    "    def __init__(self, name, fur_color):\n",
    "        self.name = name\n",
    "        self.fur_color = fur_color\n",
    "        \n",
    "class Dog(Animal, Mammal):\n",
    "    def __init__(self, name, breed, fur_color):\n",
    "        Animal.__init__(self, name, species=\"Dog\")\n",
    "        Mammal.__init__(self, name, fur_color)\n",
    "        self.breed = breed\n",
    "        \n",
    "   \n",
    "        \n",
    "    def make_sound(self):\n",
    "        print(\"Bark!\")\n",
    "        \n",
    "o = Dog(\"Himanshu\", \"GoldenRetriver\", \"Black\")\n",
    "#o.make_sound()\n",
    "        "
   ]
  },
  {
   "cell_type": "code",
   "execution_count": 4,
   "id": "85a128b8",
   "metadata": {},
   "outputs": [
    {
     "name": "stdout",
     "output_type": "stream",
     "text": [
      "Name: Buddy, Species: Dog, Breed: Golden Retriever, Fur Color: Golden\n",
      "Bark!\n"
     ]
    }
   ],
   "source": [
    "class Animal:\n",
    "    def __init__(self, name, species):\n",
    "        self.name = name\n",
    "        self.species = species\n",
    "        \n",
    "    def make_sound(self):\n",
    "        print(\"Sound made by the animal\")\n",
    "        \n",
    "class Mammal:\n",
    "    def __init__(self, name, fur_color):\n",
    "        self.name = name\n",
    "        self.fur_color = fur_color\n",
    "        \n",
    "class Dog(Animal, Mammal):\n",
    "    def __init__(self, name, species, breed, fur_color):\n",
    "        Animal.__init__(self, name, species)\n",
    "        Mammal.__init__(self, name, fur_color)\n",
    "        self.breed = breed\n",
    "        \n",
    "    def make_sound(self):\n",
    "        print(\"Bark!\")\n",
    "\n",
    "# Example usage\n",
    "dog = Dog(name=\"Buddy\", species=\"Dog\", breed=\"Golden Retriever\", fur_color=\"Golden\")\n",
    "print(f\"Name: {dog.name}, Species: {dog.species}, Breed: {dog.breed}, Fur Color: {dog.fur_color}\")\n",
    "dog.make_sound()\n"
   ]
  },
  {
   "cell_type": "markdown",
   "id": "481d057f",
   "metadata": {},
   "source": [
    "# Multilevel Inheritance in Python."
   ]
  },
  {
   "cell_type": "markdown",
   "id": "bd6dfb6d",
   "metadata": {},
   "source": [
    "Multilevel inheritance is a type of inheritance in object-oriented programming where a derived class inherits from another derived class. This type of inheritance allows you to build a hierarchy of classes where one class builds upon another, leading to a more specialized class.\n",
    "\n",
    "In Python, multilevel inheritance is achieved by using the class hierarchy. The syntax for multilevel inheritance is quite simple and follows the same syntax as single inheritance.\n",
    "\n",
    "\n",
    "Syntax:\n",
    "\n",
    "class BaseClass:\n",
    "    # Base class code\n",
    "    \n",
    "class DerivedClass1(BaseClass):\n",
    "    # Derived class 1 code\n",
    "    \n",
    "class DerivedClass2(DerivedClass1):\n",
    "    # Derived class 2 code"
   ]
  },
  {
   "cell_type": "code",
   "execution_count": 15,
   "id": "773429ac",
   "metadata": {},
   "outputs": [
    {
     "name": "stdout",
     "output_type": "stream",
     "text": [
      "Name: tommy\n",
      "Species: Dog\n",
      "Breed: Golden Retriever\n",
      "Color: Black\n",
      "[<class '__main__.GoldenRetriever'>, <class '__main__.Dog'>, <class '__main__.Animal'>, <class 'object'>]\n"
     ]
    }
   ],
   "source": [
    "class Animal:\n",
    "    def __init__(self, name, species):\n",
    "        self.name = name\n",
    "        self.species = species\n",
    "        \n",
    "    def show_details(self):\n",
    "        print(f\"Name: {self.name}\")\n",
    "        print(f\"Species: {self.species}\")\n",
    "        \n",
    "class Dog(Animal):\n",
    "    def __init__(self, name, breed):\n",
    "        Animal.__init__(self, name, species=\"Dog\")\n",
    "        self.breed = breed\n",
    "        \n",
    "    def show_details(self):\n",
    "        Animal.show_details(self)\n",
    "        print(f\"Breed: {self.breed}\")\n",
    "        \n",
    "class GoldenRetriever(Dog):\n",
    "    def __init__(self, name, color):\n",
    "        Dog.__init__(self, name, breed=\"Golden Retriever\")\n",
    "        self.color = color\n",
    "        \n",
    "    def show_details(self):\n",
    "        Dog.show_details(self)\n",
    "        print(f\"Color: {self.color}\")\n",
    "        \n",
    "o = GoldenRetriever(\"tommy\", \"Black\")\n",
    "o.show_details()\n",
    "print(GoldenRetriever.mro())\n"
   ]
  },
  {
   "cell_type": "markdown",
   "id": "369ba266",
   "metadata": {},
   "source": [
    "# Hybrid Inheritance in Python."
   ]
  },
  {
   "cell_type": "markdown",
   "id": "a3849131",
   "metadata": {},
   "source": [
    "Hybrid inheritance is a combination of multiple inheritance and single inheritance in object-oriented programming. It is a type of inheritance in which multiple inheritance is used to inherit the properties of multiple base classes into a single derived class, and single inheritance is used to inherit the properties of the derived class into a sub-derived class.\n",
    "\n",
    "In Python, hybrid inheritance can be implemented by creating a class hierarchy, in which a base class is inherited by multiple derived classes, and one of the derived classes is further inherited by a sub-derived class.\n",
    "\n",
    "Syntax:\n",
    "\n",
    "The syntax for implementing Hybrid Inheritance in Python is the same as for implementing Single Inheritance, Multiple Inheritance, or Hierarchical Inheritance.\n",
    "\n",
    "Here's the syntax for defining a hybrid inheritance class hierarchy:\n",
    "\n",
    "class BaseClass1:\n",
    "  #attributes and methods\n",
    "\n",
    "class BaseClass2:\n",
    "   #attributes and methods\n",
    "\n",
    "class DerivedClass(BaseClass1, BaseClass2):\n",
    "  #attributes and methods"
   ]
  },
  {
   "cell_type": "code",
   "execution_count": null,
   "id": "eeb88ec5",
   "metadata": {},
   "outputs": [],
   "source": [
    "class BaseClass:\n",
    "    pass\n",
    "\n",
    "class Derived1(BaseClass):\n",
    "    pass\n",
    "\n",
    "class Derived2(BaseClass):\n",
    "    pass\n",
    "\n",
    "\n",
    "class Derived3(Derived1, Derived2):\n",
    "    pass"
   ]
  },
  {
   "cell_type": "code",
   "execution_count": null,
   "id": "ce0b964e",
   "metadata": {},
   "outputs": [],
   "source": []
  },
  {
   "cell_type": "markdown",
   "id": "26ab4aaa",
   "metadata": {},
   "source": [
    "# Hierarchical Inheritance"
   ]
  },
  {
   "cell_type": "markdown",
   "id": "dba2002a",
   "metadata": {},
   "source": [
    "Hierarchical Inheritance is a type of inheritance in Object-Oriented Programming where multiple subclasses inherit from a single base class.\n",
    "In other words, a single base class acts as a parent class for multiple subclasses. This is a way of establishing relationships between classes in a hierarchical manner."
   ]
  },
  {
   "cell_type": "code",
   "execution_count": null,
   "id": "6199c3ef",
   "metadata": {},
   "outputs": [],
   "source": [
    "class BaseClass:\n",
    "    pass\n",
    "\n",
    "class D1(BaseClass):\n",
    "    pass\n",
    "\n",
    "class D2(BaseClass):\n",
    "    pass\n",
    "\n",
    "class D3(D1):\n",
    "    pass"
   ]
  },
  {
   "cell_type": "code",
   "execution_count": null,
   "id": "4f524bfb",
   "metadata": {},
   "outputs": [],
   "source": []
  },
  {
   "cell_type": "code",
   "execution_count": null,
   "id": "071bfb8f",
   "metadata": {},
   "outputs": [],
   "source": []
  },
  {
   "cell_type": "code",
   "execution_count": null,
   "id": "b373279d",
   "metadata": {},
   "outputs": [],
   "source": []
  },
  {
   "cell_type": "code",
   "execution_count": null,
   "id": "5ab162d1",
   "metadata": {},
   "outputs": [],
   "source": []
  },
  {
   "cell_type": "code",
   "execution_count": null,
   "id": "bf5c4914",
   "metadata": {},
   "outputs": [],
   "source": []
  },
  {
   "cell_type": "code",
   "execution_count": null,
   "id": "ab3b070a",
   "metadata": {},
   "outputs": [],
   "source": []
  },
  {
   "cell_type": "code",
   "execution_count": null,
   "id": "3eca1808",
   "metadata": {},
   "outputs": [],
   "source": []
  },
  {
   "cell_type": "code",
   "execution_count": null,
   "id": "96cc2e9e",
   "metadata": {},
   "outputs": [],
   "source": []
  },
  {
   "cell_type": "code",
   "execution_count": null,
   "id": "a67b0c47",
   "metadata": {},
   "outputs": [],
   "source": []
  },
  {
   "cell_type": "code",
   "execution_count": null,
   "id": "49de2d94",
   "metadata": {},
   "outputs": [],
   "source": []
  }
 ],
 "metadata": {
  "kernelspec": {
   "display_name": "Python 3 (ipykernel)",
   "language": "python",
   "name": "python3"
  },
  "language_info": {
   "codemirror_mode": {
    "name": "ipython",
    "version": 3
   },
   "file_extension": ".py",
   "mimetype": "text/x-python",
   "name": "python",
   "nbconvert_exporter": "python",
   "pygments_lexer": "ipython3",
   "version": "3.10.9"
  }
 },
 "nbformat": 4,
 "nbformat_minor": 5
}
